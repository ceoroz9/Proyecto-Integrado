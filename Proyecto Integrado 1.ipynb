{
 "cells": [
  {
   "cell_type": "markdown",
   "id": "ea86f6a5",
   "metadata": {},
   "source": [
    "# 1. Entendiendo la Data"
   ]
  },
  {
   "cell_type": "markdown",
   "id": "7fd9e6bd",
   "metadata": {},
   "source": [
    "- Importación necesaria de librerías para este proyecto"
   ]
  },
  {
   "cell_type": "code",
   "execution_count": 1,
   "id": "6baa9b05",
   "metadata": {},
   "outputs": [],
   "source": [
    "from scipy import stats as st \n",
    "import pandas as pd \n",
    "import matplotlib.pyplot as plt \n",
    "import numpy as np\n",
    "import seaborn as sns\n",
    "import nltk "
   ]
  },
  {
   "cell_type": "code",
   "execution_count": 2,
   "id": "d8fcc60e",
   "metadata": {},
   "outputs": [
    {
     "data": {
      "text/html": [
       "<div>\n",
       "<style scoped>\n",
       "    .dataframe tbody tr th:only-of-type {\n",
       "        vertical-align: middle;\n",
       "    }\n",
       "\n",
       "    .dataframe tbody tr th {\n",
       "        vertical-align: top;\n",
       "    }\n",
       "\n",
       "    .dataframe thead th {\n",
       "        text-align: right;\n",
       "    }\n",
       "</style>\n",
       "<table border=\"1\" class=\"dataframe\">\n",
       "  <thead>\n",
       "    <tr style=\"text-align: right;\">\n",
       "      <th></th>\n",
       "      <th>Name</th>\n",
       "      <th>Platform</th>\n",
       "      <th>Year_of_Release</th>\n",
       "      <th>Genre</th>\n",
       "      <th>NA_sales</th>\n",
       "      <th>EU_sales</th>\n",
       "      <th>JP_sales</th>\n",
       "      <th>Other_sales</th>\n",
       "      <th>Critic_Score</th>\n",
       "      <th>User_Score</th>\n",
       "      <th>Rating</th>\n",
       "    </tr>\n",
       "  </thead>\n",
       "  <tbody>\n",
       "    <tr>\n",
       "      <th>0</th>\n",
       "      <td>Wii Sports</td>\n",
       "      <td>Wii</td>\n",
       "      <td>2006.0</td>\n",
       "      <td>Sports</td>\n",
       "      <td>41.36</td>\n",
       "      <td>28.96</td>\n",
       "      <td>3.77</td>\n",
       "      <td>8.45</td>\n",
       "      <td>76.0</td>\n",
       "      <td>8</td>\n",
       "      <td>E</td>\n",
       "    </tr>\n",
       "    <tr>\n",
       "      <th>1</th>\n",
       "      <td>Super Mario Bros.</td>\n",
       "      <td>NES</td>\n",
       "      <td>1985.0</td>\n",
       "      <td>Platform</td>\n",
       "      <td>29.08</td>\n",
       "      <td>3.58</td>\n",
       "      <td>6.81</td>\n",
       "      <td>0.77</td>\n",
       "      <td>NaN</td>\n",
       "      <td>NaN</td>\n",
       "      <td>NaN</td>\n",
       "    </tr>\n",
       "    <tr>\n",
       "      <th>2</th>\n",
       "      <td>Mario Kart Wii</td>\n",
       "      <td>Wii</td>\n",
       "      <td>2008.0</td>\n",
       "      <td>Racing</td>\n",
       "      <td>15.68</td>\n",
       "      <td>12.76</td>\n",
       "      <td>3.79</td>\n",
       "      <td>3.29</td>\n",
       "      <td>82.0</td>\n",
       "      <td>8.3</td>\n",
       "      <td>E</td>\n",
       "    </tr>\n",
       "    <tr>\n",
       "      <th>3</th>\n",
       "      <td>Wii Sports Resort</td>\n",
       "      <td>Wii</td>\n",
       "      <td>2009.0</td>\n",
       "      <td>Sports</td>\n",
       "      <td>15.61</td>\n",
       "      <td>10.93</td>\n",
       "      <td>3.28</td>\n",
       "      <td>2.95</td>\n",
       "      <td>80.0</td>\n",
       "      <td>8</td>\n",
       "      <td>E</td>\n",
       "    </tr>\n",
       "    <tr>\n",
       "      <th>4</th>\n",
       "      <td>Pokemon Red/Pokemon Blue</td>\n",
       "      <td>GB</td>\n",
       "      <td>1996.0</td>\n",
       "      <td>Role-Playing</td>\n",
       "      <td>11.27</td>\n",
       "      <td>8.89</td>\n",
       "      <td>10.22</td>\n",
       "      <td>1.00</td>\n",
       "      <td>NaN</td>\n",
       "      <td>NaN</td>\n",
       "      <td>NaN</td>\n",
       "    </tr>\n",
       "  </tbody>\n",
       "</table>\n",
       "</div>"
      ],
      "text/plain": [
       "                       Name Platform  Year_of_Release         Genre  NA_sales  \\\n",
       "0                Wii Sports      Wii           2006.0        Sports     41.36   \n",
       "1         Super Mario Bros.      NES           1985.0      Platform     29.08   \n",
       "2            Mario Kart Wii      Wii           2008.0        Racing     15.68   \n",
       "3         Wii Sports Resort      Wii           2009.0        Sports     15.61   \n",
       "4  Pokemon Red/Pokemon Blue       GB           1996.0  Role-Playing     11.27   \n",
       "\n",
       "   EU_sales  JP_sales  Other_sales  Critic_Score User_Score Rating  \n",
       "0     28.96      3.77         8.45          76.0          8      E  \n",
       "1      3.58      6.81         0.77           NaN        NaN    NaN  \n",
       "2     12.76      3.79         3.29          82.0        8.3      E  \n",
       "3     10.93      3.28         2.95          80.0          8      E  \n",
       "4      8.89     10.22         1.00           NaN        NaN    NaN  "
      ]
     },
     "execution_count": 2,
     "metadata": {},
     "output_type": "execute_result"
    }
   ],
   "source": [
    "games = pd.read_csv('/datasets/games.csv')\n",
    "games.head()"
   ]
  },
  {
   "cell_type": "code",
   "execution_count": 3,
   "id": "9b2543b5",
   "metadata": {},
   "outputs": [
    {
     "name": "stdout",
     "output_type": "stream",
     "text": [
      "<class 'pandas.core.frame.DataFrame'>\n",
      "RangeIndex: 16715 entries, 0 to 16714\n",
      "Data columns (total 11 columns):\n",
      " #   Column           Non-Null Count  Dtype  \n",
      "---  ------           --------------  -----  \n",
      " 0   Name             16713 non-null  object \n",
      " 1   Platform         16715 non-null  object \n",
      " 2   Year_of_Release  16446 non-null  float64\n",
      " 3   Genre            16713 non-null  object \n",
      " 4   NA_sales         16715 non-null  float64\n",
      " 5   EU_sales         16715 non-null  float64\n",
      " 6   JP_sales         16715 non-null  float64\n",
      " 7   Other_sales      16715 non-null  float64\n",
      " 8   Critic_Score     8137 non-null   float64\n",
      " 9   User_Score       10014 non-null  object \n",
      " 10  Rating           9949 non-null   object \n",
      "dtypes: float64(6), object(5)\n",
      "memory usage: 1.4+ MB\n"
     ]
    }
   ],
   "source": [
    "games.info()"
   ]
  },
  {
   "cell_type": "code",
   "execution_count": 4,
   "id": "8ea6ece1",
   "metadata": {},
   "outputs": [
    {
     "data": {
      "text/html": [
       "<div>\n",
       "<style scoped>\n",
       "    .dataframe tbody tr th:only-of-type {\n",
       "        vertical-align: middle;\n",
       "    }\n",
       "\n",
       "    .dataframe tbody tr th {\n",
       "        vertical-align: top;\n",
       "    }\n",
       "\n",
       "    .dataframe thead th {\n",
       "        text-align: right;\n",
       "    }\n",
       "</style>\n",
       "<table border=\"1\" class=\"dataframe\">\n",
       "  <thead>\n",
       "    <tr style=\"text-align: right;\">\n",
       "      <th></th>\n",
       "      <th>Year_of_Release</th>\n",
       "      <th>NA_sales</th>\n",
       "      <th>EU_sales</th>\n",
       "      <th>JP_sales</th>\n",
       "      <th>Other_sales</th>\n",
       "      <th>Critic_Score</th>\n",
       "    </tr>\n",
       "  </thead>\n",
       "  <tbody>\n",
       "    <tr>\n",
       "      <th>count</th>\n",
       "      <td>16446.000000</td>\n",
       "      <td>16715.000000</td>\n",
       "      <td>16715.000000</td>\n",
       "      <td>16715.000000</td>\n",
       "      <td>16715.000000</td>\n",
       "      <td>8137.000000</td>\n",
       "    </tr>\n",
       "    <tr>\n",
       "      <th>mean</th>\n",
       "      <td>2006.484616</td>\n",
       "      <td>0.263377</td>\n",
       "      <td>0.145060</td>\n",
       "      <td>0.077617</td>\n",
       "      <td>0.047342</td>\n",
       "      <td>68.967679</td>\n",
       "    </tr>\n",
       "    <tr>\n",
       "      <th>std</th>\n",
       "      <td>5.877050</td>\n",
       "      <td>0.813604</td>\n",
       "      <td>0.503339</td>\n",
       "      <td>0.308853</td>\n",
       "      <td>0.186731</td>\n",
       "      <td>13.938165</td>\n",
       "    </tr>\n",
       "    <tr>\n",
       "      <th>min</th>\n",
       "      <td>1980.000000</td>\n",
       "      <td>0.000000</td>\n",
       "      <td>0.000000</td>\n",
       "      <td>0.000000</td>\n",
       "      <td>0.000000</td>\n",
       "      <td>13.000000</td>\n",
       "    </tr>\n",
       "    <tr>\n",
       "      <th>25%</th>\n",
       "      <td>2003.000000</td>\n",
       "      <td>0.000000</td>\n",
       "      <td>0.000000</td>\n",
       "      <td>0.000000</td>\n",
       "      <td>0.000000</td>\n",
       "      <td>60.000000</td>\n",
       "    </tr>\n",
       "    <tr>\n",
       "      <th>50%</th>\n",
       "      <td>2007.000000</td>\n",
       "      <td>0.080000</td>\n",
       "      <td>0.020000</td>\n",
       "      <td>0.000000</td>\n",
       "      <td>0.010000</td>\n",
       "      <td>71.000000</td>\n",
       "    </tr>\n",
       "    <tr>\n",
       "      <th>75%</th>\n",
       "      <td>2010.000000</td>\n",
       "      <td>0.240000</td>\n",
       "      <td>0.110000</td>\n",
       "      <td>0.040000</td>\n",
       "      <td>0.030000</td>\n",
       "      <td>79.000000</td>\n",
       "    </tr>\n",
       "    <tr>\n",
       "      <th>max</th>\n",
       "      <td>2016.000000</td>\n",
       "      <td>41.360000</td>\n",
       "      <td>28.960000</td>\n",
       "      <td>10.220000</td>\n",
       "      <td>10.570000</td>\n",
       "      <td>98.000000</td>\n",
       "    </tr>\n",
       "  </tbody>\n",
       "</table>\n",
       "</div>"
      ],
      "text/plain": [
       "       Year_of_Release      NA_sales      EU_sales      JP_sales  \\\n",
       "count     16446.000000  16715.000000  16715.000000  16715.000000   \n",
       "mean       2006.484616      0.263377      0.145060      0.077617   \n",
       "std           5.877050      0.813604      0.503339      0.308853   \n",
       "min        1980.000000      0.000000      0.000000      0.000000   \n",
       "25%        2003.000000      0.000000      0.000000      0.000000   \n",
       "50%        2007.000000      0.080000      0.020000      0.000000   \n",
       "75%        2010.000000      0.240000      0.110000      0.040000   \n",
       "max        2016.000000     41.360000     28.960000     10.220000   \n",
       "\n",
       "        Other_sales  Critic_Score  \n",
       "count  16715.000000   8137.000000  \n",
       "mean       0.047342     68.967679  \n",
       "std        0.186731     13.938165  \n",
       "min        0.000000     13.000000  \n",
       "25%        0.000000     60.000000  \n",
       "50%        0.010000     71.000000  \n",
       "75%        0.030000     79.000000  \n",
       "max       10.570000     98.000000  "
      ]
     },
     "execution_count": 4,
     "metadata": {},
     "output_type": "execute_result"
    }
   ],
   "source": [
    "games.describe()"
   ]
  },
  {
   "cell_type": "code",
   "execution_count": 5,
   "id": "766d283d",
   "metadata": {},
   "outputs": [
    {
     "data": {
      "text/html": [
       "<div>\n",
       "<style scoped>\n",
       "    .dataframe tbody tr th:only-of-type {\n",
       "        vertical-align: middle;\n",
       "    }\n",
       "\n",
       "    .dataframe tbody tr th {\n",
       "        vertical-align: top;\n",
       "    }\n",
       "\n",
       "    .dataframe thead th {\n",
       "        text-align: right;\n",
       "    }\n",
       "</style>\n",
       "<table border=\"1\" class=\"dataframe\">\n",
       "  <thead>\n",
       "    <tr style=\"text-align: right;\">\n",
       "      <th></th>\n",
       "      <th>Name</th>\n",
       "      <th>Platform</th>\n",
       "      <th>Genre</th>\n",
       "      <th>User_Score</th>\n",
       "      <th>Rating</th>\n",
       "    </tr>\n",
       "  </thead>\n",
       "  <tbody>\n",
       "    <tr>\n",
       "      <th>count</th>\n",
       "      <td>16713</td>\n",
       "      <td>16715</td>\n",
       "      <td>16713</td>\n",
       "      <td>10014</td>\n",
       "      <td>9949</td>\n",
       "    </tr>\n",
       "    <tr>\n",
       "      <th>unique</th>\n",
       "      <td>11559</td>\n",
       "      <td>31</td>\n",
       "      <td>12</td>\n",
       "      <td>96</td>\n",
       "      <td>8</td>\n",
       "    </tr>\n",
       "    <tr>\n",
       "      <th>top</th>\n",
       "      <td>Need for Speed: Most Wanted</td>\n",
       "      <td>PS2</td>\n",
       "      <td>Action</td>\n",
       "      <td>tbd</td>\n",
       "      <td>E</td>\n",
       "    </tr>\n",
       "    <tr>\n",
       "      <th>freq</th>\n",
       "      <td>12</td>\n",
       "      <td>2161</td>\n",
       "      <td>3369</td>\n",
       "      <td>2424</td>\n",
       "      <td>3990</td>\n",
       "    </tr>\n",
       "  </tbody>\n",
       "</table>\n",
       "</div>"
      ],
      "text/plain": [
       "                               Name Platform   Genre User_Score Rating\n",
       "count                         16713    16715   16713      10014   9949\n",
       "unique                        11559       31      12         96      8\n",
       "top     Need for Speed: Most Wanted      PS2  Action        tbd      E\n",
       "freq                             12     2161    3369       2424   3990"
      ]
     },
     "execution_count": 5,
     "metadata": {},
     "output_type": "execute_result"
    }
   ],
   "source": [
    "games.describe(include='object')"
   ]
  },
  {
   "cell_type": "code",
   "execution_count": 6,
   "id": "fcfeeb37",
   "metadata": {},
   "outputs": [
    {
     "data": {
      "text/plain": [
       "16715"
      ]
     },
     "execution_count": 6,
     "metadata": {},
     "output_type": "execute_result"
    }
   ],
   "source": [
    "original_length = len(games)\n",
    "original_length"
   ]
  },
  {
   "cell_type": "code",
   "execution_count": 7,
   "id": "86e202a1",
   "metadata": {},
   "outputs": [
    {
     "data": {
      "text/plain": [
       "Name                  2\n",
       "Platform              0\n",
       "Year_of_Release     269\n",
       "Genre                 2\n",
       "NA_sales              0\n",
       "EU_sales              0\n",
       "JP_sales              0\n",
       "Other_sales           0\n",
       "Critic_Score       8578\n",
       "User_Score         6701\n",
       "Rating             6766\n",
       "dtype: int64"
      ]
     },
     "execution_count": 7,
     "metadata": {},
     "output_type": "execute_result"
    }
   ],
   "source": [
    "games.isna().sum()"
   ]
  },
  {
   "cell_type": "code",
   "execution_count": 8,
   "id": "d958b8c3",
   "metadata": {},
   "outputs": [
    {
     "data": {
      "text/plain": [
       "Name                0.011965\n",
       "Platform            0.000000\n",
       "Year_of_Release     1.609333\n",
       "Genre               0.011965\n",
       "NA_sales            0.000000\n",
       "EU_sales            0.000000\n",
       "JP_sales            0.000000\n",
       "Other_sales         0.000000\n",
       "Critic_Score       51.319174\n",
       "User_Score         40.089740\n",
       "Rating             40.478612\n",
       "dtype: float64"
      ]
     },
     "execution_count": 8,
     "metadata": {},
     "output_type": "execute_result"
    }
   ],
   "source": [
    "games.isna().sum()/ len(games) * 100"
   ]
  },
  {
   "cell_type": "code",
   "execution_count": 9,
   "id": "d654725d",
   "metadata": {},
   "outputs": [
    {
     "data": {
      "text/plain": [
       "PS2     2161\n",
       "DS      2151\n",
       "PS3     1331\n",
       "Wii     1320\n",
       "X360    1262\n",
       "PSP     1209\n",
       "PS      1197\n",
       "PC       974\n",
       "XB       824\n",
       "GBA      822\n",
       "GC       556\n",
       "3DS      520\n",
       "PSV      430\n",
       "PS4      392\n",
       "N64      319\n",
       "XOne     247\n",
       "SNES     239\n",
       "SAT      173\n",
       "WiiU     147\n",
       "2600     133\n",
       "NES       98\n",
       "GB        98\n",
       "DC        52\n",
       "GEN       29\n",
       "NG        12\n",
       "WS         6\n",
       "SCD        6\n",
       "3DO        3\n",
       "TG16       2\n",
       "PCFX       1\n",
       "GG         1\n",
       "Name: Platform, dtype: int64"
      ]
     },
     "execution_count": 9,
     "metadata": {},
     "output_type": "execute_result"
    }
   ],
   "source": [
    "games['Platform'].value_counts()"
   ]
  },
  {
   "cell_type": "code",
   "execution_count": 10,
   "id": "57047ddf",
   "metadata": {},
   "outputs": [
    {
     "data": {
      "text/plain": [
       "31"
      ]
     },
     "execution_count": 10,
     "metadata": {},
     "output_type": "execute_result"
    }
   ],
   "source": [
    "games['Platform'].nunique()"
   ]
  },
  {
   "cell_type": "code",
   "execution_count": 11,
   "id": "4a897383",
   "metadata": {},
   "outputs": [],
   "source": [
    "def platform_company(x):\n",
    "    if x in ('Wii', 'NES','GB','DS', 'SNES','GBA','3DS','N64','WiiU','GC'): \n",
    "        return 'Nintendo'\n",
    "    elif x in ('X360','XB','XOne'):\n",
    "        return 'Microsoft'\n",
    "    elif x in ('PS3','PS2','PS4','PS','PSP','PSV'):\n",
    "        return 'Sony'\n",
    "    elif x in ('GEN','DC','SAT','SCD','GG'):\n",
    "        return 'Sega'\n",
    "    elif x in ('PC'):\n",
    "        return 'Unknown-PC'\n",
    "    elif x in ('2600'):\n",
    "        return 'Atari'\n",
    "    elif x in ('WS'):\n",
    "        return 'Bandai'\n",
    "    elif x in ('NG'):\n",
    "        return 'SNK'\n",
    "    elif x in ('TG16', 'PCFX'):\n",
    "        return 'NEC'\n",
    "    elif x in '3DO':\n",
    "        return '3DO'\n",
    "    else:\n",
    "        return 'Others'"
   ]
  },
  {
   "cell_type": "code",
   "execution_count": 12,
   "id": "5e977af9",
   "metadata": {},
   "outputs": [],
   "source": [
    "games['platform_company'] = games['Platform'].apply(platform_company)"
   ]
  },
  {
   "cell_type": "code",
   "execution_count": 13,
   "id": "2e6737df",
   "metadata": {},
   "outputs": [
    {
     "data": {
      "text/html": [
       "<div>\n",
       "<style scoped>\n",
       "    .dataframe tbody tr th:only-of-type {\n",
       "        vertical-align: middle;\n",
       "    }\n",
       "\n",
       "    .dataframe tbody tr th {\n",
       "        vertical-align: top;\n",
       "    }\n",
       "\n",
       "    .dataframe thead th {\n",
       "        text-align: right;\n",
       "    }\n",
       "</style>\n",
       "<table border=\"1\" class=\"dataframe\">\n",
       "  <thead>\n",
       "    <tr style=\"text-align: right;\">\n",
       "      <th></th>\n",
       "      <th>Name</th>\n",
       "      <th>Platform</th>\n",
       "      <th>Year_of_Release</th>\n",
       "      <th>Genre</th>\n",
       "      <th>NA_sales</th>\n",
       "      <th>EU_sales</th>\n",
       "      <th>JP_sales</th>\n",
       "      <th>Other_sales</th>\n",
       "      <th>Critic_Score</th>\n",
       "      <th>User_Score</th>\n",
       "      <th>Rating</th>\n",
       "      <th>platform_company</th>\n",
       "    </tr>\n",
       "  </thead>\n",
       "  <tbody>\n",
       "    <tr>\n",
       "      <th>11986</th>\n",
       "      <td>Ecco: The Tides of Time</td>\n",
       "      <td>GEN</td>\n",
       "      <td>1993.0</td>\n",
       "      <td>Adventure</td>\n",
       "      <td>0.00</td>\n",
       "      <td>0.00</td>\n",
       "      <td>0.07</td>\n",
       "      <td>0.00</td>\n",
       "      <td>NaN</td>\n",
       "      <td>NaN</td>\n",
       "      <td>NaN</td>\n",
       "      <td>Sega</td>\n",
       "    </tr>\n",
       "    <tr>\n",
       "      <th>6733</th>\n",
       "      <td>X-Men Origins: Wolverine</td>\n",
       "      <td>Wii</td>\n",
       "      <td>2009.0</td>\n",
       "      <td>Action</td>\n",
       "      <td>0.19</td>\n",
       "      <td>0.04</td>\n",
       "      <td>0.00</td>\n",
       "      <td>0.02</td>\n",
       "      <td>53.0</td>\n",
       "      <td>6.1</td>\n",
       "      <td>T</td>\n",
       "      <td>Nintendo</td>\n",
       "    </tr>\n",
       "    <tr>\n",
       "      <th>12939</th>\n",
       "      <td>Shaman King: Soul Fight</td>\n",
       "      <td>GC</td>\n",
       "      <td>2003.0</td>\n",
       "      <td>Platform</td>\n",
       "      <td>0.00</td>\n",
       "      <td>0.00</td>\n",
       "      <td>0.05</td>\n",
       "      <td>0.00</td>\n",
       "      <td>NaN</td>\n",
       "      <td>NaN</td>\n",
       "      <td>NaN</td>\n",
       "      <td>Nintendo</td>\n",
       "    </tr>\n",
       "    <tr>\n",
       "      <th>1478</th>\n",
       "      <td>Skylanders SWAP Force</td>\n",
       "      <td>X360</td>\n",
       "      <td>2013.0</td>\n",
       "      <td>Platform</td>\n",
       "      <td>0.86</td>\n",
       "      <td>0.34</td>\n",
       "      <td>0.00</td>\n",
       "      <td>0.12</td>\n",
       "      <td>83.0</td>\n",
       "      <td>5.7</td>\n",
       "      <td>E10+</td>\n",
       "      <td>Microsoft</td>\n",
       "    </tr>\n",
       "    <tr>\n",
       "      <th>835</th>\n",
       "      <td>Need for Speed: ProStreet</td>\n",
       "      <td>PS3</td>\n",
       "      <td>2007.0</td>\n",
       "      <td>Racing</td>\n",
       "      <td>0.73</td>\n",
       "      <td>0.91</td>\n",
       "      <td>0.04</td>\n",
       "      <td>0.36</td>\n",
       "      <td>73.0</td>\n",
       "      <td>6</td>\n",
       "      <td>E10+</td>\n",
       "      <td>Sony</td>\n",
       "    </tr>\n",
       "    <tr>\n",
       "      <th>5187</th>\n",
       "      <td>The Incredibles: Rise of the Underminer</td>\n",
       "      <td>PS2</td>\n",
       "      <td>2005.0</td>\n",
       "      <td>Action</td>\n",
       "      <td>0.18</td>\n",
       "      <td>0.14</td>\n",
       "      <td>0.00</td>\n",
       "      <td>0.05</td>\n",
       "      <td>60.0</td>\n",
       "      <td>7.1</td>\n",
       "      <td>E10+</td>\n",
       "      <td>Sony</td>\n",
       "    </tr>\n",
       "    <tr>\n",
       "      <th>5653</th>\n",
       "      <td>From TV Animation One Piece: Grand Battle! 3</td>\n",
       "      <td>PS2</td>\n",
       "      <td>2003.0</td>\n",
       "      <td>Fighting</td>\n",
       "      <td>0.00</td>\n",
       "      <td>0.00</td>\n",
       "      <td>0.32</td>\n",
       "      <td>0.00</td>\n",
       "      <td>NaN</td>\n",
       "      <td>NaN</td>\n",
       "      <td>NaN</td>\n",
       "      <td>Sony</td>\n",
       "    </tr>\n",
       "    <tr>\n",
       "      <th>3749</th>\n",
       "      <td>Valkyria Chronicles II</td>\n",
       "      <td>PSP</td>\n",
       "      <td>2010.0</td>\n",
       "      <td>Role-Playing</td>\n",
       "      <td>0.12</td>\n",
       "      <td>0.15</td>\n",
       "      <td>0.18</td>\n",
       "      <td>0.09</td>\n",
       "      <td>83.0</td>\n",
       "      <td>8.1</td>\n",
       "      <td>T</td>\n",
       "      <td>Sony</td>\n",
       "    </tr>\n",
       "    <tr>\n",
       "      <th>7329</th>\n",
       "      <td>Momotarou Dentetsu 16</td>\n",
       "      <td>PS2</td>\n",
       "      <td>2006.0</td>\n",
       "      <td>Misc</td>\n",
       "      <td>0.00</td>\n",
       "      <td>0.00</td>\n",
       "      <td>0.21</td>\n",
       "      <td>0.00</td>\n",
       "      <td>NaN</td>\n",
       "      <td>NaN</td>\n",
       "      <td>NaN</td>\n",
       "      <td>Sony</td>\n",
       "    </tr>\n",
       "    <tr>\n",
       "      <th>1232</th>\n",
       "      <td>NASCAR 98</td>\n",
       "      <td>PS</td>\n",
       "      <td>1996.0</td>\n",
       "      <td>Racing</td>\n",
       "      <td>1.43</td>\n",
       "      <td>0.05</td>\n",
       "      <td>0.00</td>\n",
       "      <td>0.04</td>\n",
       "      <td>NaN</td>\n",
       "      <td>NaN</td>\n",
       "      <td>NaN</td>\n",
       "      <td>Sony</td>\n",
       "    </tr>\n",
       "  </tbody>\n",
       "</table>\n",
       "</div>"
      ],
      "text/plain": [
       "                                               Name Platform  Year_of_Release  \\\n",
       "11986                       Ecco: The Tides of Time      GEN           1993.0   \n",
       "6733                       X-Men Origins: Wolverine      Wii           2009.0   \n",
       "12939                       Shaman King: Soul Fight       GC           2003.0   \n",
       "1478                          Skylanders SWAP Force     X360           2013.0   \n",
       "835                       Need for Speed: ProStreet      PS3           2007.0   \n",
       "5187        The Incredibles: Rise of the Underminer      PS2           2005.0   \n",
       "5653   From TV Animation One Piece: Grand Battle! 3      PS2           2003.0   \n",
       "3749                         Valkyria Chronicles II      PSP           2010.0   \n",
       "7329                          Momotarou Dentetsu 16      PS2           2006.0   \n",
       "1232                                      NASCAR 98       PS           1996.0   \n",
       "\n",
       "              Genre  NA_sales  EU_sales  JP_sales  Other_sales  Critic_Score  \\\n",
       "11986     Adventure      0.00      0.00      0.07         0.00           NaN   \n",
       "6733         Action      0.19      0.04      0.00         0.02          53.0   \n",
       "12939      Platform      0.00      0.00      0.05         0.00           NaN   \n",
       "1478       Platform      0.86      0.34      0.00         0.12          83.0   \n",
       "835          Racing      0.73      0.91      0.04         0.36          73.0   \n",
       "5187         Action      0.18      0.14      0.00         0.05          60.0   \n",
       "5653       Fighting      0.00      0.00      0.32         0.00           NaN   \n",
       "3749   Role-Playing      0.12      0.15      0.18         0.09          83.0   \n",
       "7329           Misc      0.00      0.00      0.21         0.00           NaN   \n",
       "1232         Racing      1.43      0.05      0.00         0.04           NaN   \n",
       "\n",
       "      User_Score Rating platform_company  \n",
       "11986        NaN    NaN             Sega  \n",
       "6733         6.1      T         Nintendo  \n",
       "12939        NaN    NaN         Nintendo  \n",
       "1478         5.7   E10+        Microsoft  \n",
       "835            6   E10+             Sony  \n",
       "5187         7.1   E10+             Sony  \n",
       "5653         NaN    NaN             Sony  \n",
       "3749         8.1      T             Sony  \n",
       "7329         NaN    NaN             Sony  \n",
       "1232         NaN    NaN             Sony  "
      ]
     },
     "execution_count": 13,
     "metadata": {},
     "output_type": "execute_result"
    }
   ],
   "source": [
    "games.sample(10)"
   ]
  },
  {
   "cell_type": "code",
   "execution_count": 14,
   "id": "35edcb30",
   "metadata": {},
   "outputs": [
    {
     "data": {
      "text/plain": [
       "Action          3369\n",
       "Sports          2348\n",
       "Misc            1750\n",
       "Role-Playing    1498\n",
       "Shooter         1323\n",
       "Adventure       1303\n",
       "Racing          1249\n",
       "Platform         888\n",
       "Simulation       873\n",
       "Fighting         849\n",
       "Strategy         683\n",
       "Puzzle           580\n",
       "Name: Genre, dtype: int64"
      ]
     },
     "execution_count": 14,
     "metadata": {},
     "output_type": "execute_result"
    }
   ],
   "source": [
    "games['Genre'].value_counts()"
   ]
  },
  {
   "cell_type": "code",
   "execution_count": 15,
   "id": "b5ca7d55",
   "metadata": {},
   "outputs": [
    {
     "data": {
      "text/plain": [
       "E       3990\n",
       "T       2961\n",
       "M       1563\n",
       "E10+    1420\n",
       "EC         8\n",
       "RP         3\n",
       "K-A        3\n",
       "AO         1\n",
       "Name: Rating, dtype: int64"
      ]
     },
     "execution_count": 15,
     "metadata": {},
     "output_type": "execute_result"
    }
   ],
   "source": [
    "games['Rating'].value_counts()"
   ]
  },
  {
   "cell_type": "code",
   "execution_count": 16,
   "id": "db61d478",
   "metadata": {},
   "outputs": [
    {
     "data": {
      "text/plain": [
       "8"
      ]
     },
     "execution_count": 16,
     "metadata": {},
     "output_type": "execute_result"
    }
   ],
   "source": [
    "games['Rating'].nunique()"
   ]
  },
  {
   "cell_type": "code",
   "execution_count": 17,
   "id": "6bc345be",
   "metadata": {},
   "outputs": [
    {
     "data": {
      "text/plain": [
       "tbd    2424\n",
       "7.8     324\n",
       "8       290\n",
       "8.2     282\n",
       "8.3     254\n",
       "       ... \n",
       "1.1       2\n",
       "0.6       2\n",
       "1.9       2\n",
       "9.7       1\n",
       "0         1\n",
       "Name: User_Score, Length: 96, dtype: int64"
      ]
     },
     "execution_count": 17,
     "metadata": {},
     "output_type": "execute_result"
    }
   ],
   "source": [
    "games['User_Score'].value_counts()"
   ]
  },
  {
   "cell_type": "code",
   "execution_count": 18,
   "id": "2fb2a566",
   "metadata": {},
   "outputs": [
    {
     "data": {
      "text/plain": [
       "array([76., nan, 82., 80., 89., 58., 87., 91., 61., 97., 95., 77., 88.,\n",
       "       83., 94., 93., 85., 86., 98., 96., 90., 84., 73., 74., 78., 92.,\n",
       "       71., 72., 68., 62., 49., 67., 81., 66., 56., 79., 70., 59., 64.,\n",
       "       75., 60., 63., 69., 50., 25., 42., 44., 55., 48., 57., 29., 47.,\n",
       "       65., 54., 20., 53., 37., 38., 33., 52., 30., 32., 43., 45., 51.,\n",
       "       40., 46., 39., 34., 35., 41., 36., 28., 31., 27., 26., 19., 23.,\n",
       "       24., 21., 17., 22., 13.])"
      ]
     },
     "execution_count": 18,
     "metadata": {},
     "output_type": "execute_result"
    }
   ],
   "source": [
    "games['Critic_Score'].unique()"
   ]
  },
  {
   "cell_type": "code",
   "execution_count": 19,
   "id": "170d9852",
   "metadata": {},
   "outputs": [
    {
     "data": {
      "text/plain": [
       "11559"
      ]
     },
     "execution_count": 19,
     "metadata": {},
     "output_type": "execute_result"
    }
   ],
   "source": [
    "games['Name'].nunique()"
   ]
  },
  {
   "cell_type": "code",
   "execution_count": 20,
   "id": "89cd833d",
   "metadata": {},
   "outputs": [
    {
     "data": {
      "text/plain": [
       "2008.0    1427\n",
       "2009.0    1426\n",
       "2010.0    1255\n",
       "2007.0    1197\n",
       "2011.0    1136\n",
       "2006.0    1006\n",
       "2005.0     939\n",
       "2002.0     829\n",
       "2003.0     775\n",
       "2004.0     762\n",
       "2012.0     653\n",
       "2015.0     606\n",
       "2014.0     581\n",
       "2013.0     544\n",
       "2016.0     502\n",
       "2001.0     482\n",
       "1998.0     379\n",
       "2000.0     350\n",
       "1999.0     338\n",
       "1997.0     289\n",
       "1996.0     263\n",
       "1995.0     219\n",
       "1994.0     121\n",
       "1993.0      62\n",
       "1981.0      46\n",
       "1992.0      43\n",
       "1991.0      41\n",
       "1982.0      36\n",
       "1986.0      21\n",
       "1989.0      17\n",
       "1983.0      17\n",
       "1987.0      16\n",
       "1990.0      16\n",
       "1988.0      15\n",
       "1984.0      14\n",
       "1985.0      14\n",
       "1980.0       9\n",
       "Name: Year_of_Release, dtype: int64"
      ]
     },
     "execution_count": 20,
     "metadata": {},
     "output_type": "execute_result"
    }
   ],
   "source": [
    "games['Year_of_Release'].value_counts()"
   ]
  },
  {
   "cell_type": "code",
   "execution_count": 21,
   "id": "9f2c9e0d",
   "metadata": {},
   "outputs": [
    {
     "data": {
      "text/plain": [
       "37"
      ]
     },
     "execution_count": 21,
     "metadata": {},
     "output_type": "execute_result"
    }
   ],
   "source": [
    "games['Year_of_Release'].nunique()"
   ]
  },
  {
   "cell_type": "code",
   "execution_count": 22,
   "id": "beb46c5b",
   "metadata": {},
   "outputs": [
    {
     "data": {
      "text/plain": [
       "1980.0"
      ]
     },
     "execution_count": 22,
     "metadata": {},
     "output_type": "execute_result"
    }
   ],
   "source": [
    "games['Year_of_Release'].min()"
   ]
  },
  {
   "cell_type": "code",
   "execution_count": 23,
   "id": "1174e890",
   "metadata": {},
   "outputs": [
    {
     "data": {
      "text/plain": [
       "2016.0"
      ]
     },
     "execution_count": 23,
     "metadata": {},
     "output_type": "execute_result"
    }
   ],
   "source": [
    "games['Year_of_Release'].max()"
   ]
  },
  {
   "cell_type": "code",
   "execution_count": 24,
   "id": "e2adffce",
   "metadata": {},
   "outputs": [
    {
     "data": {
      "text/plain": [
       "0"
      ]
     },
     "execution_count": 24,
     "metadata": {},
     "output_type": "execute_result"
    }
   ],
   "source": [
    "games.duplicated().sum()"
   ]
  },
  {
   "cell_type": "markdown",
   "id": "4535510e",
   "metadata": {},
   "source": [
    "- La tabla de datos del juego tiene muchos valores faltantes. En particular, Critic_Score, User_Score y Rating tienen más de la mitad de sus valores faltantes. Year_of_Release y Name tienen menos valores faltantes, pero aún hay algunos.\n",
    "\n",
    "- PS2 es la plataforma más popular, con 2161 lanzamientos, el género de accion es el más popular, y el rating E es la calificación más popular.\n",
    "\n",
    "- Los géneros se pueden cambiar a minúsculas y las plataformas se pueden agrupar por compañía de consolas. Las calificaciones se pueden dejar como están, pero se pueden agregar más detalles, como el organismo de calificación que las otorgó.\n",
    "\n",
    "- Los nombres de las columnas se pueden cambiar a minúsculas para que sean más fáciles de leer."
   ]
  },
  {
   "cell_type": "markdown",
   "id": "87613771",
   "metadata": {},
   "source": [
    "# 2. Preprocesamiento de Data"
   ]
  },
  {
   "cell_type": "code",
   "execution_count": 25,
   "id": "d63ba815",
   "metadata": {},
   "outputs": [],
   "source": [
    "games.columns = games.columns.str.lower()"
   ]
  },
  {
   "cell_type": "code",
   "execution_count": 26,
   "id": "3c997e9e",
   "metadata": {},
   "outputs": [
    {
     "name": "stdout",
     "output_type": "stream",
     "text": [
      "<class 'pandas.core.frame.DataFrame'>\n",
      "RangeIndex: 16715 entries, 0 to 16714\n",
      "Data columns (total 12 columns):\n",
      " #   Column            Non-Null Count  Dtype  \n",
      "---  ------            --------------  -----  \n",
      " 0   name              16713 non-null  object \n",
      " 1   platform          16715 non-null  object \n",
      " 2   year_of_release   16446 non-null  float64\n",
      " 3   genre             16713 non-null  object \n",
      " 4   na_sales          16715 non-null  float64\n",
      " 5   eu_sales          16715 non-null  float64\n",
      " 6   jp_sales          16715 non-null  float64\n",
      " 7   other_sales       16715 non-null  float64\n",
      " 8   critic_score      8137 non-null   float64\n",
      " 9   user_score        10014 non-null  object \n",
      " 10  rating            9949 non-null   object \n",
      " 11  platform_company  16715 non-null  object \n",
      "dtypes: float64(6), object(6)\n",
      "memory usage: 1.5+ MB\n"
     ]
    }
   ],
   "source": [
    "games.info()"
   ]
  },
  {
   "cell_type": "markdown",
   "id": "9aad2f73",
   "metadata": {},
   "source": [
    "- Todas las columnas están en minúscula ahora"
   ]
  },
  {
   "cell_type": "code",
   "execution_count": 27,
   "id": "9af17023",
   "metadata": {},
   "outputs": [
    {
     "data": {
      "text/html": [
       "<div>\n",
       "<style scoped>\n",
       "    .dataframe tbody tr th:only-of-type {\n",
       "        vertical-align: middle;\n",
       "    }\n",
       "\n",
       "    .dataframe tbody tr th {\n",
       "        vertical-align: top;\n",
       "    }\n",
       "\n",
       "    .dataframe thead th {\n",
       "        text-align: right;\n",
       "    }\n",
       "</style>\n",
       "<table border=\"1\" class=\"dataframe\">\n",
       "  <thead>\n",
       "    <tr style=\"text-align: right;\">\n",
       "      <th></th>\n",
       "      <th>name</th>\n",
       "      <th>platform</th>\n",
       "      <th>year_of_release</th>\n",
       "      <th>genre</th>\n",
       "      <th>na_sales</th>\n",
       "      <th>eu_sales</th>\n",
       "      <th>jp_sales</th>\n",
       "      <th>other_sales</th>\n",
       "      <th>critic_score</th>\n",
       "      <th>user_score</th>\n",
       "      <th>rating</th>\n",
       "      <th>platform_company</th>\n",
       "    </tr>\n",
       "  </thead>\n",
       "  <tbody>\n",
       "    <tr>\n",
       "      <th>0</th>\n",
       "      <td>Wii Sports</td>\n",
       "      <td>wii</td>\n",
       "      <td>2006.0</td>\n",
       "      <td>Sports</td>\n",
       "      <td>41.36</td>\n",
       "      <td>28.96</td>\n",
       "      <td>3.77</td>\n",
       "      <td>8.45</td>\n",
       "      <td>76.0</td>\n",
       "      <td>8</td>\n",
       "      <td>E</td>\n",
       "      <td>Nintendo</td>\n",
       "    </tr>\n",
       "    <tr>\n",
       "      <th>1</th>\n",
       "      <td>Super Mario Bros.</td>\n",
       "      <td>nes</td>\n",
       "      <td>1985.0</td>\n",
       "      <td>Platform</td>\n",
       "      <td>29.08</td>\n",
       "      <td>3.58</td>\n",
       "      <td>6.81</td>\n",
       "      <td>0.77</td>\n",
       "      <td>NaN</td>\n",
       "      <td>NaN</td>\n",
       "      <td>NaN</td>\n",
       "      <td>Nintendo</td>\n",
       "    </tr>\n",
       "    <tr>\n",
       "      <th>2</th>\n",
       "      <td>Mario Kart Wii</td>\n",
       "      <td>wii</td>\n",
       "      <td>2008.0</td>\n",
       "      <td>Racing</td>\n",
       "      <td>15.68</td>\n",
       "      <td>12.76</td>\n",
       "      <td>3.79</td>\n",
       "      <td>3.29</td>\n",
       "      <td>82.0</td>\n",
       "      <td>8.3</td>\n",
       "      <td>E</td>\n",
       "      <td>Nintendo</td>\n",
       "    </tr>\n",
       "    <tr>\n",
       "      <th>3</th>\n",
       "      <td>Wii Sports Resort</td>\n",
       "      <td>wii</td>\n",
       "      <td>2009.0</td>\n",
       "      <td>Sports</td>\n",
       "      <td>15.61</td>\n",
       "      <td>10.93</td>\n",
       "      <td>3.28</td>\n",
       "      <td>2.95</td>\n",
       "      <td>80.0</td>\n",
       "      <td>8</td>\n",
       "      <td>E</td>\n",
       "      <td>Nintendo</td>\n",
       "    </tr>\n",
       "    <tr>\n",
       "      <th>4</th>\n",
       "      <td>Pokemon Red/Pokemon Blue</td>\n",
       "      <td>gb</td>\n",
       "      <td>1996.0</td>\n",
       "      <td>Role-Playing</td>\n",
       "      <td>11.27</td>\n",
       "      <td>8.89</td>\n",
       "      <td>10.22</td>\n",
       "      <td>1.00</td>\n",
       "      <td>NaN</td>\n",
       "      <td>NaN</td>\n",
       "      <td>NaN</td>\n",
       "      <td>Nintendo</td>\n",
       "    </tr>\n",
       "  </tbody>\n",
       "</table>\n",
       "</div>"
      ],
      "text/plain": [
       "                       name platform  year_of_release         genre  na_sales  \\\n",
       "0                Wii Sports      wii           2006.0        Sports     41.36   \n",
       "1         Super Mario Bros.      nes           1985.0      Platform     29.08   \n",
       "2            Mario Kart Wii      wii           2008.0        Racing     15.68   \n",
       "3         Wii Sports Resort      wii           2009.0        Sports     15.61   \n",
       "4  Pokemon Red/Pokemon Blue       gb           1996.0  Role-Playing     11.27   \n",
       "\n",
       "   eu_sales  jp_sales  other_sales  critic_score user_score rating  \\\n",
       "0     28.96      3.77         8.45          76.0          8      E   \n",
       "1      3.58      6.81         0.77           NaN        NaN    NaN   \n",
       "2     12.76      3.79         3.29          82.0        8.3      E   \n",
       "3     10.93      3.28         2.95          80.0          8      E   \n",
       "4      8.89     10.22         1.00           NaN        NaN    NaN   \n",
       "\n",
       "  platform_company  \n",
       "0         Nintendo  \n",
       "1         Nintendo  \n",
       "2         Nintendo  \n",
       "3         Nintendo  \n",
       "4         Nintendo  "
      ]
     },
     "execution_count": 27,
     "metadata": {},
     "output_type": "execute_result"
    }
   ],
   "source": [
    "games['platform'] = games['platform'].str.lower()\n",
    "games.head()"
   ]
  },
  {
   "cell_type": "markdown",
   "id": "2e5dedf7",
   "metadata": {},
   "source": [
    "- Sólo tenemos que minúsculas los valores"
   ]
  },
  {
   "cell_type": "markdown",
   "id": "f73177b9",
   "metadata": {},
   "source": [
    "- Solo faltan 2 valores que se dejaron en blanco, y los valores se convertirán a minúscula"
   ]
  },
  {
   "cell_type": "code",
   "execution_count": 28,
   "id": "b7b38ef4",
   "metadata": {},
   "outputs": [
    {
     "data": {
      "text/html": [
       "<div>\n",
       "<style scoped>\n",
       "    .dataframe tbody tr th:only-of-type {\n",
       "        vertical-align: middle;\n",
       "    }\n",
       "\n",
       "    .dataframe tbody tr th {\n",
       "        vertical-align: top;\n",
       "    }\n",
       "\n",
       "    .dataframe thead th {\n",
       "        text-align: right;\n",
       "    }\n",
       "</style>\n",
       "<table border=\"1\" class=\"dataframe\">\n",
       "  <thead>\n",
       "    <tr style=\"text-align: right;\">\n",
       "      <th></th>\n",
       "      <th>name</th>\n",
       "      <th>platform</th>\n",
       "      <th>year_of_release</th>\n",
       "      <th>genre</th>\n",
       "      <th>na_sales</th>\n",
       "      <th>eu_sales</th>\n",
       "      <th>jp_sales</th>\n",
       "      <th>other_sales</th>\n",
       "      <th>critic_score</th>\n",
       "      <th>user_score</th>\n",
       "      <th>rating</th>\n",
       "      <th>platform_company</th>\n",
       "    </tr>\n",
       "  </thead>\n",
       "  <tbody>\n",
       "    <tr>\n",
       "      <th>0</th>\n",
       "      <td>wii sports</td>\n",
       "      <td>wii</td>\n",
       "      <td>2006.0</td>\n",
       "      <td>Sports</td>\n",
       "      <td>41.36</td>\n",
       "      <td>28.96</td>\n",
       "      <td>3.77</td>\n",
       "      <td>8.45</td>\n",
       "      <td>76.0</td>\n",
       "      <td>8</td>\n",
       "      <td>E</td>\n",
       "      <td>Nintendo</td>\n",
       "    </tr>\n",
       "    <tr>\n",
       "      <th>1</th>\n",
       "      <td>super mario bros.</td>\n",
       "      <td>nes</td>\n",
       "      <td>1985.0</td>\n",
       "      <td>Platform</td>\n",
       "      <td>29.08</td>\n",
       "      <td>3.58</td>\n",
       "      <td>6.81</td>\n",
       "      <td>0.77</td>\n",
       "      <td>NaN</td>\n",
       "      <td>NaN</td>\n",
       "      <td>NaN</td>\n",
       "      <td>Nintendo</td>\n",
       "    </tr>\n",
       "    <tr>\n",
       "      <th>2</th>\n",
       "      <td>mario kart wii</td>\n",
       "      <td>wii</td>\n",
       "      <td>2008.0</td>\n",
       "      <td>Racing</td>\n",
       "      <td>15.68</td>\n",
       "      <td>12.76</td>\n",
       "      <td>3.79</td>\n",
       "      <td>3.29</td>\n",
       "      <td>82.0</td>\n",
       "      <td>8.3</td>\n",
       "      <td>E</td>\n",
       "      <td>Nintendo</td>\n",
       "    </tr>\n",
       "    <tr>\n",
       "      <th>3</th>\n",
       "      <td>wii sports resort</td>\n",
       "      <td>wii</td>\n",
       "      <td>2009.0</td>\n",
       "      <td>Sports</td>\n",
       "      <td>15.61</td>\n",
       "      <td>10.93</td>\n",
       "      <td>3.28</td>\n",
       "      <td>2.95</td>\n",
       "      <td>80.0</td>\n",
       "      <td>8</td>\n",
       "      <td>E</td>\n",
       "      <td>Nintendo</td>\n",
       "    </tr>\n",
       "    <tr>\n",
       "      <th>4</th>\n",
       "      <td>pokemon red/pokemon blue</td>\n",
       "      <td>gb</td>\n",
       "      <td>1996.0</td>\n",
       "      <td>Role-Playing</td>\n",
       "      <td>11.27</td>\n",
       "      <td>8.89</td>\n",
       "      <td>10.22</td>\n",
       "      <td>1.00</td>\n",
       "      <td>NaN</td>\n",
       "      <td>NaN</td>\n",
       "      <td>NaN</td>\n",
       "      <td>Nintendo</td>\n",
       "    </tr>\n",
       "  </tbody>\n",
       "</table>\n",
       "</div>"
      ],
      "text/plain": [
       "                       name platform  year_of_release         genre  na_sales  \\\n",
       "0                wii sports      wii           2006.0        Sports     41.36   \n",
       "1         super mario bros.      nes           1985.0      Platform     29.08   \n",
       "2            mario kart wii      wii           2008.0        Racing     15.68   \n",
       "3         wii sports resort      wii           2009.0        Sports     15.61   \n",
       "4  pokemon red/pokemon blue       gb           1996.0  Role-Playing     11.27   \n",
       "\n",
       "   eu_sales  jp_sales  other_sales  critic_score user_score rating  \\\n",
       "0     28.96      3.77         8.45          76.0          8      E   \n",
       "1      3.58      6.81         0.77           NaN        NaN    NaN   \n",
       "2     12.76      3.79         3.29          82.0        8.3      E   \n",
       "3     10.93      3.28         2.95          80.0          8      E   \n",
       "4      8.89     10.22         1.00           NaN        NaN    NaN   \n",
       "\n",
       "  platform_company  \n",
       "0         Nintendo  \n",
       "1         Nintendo  \n",
       "2         Nintendo  \n",
       "3         Nintendo  \n",
       "4         Nintendo  "
      ]
     },
     "execution_count": 28,
     "metadata": {},
     "output_type": "execute_result"
    }
   ],
   "source": [
    "games['name'] = games['name'].str.lower()\n",
    "games.head()"
   ]
  },
  {
   "cell_type": "code",
   "execution_count": 29,
   "id": "279cf2d7",
   "metadata": {},
   "outputs": [
    {
     "data": {
      "text/plain": [
       "array(['wii sports', 'super mario bros.', 'mario kart wii', ...,\n",
       "       'woody woodpecker in crazy castle 5', 'lma manager 2007',\n",
       "       'haitaka no psychedelica'], dtype=object)"
      ]
     },
     "execution_count": 29,
     "metadata": {},
     "output_type": "execute_result"
    }
   ],
   "source": [
    "games['name'].unique()"
   ]
  },
  {
   "cell_type": "markdown",
   "id": "5845beb6",
   "metadata": {},
   "source": [
    "- Hay juegos en la lista que tienen el nombre de la plataforma en el nombre. Queremos que todos los juegos tengan el mismo nombre en todas las plataformas, así que vamos a escribir una función para eliminar el nombre de la plataforma del nombre del juego, si está presente. Esto es necesario porque queremos que todos los juegos tengan el mismo nombre en todas las plataformas. Usaremos bloques try-except para evitar que la función falle si encuentra un valor faltante."
   ]
  },
  {
   "cell_type": "code",
   "execution_count": 30,
   "id": "a5833b6b",
   "metadata": {},
   "outputs": [
    {
     "data": {
      "text/html": [
       "<div>\n",
       "<style scoped>\n",
       "    .dataframe tbody tr th:only-of-type {\n",
       "        vertical-align: middle;\n",
       "    }\n",
       "\n",
       "    .dataframe tbody tr th {\n",
       "        vertical-align: top;\n",
       "    }\n",
       "\n",
       "    .dataframe thead th {\n",
       "        text-align: right;\n",
       "    }\n",
       "</style>\n",
       "<table border=\"1\" class=\"dataframe\">\n",
       "  <thead>\n",
       "    <tr style=\"text-align: right;\">\n",
       "      <th></th>\n",
       "      <th>name</th>\n",
       "      <th>platform</th>\n",
       "      <th>year_of_release</th>\n",
       "      <th>genre</th>\n",
       "      <th>na_sales</th>\n",
       "      <th>eu_sales</th>\n",
       "      <th>jp_sales</th>\n",
       "      <th>other_sales</th>\n",
       "      <th>critic_score</th>\n",
       "      <th>user_score</th>\n",
       "      <th>rating</th>\n",
       "      <th>platform_company</th>\n",
       "    </tr>\n",
       "  </thead>\n",
       "  <tbody>\n",
       "    <tr>\n",
       "      <th>0</th>\n",
       "      <td>sports</td>\n",
       "      <td>wii</td>\n",
       "      <td>2006.0</td>\n",
       "      <td>Sports</td>\n",
       "      <td>41.36</td>\n",
       "      <td>28.96</td>\n",
       "      <td>3.77</td>\n",
       "      <td>8.45</td>\n",
       "      <td>76.0</td>\n",
       "      <td>8</td>\n",
       "      <td>E</td>\n",
       "      <td>Nintendo</td>\n",
       "    </tr>\n",
       "    <tr>\n",
       "      <th>1</th>\n",
       "      <td>super mario bros.</td>\n",
       "      <td>nes</td>\n",
       "      <td>1985.0</td>\n",
       "      <td>Platform</td>\n",
       "      <td>29.08</td>\n",
       "      <td>3.58</td>\n",
       "      <td>6.81</td>\n",
       "      <td>0.77</td>\n",
       "      <td>NaN</td>\n",
       "      <td>NaN</td>\n",
       "      <td>NaN</td>\n",
       "      <td>Nintendo</td>\n",
       "    </tr>\n",
       "    <tr>\n",
       "      <th>2</th>\n",
       "      <td>mario kart</td>\n",
       "      <td>wii</td>\n",
       "      <td>2008.0</td>\n",
       "      <td>Racing</td>\n",
       "      <td>15.68</td>\n",
       "      <td>12.76</td>\n",
       "      <td>3.79</td>\n",
       "      <td>3.29</td>\n",
       "      <td>82.0</td>\n",
       "      <td>8.3</td>\n",
       "      <td>E</td>\n",
       "      <td>Nintendo</td>\n",
       "    </tr>\n",
       "    <tr>\n",
       "      <th>3</th>\n",
       "      <td>sports resort</td>\n",
       "      <td>wii</td>\n",
       "      <td>2009.0</td>\n",
       "      <td>Sports</td>\n",
       "      <td>15.61</td>\n",
       "      <td>10.93</td>\n",
       "      <td>3.28</td>\n",
       "      <td>2.95</td>\n",
       "      <td>80.0</td>\n",
       "      <td>8</td>\n",
       "      <td>E</td>\n",
       "      <td>Nintendo</td>\n",
       "    </tr>\n",
       "    <tr>\n",
       "      <th>4</th>\n",
       "      <td>pokemon red/pokemon blue</td>\n",
       "      <td>gb</td>\n",
       "      <td>1996.0</td>\n",
       "      <td>Role-Playing</td>\n",
       "      <td>11.27</td>\n",
       "      <td>8.89</td>\n",
       "      <td>10.22</td>\n",
       "      <td>1.00</td>\n",
       "      <td>NaN</td>\n",
       "      <td>NaN</td>\n",
       "      <td>NaN</td>\n",
       "      <td>Nintendo</td>\n",
       "    </tr>\n",
       "  </tbody>\n",
       "</table>\n",
       "</div>"
      ],
      "text/plain": [
       "                       name platform  year_of_release         genre  na_sales  \\\n",
       "0                    sports      wii           2006.0        Sports     41.36   \n",
       "1         super mario bros.      nes           1985.0      Platform     29.08   \n",
       "2               mario kart       wii           2008.0        Racing     15.68   \n",
       "3             sports resort      wii           2009.0        Sports     15.61   \n",
       "4  pokemon red/pokemon blue       gb           1996.0  Role-Playing     11.27   \n",
       "\n",
       "   eu_sales  jp_sales  other_sales  critic_score user_score rating  \\\n",
       "0     28.96      3.77         8.45          76.0          8      E   \n",
       "1      3.58      6.81         0.77           NaN        NaN    NaN   \n",
       "2     12.76      3.79         3.29          82.0        8.3      E   \n",
       "3     10.93      3.28         2.95          80.0          8      E   \n",
       "4      8.89     10.22         1.00           NaN        NaN    NaN   \n",
       "\n",
       "  platform_company  \n",
       "0         Nintendo  \n",
       "1         Nintendo  \n",
       "2         Nintendo  \n",
       "3         Nintendo  \n",
       "4         Nintendo  "
      ]
     },
     "execution_count": 30,
     "metadata": {},
     "output_type": "execute_result"
    }
   ],
   "source": [
    "def no_p_name(row): \n",
    "    try: \n",
    "        name=row['name']   \n",
    "        if row['platform'] in row['name']:     \n",
    "            name = row['name'].strip(row['platform'])    \n",
    "            return name\n",
    "        return name\n",
    "    except:\n",
    "        name=row['name']\n",
    "        return name\n",
    "    \n",
    "games['name'] = games.apply(no_p_name, axis=1)\n",
    "games.head()"
   ]
  },
  {
   "cell_type": "code",
   "execution_count": 31,
   "id": "80f1bfe7",
   "metadata": {},
   "outputs": [
    {
     "data": {
      "text/plain": [
       "name                 object\n",
       "platform             object\n",
       "year_of_release     float64\n",
       "genre                object\n",
       "na_sales            float64\n",
       "eu_sales            float64\n",
       "jp_sales            float64\n",
       "other_sales         float64\n",
       "critic_score        float64\n",
       "user_score           object\n",
       "rating               object\n",
       "platform_company     object\n",
       "dtype: object"
      ]
     },
     "execution_count": 31,
     "metadata": {},
     "output_type": "execute_result"
    }
   ],
   "source": [
    "games.dtypes"
   ]
  },
  {
   "cell_type": "markdown",
   "id": "d1ff8276",
   "metadata": {},
   "source": [
    "- int32 o int64 pueden hacer cambio de tipo de datos incluso con los nulos"
   ]
  },
  {
   "cell_type": "code",
   "execution_count": 32,
   "id": "42c3e131",
   "metadata": {},
   "outputs": [],
   "source": [
    "games['year_of_release'] = games['year_of_release'].astype('Int64')"
   ]
  },
  {
   "cell_type": "markdown",
   "id": "09992bcd",
   "metadata": {},
   "source": [
    "- Al igual que la columna \"name\", la columna \"genre\" tiene un par de valores faltantes que quedarán en blanco, pero de igual manera cambiaré los valores a minúsculas."
   ]
  },
  {
   "cell_type": "code",
   "execution_count": 33,
   "id": "7f61c96b",
   "metadata": {},
   "outputs": [
    {
     "data": {
      "text/html": [
       "<div>\n",
       "<style scoped>\n",
       "    .dataframe tbody tr th:only-of-type {\n",
       "        vertical-align: middle;\n",
       "    }\n",
       "\n",
       "    .dataframe tbody tr th {\n",
       "        vertical-align: top;\n",
       "    }\n",
       "\n",
       "    .dataframe thead th {\n",
       "        text-align: right;\n",
       "    }\n",
       "</style>\n",
       "<table border=\"1\" class=\"dataframe\">\n",
       "  <thead>\n",
       "    <tr style=\"text-align: right;\">\n",
       "      <th></th>\n",
       "      <th>name</th>\n",
       "      <th>platform</th>\n",
       "      <th>year_of_release</th>\n",
       "      <th>genre</th>\n",
       "      <th>na_sales</th>\n",
       "      <th>eu_sales</th>\n",
       "      <th>jp_sales</th>\n",
       "      <th>other_sales</th>\n",
       "      <th>critic_score</th>\n",
       "      <th>user_score</th>\n",
       "      <th>rating</th>\n",
       "      <th>platform_company</th>\n",
       "    </tr>\n",
       "  </thead>\n",
       "  <tbody>\n",
       "    <tr>\n",
       "      <th>0</th>\n",
       "      <td>sports</td>\n",
       "      <td>wii</td>\n",
       "      <td>2006</td>\n",
       "      <td>sports</td>\n",
       "      <td>41.36</td>\n",
       "      <td>28.96</td>\n",
       "      <td>3.77</td>\n",
       "      <td>8.45</td>\n",
       "      <td>76.0</td>\n",
       "      <td>8</td>\n",
       "      <td>E</td>\n",
       "      <td>Nintendo</td>\n",
       "    </tr>\n",
       "    <tr>\n",
       "      <th>1</th>\n",
       "      <td>super mario bros.</td>\n",
       "      <td>nes</td>\n",
       "      <td>1985</td>\n",
       "      <td>platform</td>\n",
       "      <td>29.08</td>\n",
       "      <td>3.58</td>\n",
       "      <td>6.81</td>\n",
       "      <td>0.77</td>\n",
       "      <td>NaN</td>\n",
       "      <td>NaN</td>\n",
       "      <td>NaN</td>\n",
       "      <td>Nintendo</td>\n",
       "    </tr>\n",
       "    <tr>\n",
       "      <th>2</th>\n",
       "      <td>mario kart</td>\n",
       "      <td>wii</td>\n",
       "      <td>2008</td>\n",
       "      <td>racing</td>\n",
       "      <td>15.68</td>\n",
       "      <td>12.76</td>\n",
       "      <td>3.79</td>\n",
       "      <td>3.29</td>\n",
       "      <td>82.0</td>\n",
       "      <td>8.3</td>\n",
       "      <td>E</td>\n",
       "      <td>Nintendo</td>\n",
       "    </tr>\n",
       "    <tr>\n",
       "      <th>3</th>\n",
       "      <td>sports resort</td>\n",
       "      <td>wii</td>\n",
       "      <td>2009</td>\n",
       "      <td>sports</td>\n",
       "      <td>15.61</td>\n",
       "      <td>10.93</td>\n",
       "      <td>3.28</td>\n",
       "      <td>2.95</td>\n",
       "      <td>80.0</td>\n",
       "      <td>8</td>\n",
       "      <td>E</td>\n",
       "      <td>Nintendo</td>\n",
       "    </tr>\n",
       "    <tr>\n",
       "      <th>4</th>\n",
       "      <td>pokemon red/pokemon blue</td>\n",
       "      <td>gb</td>\n",
       "      <td>1996</td>\n",
       "      <td>role-playing</td>\n",
       "      <td>11.27</td>\n",
       "      <td>8.89</td>\n",
       "      <td>10.22</td>\n",
       "      <td>1.00</td>\n",
       "      <td>NaN</td>\n",
       "      <td>NaN</td>\n",
       "      <td>NaN</td>\n",
       "      <td>Nintendo</td>\n",
       "    </tr>\n",
       "    <tr>\n",
       "      <th>5</th>\n",
       "      <td>tetris</td>\n",
       "      <td>gb</td>\n",
       "      <td>1989</td>\n",
       "      <td>puzzle</td>\n",
       "      <td>23.20</td>\n",
       "      <td>2.26</td>\n",
       "      <td>4.22</td>\n",
       "      <td>0.58</td>\n",
       "      <td>NaN</td>\n",
       "      <td>NaN</td>\n",
       "      <td>NaN</td>\n",
       "      <td>Nintendo</td>\n",
       "    </tr>\n",
       "    <tr>\n",
       "      <th>6</th>\n",
       "      <td>new super mario bros.</td>\n",
       "      <td>ds</td>\n",
       "      <td>2006</td>\n",
       "      <td>platform</td>\n",
       "      <td>11.28</td>\n",
       "      <td>9.14</td>\n",
       "      <td>6.50</td>\n",
       "      <td>2.88</td>\n",
       "      <td>89.0</td>\n",
       "      <td>8.5</td>\n",
       "      <td>E</td>\n",
       "      <td>Nintendo</td>\n",
       "    </tr>\n",
       "    <tr>\n",
       "      <th>7</th>\n",
       "      <td>play</td>\n",
       "      <td>wii</td>\n",
       "      <td>2006</td>\n",
       "      <td>misc</td>\n",
       "      <td>13.96</td>\n",
       "      <td>9.18</td>\n",
       "      <td>2.93</td>\n",
       "      <td>2.84</td>\n",
       "      <td>58.0</td>\n",
       "      <td>6.6</td>\n",
       "      <td>E</td>\n",
       "      <td>Nintendo</td>\n",
       "    </tr>\n",
       "    <tr>\n",
       "      <th>8</th>\n",
       "      <td>new super mario bros.</td>\n",
       "      <td>wii</td>\n",
       "      <td>2009</td>\n",
       "      <td>platform</td>\n",
       "      <td>14.44</td>\n",
       "      <td>6.94</td>\n",
       "      <td>4.70</td>\n",
       "      <td>2.24</td>\n",
       "      <td>87.0</td>\n",
       "      <td>8.4</td>\n",
       "      <td>E</td>\n",
       "      <td>Nintendo</td>\n",
       "    </tr>\n",
       "    <tr>\n",
       "      <th>9</th>\n",
       "      <td>duck hunt</td>\n",
       "      <td>nes</td>\n",
       "      <td>1984</td>\n",
       "      <td>shooter</td>\n",
       "      <td>26.93</td>\n",
       "      <td>0.63</td>\n",
       "      <td>0.28</td>\n",
       "      <td>0.47</td>\n",
       "      <td>NaN</td>\n",
       "      <td>NaN</td>\n",
       "      <td>NaN</td>\n",
       "      <td>Nintendo</td>\n",
       "    </tr>\n",
       "  </tbody>\n",
       "</table>\n",
       "</div>"
      ],
      "text/plain": [
       "                       name platform  year_of_release         genre  na_sales  \\\n",
       "0                    sports      wii             2006        sports     41.36   \n",
       "1         super mario bros.      nes             1985      platform     29.08   \n",
       "2               mario kart       wii             2008        racing     15.68   \n",
       "3             sports resort      wii             2009        sports     15.61   \n",
       "4  pokemon red/pokemon blue       gb             1996  role-playing     11.27   \n",
       "5                    tetris       gb             1989        puzzle     23.20   \n",
       "6     new super mario bros.       ds             2006      platform     11.28   \n",
       "7                      play      wii             2006          misc     13.96   \n",
       "8    new super mario bros.       wii             2009      platform     14.44   \n",
       "9                 duck hunt      nes             1984       shooter     26.93   \n",
       "\n",
       "   eu_sales  jp_sales  other_sales  critic_score user_score rating  \\\n",
       "0     28.96      3.77         8.45          76.0          8      E   \n",
       "1      3.58      6.81         0.77           NaN        NaN    NaN   \n",
       "2     12.76      3.79         3.29          82.0        8.3      E   \n",
       "3     10.93      3.28         2.95          80.0          8      E   \n",
       "4      8.89     10.22         1.00           NaN        NaN    NaN   \n",
       "5      2.26      4.22         0.58           NaN        NaN    NaN   \n",
       "6      9.14      6.50         2.88          89.0        8.5      E   \n",
       "7      9.18      2.93         2.84          58.0        6.6      E   \n",
       "8      6.94      4.70         2.24          87.0        8.4      E   \n",
       "9      0.63      0.28         0.47           NaN        NaN    NaN   \n",
       "\n",
       "  platform_company  \n",
       "0         Nintendo  \n",
       "1         Nintendo  \n",
       "2         Nintendo  \n",
       "3         Nintendo  \n",
       "4         Nintendo  \n",
       "5         Nintendo  \n",
       "6         Nintendo  \n",
       "7         Nintendo  \n",
       "8         Nintendo  \n",
       "9         Nintendo  "
      ]
     },
     "execution_count": 33,
     "metadata": {},
     "output_type": "execute_result"
    }
   ],
   "source": [
    "games['genre'] = games['genre'].str.lower()\n",
    "games.head(10)"
   ]
  },
  {
   "cell_type": "code",
   "execution_count": 34,
   "id": "ec591cd8",
   "metadata": {},
   "outputs": [
    {
     "data": {
      "text/html": [
       "<div>\n",
       "<style scoped>\n",
       "    .dataframe tbody tr th:only-of-type {\n",
       "        vertical-align: middle;\n",
       "    }\n",
       "\n",
       "    .dataframe tbody tr th {\n",
       "        vertical-align: top;\n",
       "    }\n",
       "\n",
       "    .dataframe thead th {\n",
       "        text-align: right;\n",
       "    }\n",
       "</style>\n",
       "<table border=\"1\" class=\"dataframe\">\n",
       "  <thead>\n",
       "    <tr style=\"text-align: right;\">\n",
       "      <th></th>\n",
       "      <th>name</th>\n",
       "      <th>platform</th>\n",
       "      <th>year_of_release</th>\n",
       "      <th>genre</th>\n",
       "      <th>na_sales</th>\n",
       "      <th>eu_sales</th>\n",
       "      <th>jp_sales</th>\n",
       "      <th>other_sales</th>\n",
       "      <th>critic_score</th>\n",
       "      <th>user_score</th>\n",
       "      <th>rating</th>\n",
       "      <th>platform_company</th>\n",
       "    </tr>\n",
       "  </thead>\n",
       "  <tbody>\n",
       "    <tr>\n",
       "      <th>0</th>\n",
       "      <td>sports</td>\n",
       "      <td>wii</td>\n",
       "      <td>2006</td>\n",
       "      <td>sports</td>\n",
       "      <td>41.36</td>\n",
       "      <td>28.96</td>\n",
       "      <td>3.77</td>\n",
       "      <td>8.45</td>\n",
       "      <td>76.0</td>\n",
       "      <td>8</td>\n",
       "      <td>E</td>\n",
       "      <td>Nintendo</td>\n",
       "    </tr>\n",
       "    <tr>\n",
       "      <th>1</th>\n",
       "      <td>super mario bros.</td>\n",
       "      <td>nes</td>\n",
       "      <td>1985</td>\n",
       "      <td>platform</td>\n",
       "      <td>29.08</td>\n",
       "      <td>3.58</td>\n",
       "      <td>6.81</td>\n",
       "      <td>0.77</td>\n",
       "      <td>NaN</td>\n",
       "      <td>NaN</td>\n",
       "      <td>NaN</td>\n",
       "      <td>Nintendo</td>\n",
       "    </tr>\n",
       "    <tr>\n",
       "      <th>2</th>\n",
       "      <td>mario kart</td>\n",
       "      <td>wii</td>\n",
       "      <td>2008</td>\n",
       "      <td>racing</td>\n",
       "      <td>15.68</td>\n",
       "      <td>12.76</td>\n",
       "      <td>3.79</td>\n",
       "      <td>3.29</td>\n",
       "      <td>82.0</td>\n",
       "      <td>8.3</td>\n",
       "      <td>E</td>\n",
       "      <td>Nintendo</td>\n",
       "    </tr>\n",
       "    <tr>\n",
       "      <th>3</th>\n",
       "      <td>sports resort</td>\n",
       "      <td>wii</td>\n",
       "      <td>2009</td>\n",
       "      <td>sports</td>\n",
       "      <td>15.61</td>\n",
       "      <td>10.93</td>\n",
       "      <td>3.28</td>\n",
       "      <td>2.95</td>\n",
       "      <td>80.0</td>\n",
       "      <td>8</td>\n",
       "      <td>E</td>\n",
       "      <td>Nintendo</td>\n",
       "    </tr>\n",
       "    <tr>\n",
       "      <th>4</th>\n",
       "      <td>pokemon red/pokemon blue</td>\n",
       "      <td>gb</td>\n",
       "      <td>1996</td>\n",
       "      <td>role-playing</td>\n",
       "      <td>11.27</td>\n",
       "      <td>8.89</td>\n",
       "      <td>10.22</td>\n",
       "      <td>1.00</td>\n",
       "      <td>NaN</td>\n",
       "      <td>NaN</td>\n",
       "      <td>NaN</td>\n",
       "      <td>Nintendo</td>\n",
       "    </tr>\n",
       "    <tr>\n",
       "      <th>5</th>\n",
       "      <td>tetris</td>\n",
       "      <td>gb</td>\n",
       "      <td>1989</td>\n",
       "      <td>puzzle</td>\n",
       "      <td>23.20</td>\n",
       "      <td>2.26</td>\n",
       "      <td>4.22</td>\n",
       "      <td>0.58</td>\n",
       "      <td>NaN</td>\n",
       "      <td>NaN</td>\n",
       "      <td>NaN</td>\n",
       "      <td>Nintendo</td>\n",
       "    </tr>\n",
       "    <tr>\n",
       "      <th>6</th>\n",
       "      <td>new super mario bros.</td>\n",
       "      <td>ds</td>\n",
       "      <td>2006</td>\n",
       "      <td>platform</td>\n",
       "      <td>11.28</td>\n",
       "      <td>9.14</td>\n",
       "      <td>6.50</td>\n",
       "      <td>2.88</td>\n",
       "      <td>89.0</td>\n",
       "      <td>8.5</td>\n",
       "      <td>E</td>\n",
       "      <td>Nintendo</td>\n",
       "    </tr>\n",
       "    <tr>\n",
       "      <th>7</th>\n",
       "      <td>play</td>\n",
       "      <td>wii</td>\n",
       "      <td>2006</td>\n",
       "      <td>misc</td>\n",
       "      <td>13.96</td>\n",
       "      <td>9.18</td>\n",
       "      <td>2.93</td>\n",
       "      <td>2.84</td>\n",
       "      <td>58.0</td>\n",
       "      <td>6.6</td>\n",
       "      <td>E</td>\n",
       "      <td>Nintendo</td>\n",
       "    </tr>\n",
       "    <tr>\n",
       "      <th>8</th>\n",
       "      <td>new super mario bros.</td>\n",
       "      <td>wii</td>\n",
       "      <td>2009</td>\n",
       "      <td>platform</td>\n",
       "      <td>14.44</td>\n",
       "      <td>6.94</td>\n",
       "      <td>4.70</td>\n",
       "      <td>2.24</td>\n",
       "      <td>87.0</td>\n",
       "      <td>8.4</td>\n",
       "      <td>E</td>\n",
       "      <td>Nintendo</td>\n",
       "    </tr>\n",
       "    <tr>\n",
       "      <th>9</th>\n",
       "      <td>duck hunt</td>\n",
       "      <td>nes</td>\n",
       "      <td>1984</td>\n",
       "      <td>shooter</td>\n",
       "      <td>26.93</td>\n",
       "      <td>0.63</td>\n",
       "      <td>0.28</td>\n",
       "      <td>0.47</td>\n",
       "      <td>NaN</td>\n",
       "      <td>NaN</td>\n",
       "      <td>NaN</td>\n",
       "      <td>Nintendo</td>\n",
       "    </tr>\n",
       "  </tbody>\n",
       "</table>\n",
       "</div>"
      ],
      "text/plain": [
       "                       name platform  year_of_release         genre  na_sales  \\\n",
       "0                    sports      wii             2006        sports     41.36   \n",
       "1         super mario bros.      nes             1985      platform     29.08   \n",
       "2               mario kart       wii             2008        racing     15.68   \n",
       "3             sports resort      wii             2009        sports     15.61   \n",
       "4  pokemon red/pokemon blue       gb             1996  role-playing     11.27   \n",
       "5                    tetris       gb             1989        puzzle     23.20   \n",
       "6     new super mario bros.       ds             2006      platform     11.28   \n",
       "7                      play      wii             2006          misc     13.96   \n",
       "8    new super mario bros.       wii             2009      platform     14.44   \n",
       "9                 duck hunt      nes             1984       shooter     26.93   \n",
       "\n",
       "   eu_sales  jp_sales  other_sales  critic_score user_score rating  \\\n",
       "0     28.96      3.77         8.45          76.0          8      E   \n",
       "1      3.58      6.81         0.77           NaN        NaN    NaN   \n",
       "2     12.76      3.79         3.29          82.0        8.3      E   \n",
       "3     10.93      3.28         2.95          80.0          8      E   \n",
       "4      8.89     10.22         1.00           NaN        NaN    NaN   \n",
       "5      2.26      4.22         0.58           NaN        NaN    NaN   \n",
       "6      9.14      6.50         2.88          89.0        8.5      E   \n",
       "7      9.18      2.93         2.84          58.0        6.6      E   \n",
       "8      6.94      4.70         2.24          87.0        8.4      E   \n",
       "9      0.63      0.28         0.47           NaN        NaN    NaN   \n",
       "\n",
       "  platform_company  \n",
       "0         Nintendo  \n",
       "1         Nintendo  \n",
       "2         Nintendo  \n",
       "3         Nintendo  \n",
       "4         Nintendo  \n",
       "5         Nintendo  \n",
       "6         Nintendo  \n",
       "7         Nintendo  \n",
       "8         Nintendo  \n",
       "9         Nintendo  "
      ]
     },
     "execution_count": 34,
     "metadata": {},
     "output_type": "execute_result"
    }
   ],
   "source": [
    "games['genre'] = games['genre'].fillna('indefinido')\n",
    "games.head(10)"
   ]
  },
  {
   "cell_type": "code",
   "execution_count": 35,
   "id": "6610c6a5",
   "metadata": {},
   "outputs": [],
   "source": [
    "games['user_score'] = np.where(games['user_score'] == 'tbd', np.nan, games['user_score'])"
   ]
  },
  {
   "cell_type": "code",
   "execution_count": 36,
   "id": "6aa8fc9c",
   "metadata": {},
   "outputs": [],
   "source": [
    "games['user_score'] = games['user_score'].astype(float)"
   ]
  },
  {
   "cell_type": "code",
   "execution_count": 37,
   "id": "c0e1c716",
   "metadata": {},
   "outputs": [],
   "source": [
    "games['critic_score'] = games['critic_score'].astype('Int64')"
   ]
  },
  {
   "cell_type": "code",
   "execution_count": 38,
   "id": "62a1347b",
   "metadata": {},
   "outputs": [
    {
     "data": {
      "text/plain": [
       "name                 object\n",
       "platform             object\n",
       "year_of_release       Int64\n",
       "genre                object\n",
       "na_sales            float64\n",
       "eu_sales            float64\n",
       "jp_sales            float64\n",
       "other_sales         float64\n",
       "critic_score          Int64\n",
       "user_score          float64\n",
       "rating               object\n",
       "platform_company     object\n",
       "dtype: object"
      ]
     },
     "execution_count": 38,
     "metadata": {},
     "output_type": "execute_result"
    }
   ],
   "source": [
    "games.dtypes"
   ]
  },
  {
   "cell_type": "code",
   "execution_count": 39,
   "id": "36a12ca4",
   "metadata": {},
   "outputs": [
    {
     "data": {
      "text/plain": [
       "16715"
      ]
     },
     "execution_count": 39,
     "metadata": {},
     "output_type": "execute_result"
    }
   ],
   "source": [
    "original_length"
   ]
  },
  {
   "cell_type": "code",
   "execution_count": 40,
   "id": "caa62922",
   "metadata": {},
   "outputs": [
    {
     "data": {
      "text/plain": [
       "16713"
      ]
     },
     "execution_count": 40,
     "metadata": {},
     "output_type": "execute_result"
    }
   ],
   "source": [
    "games = games.dropna(subset=['name']) \n",
    "len(games)"
   ]
  },
  {
   "cell_type": "code",
   "execution_count": 41,
   "id": "4e016251",
   "metadata": {},
   "outputs": [
    {
     "data": {
      "text/plain": [
       "1.609332934489979"
      ]
     },
     "execution_count": 41,
     "metadata": {},
     "output_type": "execute_result"
    }
   ],
   "source": [
    "games['year_of_release'].isna().sum()/original_length*100"
   ]
  },
  {
   "cell_type": "code",
   "execution_count": 42,
   "id": "8f444c9f",
   "metadata": {},
   "outputs": [
    {
     "data": {
      "text/plain": [
       "16444"
      ]
     },
     "execution_count": 42,
     "metadata": {},
     "output_type": "execute_result"
    }
   ],
   "source": [
    "games = games.dropna(subset=['year_of_release']) \n",
    "len(games)"
   ]
  },
  {
   "cell_type": "code",
   "execution_count": 43,
   "id": "2bcac6c9",
   "metadata": {},
   "outputs": [
    {
     "data": {
      "text/plain": [
       "1.6212982351181626"
      ]
     },
     "execution_count": 43,
     "metadata": {},
     "output_type": "execute_result"
    }
   ],
   "source": [
    "(1-(len(games)/original_length))*100"
   ]
  },
  {
   "cell_type": "code",
   "execution_count": 44,
   "id": "72d45571",
   "metadata": {},
   "outputs": [
    {
     "data": {
      "text/plain": [
       "98.37870176488184"
      ]
     },
     "execution_count": 44,
     "metadata": {},
     "output_type": "execute_result"
    }
   ],
   "source": [
    "(len(games)/original_length)*100"
   ]
  },
  {
   "cell_type": "markdown",
   "id": "1f1815b1",
   "metadata": {},
   "source": [
    "- El total de datos a eliminar de year_of_release y name es solo el 1.62%, por lo que seguimos teniendo un 98.37% de datos con los que podemos trabajar."
   ]
  },
  {
   "cell_type": "markdown",
   "id": "3f6cc482",
   "metadata": {},
   "source": [
    "-  User_Score, Critic_Score y el Rating, tienen muchos valores perdidos, así que no los eliminaré porque se perdería mucha información. Se necesita más información e investigar por qué faltan tantos valores."
   ]
  },
  {
   "cell_type": "code",
   "execution_count": 45,
   "id": "e17ab098",
   "metadata": {},
   "outputs": [
    {
     "data": {
      "text/html": [
       "<div>\n",
       "<style scoped>\n",
       "    .dataframe tbody tr th:only-of-type {\n",
       "        vertical-align: middle;\n",
       "    }\n",
       "\n",
       "    .dataframe tbody tr th {\n",
       "        vertical-align: top;\n",
       "    }\n",
       "\n",
       "    .dataframe thead th {\n",
       "        text-align: right;\n",
       "    }\n",
       "</style>\n",
       "<table border=\"1\" class=\"dataframe\">\n",
       "  <thead>\n",
       "    <tr style=\"text-align: right;\">\n",
       "      <th></th>\n",
       "      <th>name</th>\n",
       "      <th>platform</th>\n",
       "      <th>year_of_release</th>\n",
       "      <th>genre</th>\n",
       "      <th>na_sales</th>\n",
       "      <th>eu_sales</th>\n",
       "      <th>jp_sales</th>\n",
       "      <th>other_sales</th>\n",
       "      <th>critic_score</th>\n",
       "      <th>user_score</th>\n",
       "      <th>rating</th>\n",
       "      <th>platform_company</th>\n",
       "    </tr>\n",
       "  </thead>\n",
       "  <tbody>\n",
       "    <tr>\n",
       "      <th>1</th>\n",
       "      <td>super mario bros.</td>\n",
       "      <td>nes</td>\n",
       "      <td>1985</td>\n",
       "      <td>platform</td>\n",
       "      <td>29.08</td>\n",
       "      <td>3.58</td>\n",
       "      <td>6.81</td>\n",
       "      <td>0.77</td>\n",
       "      <td>&lt;NA&gt;</td>\n",
       "      <td>NaN</td>\n",
       "      <td>NaN</td>\n",
       "      <td>Nintendo</td>\n",
       "    </tr>\n",
       "    <tr>\n",
       "      <th>4</th>\n",
       "      <td>pokemon red/pokemon blue</td>\n",
       "      <td>gb</td>\n",
       "      <td>1996</td>\n",
       "      <td>role-playing</td>\n",
       "      <td>11.27</td>\n",
       "      <td>8.89</td>\n",
       "      <td>10.22</td>\n",
       "      <td>1.00</td>\n",
       "      <td>&lt;NA&gt;</td>\n",
       "      <td>NaN</td>\n",
       "      <td>NaN</td>\n",
       "      <td>Nintendo</td>\n",
       "    </tr>\n",
       "    <tr>\n",
       "      <th>5</th>\n",
       "      <td>tetris</td>\n",
       "      <td>gb</td>\n",
       "      <td>1989</td>\n",
       "      <td>puzzle</td>\n",
       "      <td>23.20</td>\n",
       "      <td>2.26</td>\n",
       "      <td>4.22</td>\n",
       "      <td>0.58</td>\n",
       "      <td>&lt;NA&gt;</td>\n",
       "      <td>NaN</td>\n",
       "      <td>NaN</td>\n",
       "      <td>Nintendo</td>\n",
       "    </tr>\n",
       "    <tr>\n",
       "      <th>9</th>\n",
       "      <td>duck hunt</td>\n",
       "      <td>nes</td>\n",
       "      <td>1984</td>\n",
       "      <td>shooter</td>\n",
       "      <td>26.93</td>\n",
       "      <td>0.63</td>\n",
       "      <td>0.28</td>\n",
       "      <td>0.47</td>\n",
       "      <td>&lt;NA&gt;</td>\n",
       "      <td>NaN</td>\n",
       "      <td>NaN</td>\n",
       "      <td>Nintendo</td>\n",
       "    </tr>\n",
       "    <tr>\n",
       "      <th>10</th>\n",
       "      <td>nintendogs</td>\n",
       "      <td>ds</td>\n",
       "      <td>2005</td>\n",
       "      <td>simulation</td>\n",
       "      <td>9.05</td>\n",
       "      <td>10.95</td>\n",
       "      <td>1.93</td>\n",
       "      <td>2.74</td>\n",
       "      <td>&lt;NA&gt;</td>\n",
       "      <td>NaN</td>\n",
       "      <td>NaN</td>\n",
       "      <td>Nintendo</td>\n",
       "    </tr>\n",
       "    <tr>\n",
       "      <th>...</th>\n",
       "      <td>...</td>\n",
       "      <td>...</td>\n",
       "      <td>...</td>\n",
       "      <td>...</td>\n",
       "      <td>...</td>\n",
       "      <td>...</td>\n",
       "      <td>...</td>\n",
       "      <td>...</td>\n",
       "      <td>...</td>\n",
       "      <td>...</td>\n",
       "      <td>...</td>\n",
       "      <td>...</td>\n",
       "    </tr>\n",
       "    <tr>\n",
       "      <th>16710</th>\n",
       "      <td>samurai warriors: sanada maru</td>\n",
       "      <td>ps3</td>\n",
       "      <td>2016</td>\n",
       "      <td>action</td>\n",
       "      <td>0.00</td>\n",
       "      <td>0.00</td>\n",
       "      <td>0.01</td>\n",
       "      <td>0.00</td>\n",
       "      <td>&lt;NA&gt;</td>\n",
       "      <td>NaN</td>\n",
       "      <td>NaN</td>\n",
       "      <td>Sony</td>\n",
       "    </tr>\n",
       "    <tr>\n",
       "      <th>16711</th>\n",
       "      <td>lma manager 2007</td>\n",
       "      <td>x360</td>\n",
       "      <td>2006</td>\n",
       "      <td>sports</td>\n",
       "      <td>0.00</td>\n",
       "      <td>0.01</td>\n",
       "      <td>0.00</td>\n",
       "      <td>0.00</td>\n",
       "      <td>&lt;NA&gt;</td>\n",
       "      <td>NaN</td>\n",
       "      <td>NaN</td>\n",
       "      <td>Microsoft</td>\n",
       "    </tr>\n",
       "    <tr>\n",
       "      <th>16712</th>\n",
       "      <td>haitaka no psychedelica</td>\n",
       "      <td>psv</td>\n",
       "      <td>2016</td>\n",
       "      <td>adventure</td>\n",
       "      <td>0.00</td>\n",
       "      <td>0.00</td>\n",
       "      <td>0.01</td>\n",
       "      <td>0.00</td>\n",
       "      <td>&lt;NA&gt;</td>\n",
       "      <td>NaN</td>\n",
       "      <td>NaN</td>\n",
       "      <td>Sony</td>\n",
       "    </tr>\n",
       "    <tr>\n",
       "      <th>16713</th>\n",
       "      <td>spirits &amp; spells</td>\n",
       "      <td>gba</td>\n",
       "      <td>2003</td>\n",
       "      <td>platform</td>\n",
       "      <td>0.01</td>\n",
       "      <td>0.00</td>\n",
       "      <td>0.00</td>\n",
       "      <td>0.00</td>\n",
       "      <td>&lt;NA&gt;</td>\n",
       "      <td>NaN</td>\n",
       "      <td>NaN</td>\n",
       "      <td>Nintendo</td>\n",
       "    </tr>\n",
       "    <tr>\n",
       "      <th>16714</th>\n",
       "      <td>winning post 8 2016</td>\n",
       "      <td>psv</td>\n",
       "      <td>2016</td>\n",
       "      <td>simulation</td>\n",
       "      <td>0.00</td>\n",
       "      <td>0.00</td>\n",
       "      <td>0.01</td>\n",
       "      <td>0.00</td>\n",
       "      <td>&lt;NA&gt;</td>\n",
       "      <td>NaN</td>\n",
       "      <td>NaN</td>\n",
       "      <td>Sony</td>\n",
       "    </tr>\n",
       "  </tbody>\n",
       "</table>\n",
       "<p>8461 rows × 12 columns</p>\n",
       "</div>"
      ],
      "text/plain": [
       "                                name platform  year_of_release         genre  \\\n",
       "1                  super mario bros.      nes             1985      platform   \n",
       "4           pokemon red/pokemon blue       gb             1996  role-playing   \n",
       "5                             tetris       gb             1989        puzzle   \n",
       "9                          duck hunt      nes             1984       shooter   \n",
       "10                        nintendogs       ds             2005    simulation   \n",
       "...                              ...      ...              ...           ...   \n",
       "16710  samurai warriors: sanada maru      ps3             2016        action   \n",
       "16711               lma manager 2007     x360             2006        sports   \n",
       "16712        haitaka no psychedelica      psv             2016     adventure   \n",
       "16713               spirits & spells      gba             2003      platform   \n",
       "16714            winning post 8 2016      psv             2016    simulation   \n",
       "\n",
       "       na_sales  eu_sales  jp_sales  other_sales  critic_score  user_score  \\\n",
       "1         29.08      3.58      6.81         0.77          <NA>         NaN   \n",
       "4         11.27      8.89     10.22         1.00          <NA>         NaN   \n",
       "5         23.20      2.26      4.22         0.58          <NA>         NaN   \n",
       "9         26.93      0.63      0.28         0.47          <NA>         NaN   \n",
       "10         9.05     10.95      1.93         2.74          <NA>         NaN   \n",
       "...         ...       ...       ...          ...           ...         ...   \n",
       "16710      0.00      0.00      0.01         0.00          <NA>         NaN   \n",
       "16711      0.00      0.01      0.00         0.00          <NA>         NaN   \n",
       "16712      0.00      0.00      0.01         0.00          <NA>         NaN   \n",
       "16713      0.01      0.00      0.00         0.00          <NA>         NaN   \n",
       "16714      0.00      0.00      0.01         0.00          <NA>         NaN   \n",
       "\n",
       "      rating platform_company  \n",
       "1        NaN         Nintendo  \n",
       "4        NaN         Nintendo  \n",
       "5        NaN         Nintendo  \n",
       "9        NaN         Nintendo  \n",
       "10       NaN         Nintendo  \n",
       "...      ...              ...  \n",
       "16710    NaN             Sony  \n",
       "16711    NaN        Microsoft  \n",
       "16712    NaN             Sony  \n",
       "16713    NaN         Nintendo  \n",
       "16714    NaN             Sony  \n",
       "\n",
       "[8461 rows x 12 columns]"
      ]
     },
     "execution_count": 45,
     "metadata": {},
     "output_type": "execute_result"
    }
   ],
   "source": [
    "games.loc[games['critic_score'].isna()]"
   ]
  },
  {
   "cell_type": "code",
   "execution_count": 46,
   "id": "85f34419",
   "metadata": {},
   "outputs": [
    {
     "data": {
      "text/plain": [
       "action          8.710739\n",
       "misc            7.250972\n",
       "sports          6.826204\n",
       "adventure       5.821119\n",
       "role-playing    4.486988\n",
       "simulation      3.045169\n",
       "racing          2.997308\n",
       "fighting        2.584505\n",
       "platform        2.321268\n",
       "strategy        2.255459\n",
       "shooter         2.231529\n",
       "puzzle          2.087945\n",
       "Name: genre, dtype: float64"
      ]
     },
     "execution_count": 46,
     "metadata": {},
     "output_type": "execute_result"
    }
   ],
   "source": [
    "games.loc[games['critic_score'].isna()]['genre'].value_counts()/original_length *100"
   ]
  },
  {
   "cell_type": "code",
   "execution_count": 47,
   "id": "44a30d02",
   "metadata": {},
   "outputs": [
    {
     "data": {
      "text/plain": [
       "ds      8.453485\n",
       "ps      5.946754\n",
       "ps2     5.097218\n",
       "psp     4.409213\n",
       "wii     4.295543\n",
       "ps3     3.003290\n",
       "gba     2.279390\n",
       "3ds     2.069997\n",
       "x360    2.022136\n",
       "n64     1.890517\n",
       "psv     1.854622\n",
       "pc      1.543524\n",
       "snes    1.429853\n",
       "sat     1.034999\n",
       "ps4     0.837571\n",
       "2600    0.693987\n",
       "gc      0.628178\n",
       "nes     0.586300\n",
       "gb      0.580317\n",
       "xb      0.580317\n",
       "xone    0.466647\n",
       "wiiu    0.341011\n",
       "dc      0.227341\n",
       "gen     0.161532\n",
       "ng      0.071792\n",
       "ws      0.035896\n",
       "scd     0.035896\n",
       "3do     0.017948\n",
       "tg16    0.011965\n",
       "gg      0.005983\n",
       "pcfx    0.005983\n",
       "Name: platform, dtype: float64"
      ]
     },
     "execution_count": 47,
     "metadata": {},
     "output_type": "execute_result"
    }
   ],
   "source": [
    "games.loc[games['critic_score'].isna()]['platform'].value_counts()/original_length *100"
   ]
  },
  {
   "cell_type": "code",
   "execution_count": 48,
   "id": "31b72ca7",
   "metadata": {},
   "outputs": [
    {
     "data": {
      "text/plain": [
       "2009    4.636554\n",
       "2010    4.516901\n",
       "2008    4.259647\n",
       "2011    3.804966\n",
       "2007    3.021238\n",
       "2006    2.309303\n",
       "2015     2.27939\n",
       "1998     2.09991\n",
       "2012     1.98624\n",
       "2014    1.914448\n",
       "1999    1.788812\n",
       "2005    1.699073\n",
       "1997    1.627281\n",
       "2013    1.621298\n",
       "2016    1.615316\n",
       "1996    1.525576\n",
       "1995      1.3102\n",
       "2000    1.238409\n",
       "2002    1.208495\n",
       "2004    1.202513\n",
       "2003    1.136704\n",
       "2001    0.933293\n",
       "1994    0.717918\n",
       "1993    0.358959\n",
       "1981    0.275202\n",
       "1992    0.251271\n",
       "1991    0.245289\n",
       "1982    0.215375\n",
       "1986    0.125636\n",
       "1989    0.101705\n",
       "1983    0.101705\n",
       "1990    0.095722\n",
       "1987    0.095722\n",
       "1984    0.083757\n",
       "1988    0.083757\n",
       "1985    0.077774\n",
       "1980    0.053844\n",
       "Name: year_of_release, dtype: Float64"
      ]
     },
     "execution_count": 48,
     "metadata": {},
     "output_type": "execute_result"
    }
   ],
   "source": [
    "games.loc[games['critic_score'].isna()]['year_of_release'].value_counts()/original_length *100"
   ]
  },
  {
   "cell_type": "code",
   "execution_count": 49,
   "id": "ea03bb11",
   "metadata": {},
   "outputs": [
    {
     "data": {
      "text/plain": [
       "1980      9\n",
       "1985     13\n",
       "1984     14\n",
       "1988     14\n",
       "1987     16\n",
       "1990     16\n",
       "1989     17\n",
       "1983     17\n",
       "1986     21\n",
       "1982     36\n",
       "1992     41\n",
       "1991     41\n",
       "1981     46\n",
       "1993     60\n",
       "1994    120\n",
       "2001    143\n",
       "2003    162\n",
       "2004    164\n",
       "2002    174\n",
       "2000    202\n",
       "1995    219\n",
       "2016    222\n",
       "2013    228\n",
       "2005    233\n",
       "2014    236\n",
       "1996    256\n",
       "1997    270\n",
       "2015    291\n",
       "1999    296\n",
       "2012    298\n",
       "2006    328\n",
       "1998    347\n",
       "2007    376\n",
       "2009    415\n",
       "2011    433\n",
       "2008    446\n",
       "2010    456\n",
       "Name: year_of_release, dtype: Int64"
      ]
     },
     "execution_count": 49,
     "metadata": {},
     "output_type": "execute_result"
    }
   ],
   "source": [
    "games.loc[games['rating'].isna()]['year_of_release'].value_counts().sort_values()"
   ]
  },
  {
   "cell_type": "code",
   "execution_count": 50,
   "id": "288d92e8",
   "metadata": {},
   "outputs": [
    {
     "data": {
      "text/plain": [
       "ps      986\n",
       "ds      866\n",
       "ps2     671\n",
       "psp     657\n",
       "ps3     371\n",
       "n64     316\n",
       "wii     309\n",
       "gba     297\n",
       "3ds     289\n",
       "psv     279\n",
       "snes    239\n",
       "x360    202\n",
       "pc      200\n",
       "sat     173\n",
       "ps4     137\n",
       "2600    116\n",
       "nes      98\n",
       "gb       97\n",
       "xb       89\n",
       "gc       85\n",
       "xone     61\n",
       "wiiu     42\n",
       "dc       38\n",
       "gen      27\n",
       "ng       12\n",
       "ws        6\n",
       "scd       6\n",
       "3do       3\n",
       "tg16      2\n",
       "gg        1\n",
       "pcfx      1\n",
       "Name: platform, dtype: int64"
      ]
     },
     "execution_count": 50,
     "metadata": {},
     "output_type": "execute_result"
    }
   ],
   "source": [
    "games.loc[games['rating'].isna()]['platform'].value_counts()"
   ]
  },
  {
   "cell_type": "markdown",
   "id": "961dc346",
   "metadata": {},
   "source": [
    "- No veo una razón clara por la que haya tantos datos faltantes. Tal vez para la calificación, porque ESRB es un sistema de calificación de Estados Unidos, los datos faltantes sean para productos de juegos que no son de Estados Unidos."
   ]
  },
  {
   "cell_type": "code",
   "execution_count": 51,
   "id": "a1a0ba7d",
   "metadata": {},
   "outputs": [],
   "source": [
    "games['total_sales'] = games['na_sales'] + games['eu_sales'] + games['jp_sales'] + games['other_sales']"
   ]
  },
  {
   "cell_type": "code",
   "execution_count": 52,
   "id": "c75d5cbe",
   "metadata": {},
   "outputs": [
    {
     "data": {
      "text/html": [
       "<div>\n",
       "<style scoped>\n",
       "    .dataframe tbody tr th:only-of-type {\n",
       "        vertical-align: middle;\n",
       "    }\n",
       "\n",
       "    .dataframe tbody tr th {\n",
       "        vertical-align: top;\n",
       "    }\n",
       "\n",
       "    .dataframe thead th {\n",
       "        text-align: right;\n",
       "    }\n",
       "</style>\n",
       "<table border=\"1\" class=\"dataframe\">\n",
       "  <thead>\n",
       "    <tr style=\"text-align: right;\">\n",
       "      <th></th>\n",
       "      <th>name</th>\n",
       "      <th>platform</th>\n",
       "      <th>year_of_release</th>\n",
       "      <th>genre</th>\n",
       "      <th>na_sales</th>\n",
       "      <th>eu_sales</th>\n",
       "      <th>jp_sales</th>\n",
       "      <th>other_sales</th>\n",
       "      <th>critic_score</th>\n",
       "      <th>user_score</th>\n",
       "      <th>rating</th>\n",
       "      <th>platform_company</th>\n",
       "      <th>total_sales</th>\n",
       "    </tr>\n",
       "  </thead>\n",
       "  <tbody>\n",
       "    <tr>\n",
       "      <th>0</th>\n",
       "      <td>sports</td>\n",
       "      <td>wii</td>\n",
       "      <td>2006</td>\n",
       "      <td>sports</td>\n",
       "      <td>41.36</td>\n",
       "      <td>28.96</td>\n",
       "      <td>3.77</td>\n",
       "      <td>8.45</td>\n",
       "      <td>76</td>\n",
       "      <td>8.0</td>\n",
       "      <td>E</td>\n",
       "      <td>Nintendo</td>\n",
       "      <td>82.54</td>\n",
       "    </tr>\n",
       "    <tr>\n",
       "      <th>1</th>\n",
       "      <td>super mario bros.</td>\n",
       "      <td>nes</td>\n",
       "      <td>1985</td>\n",
       "      <td>platform</td>\n",
       "      <td>29.08</td>\n",
       "      <td>3.58</td>\n",
       "      <td>6.81</td>\n",
       "      <td>0.77</td>\n",
       "      <td>&lt;NA&gt;</td>\n",
       "      <td>NaN</td>\n",
       "      <td>NaN</td>\n",
       "      <td>Nintendo</td>\n",
       "      <td>40.24</td>\n",
       "    </tr>\n",
       "    <tr>\n",
       "      <th>2</th>\n",
       "      <td>mario kart</td>\n",
       "      <td>wii</td>\n",
       "      <td>2008</td>\n",
       "      <td>racing</td>\n",
       "      <td>15.68</td>\n",
       "      <td>12.76</td>\n",
       "      <td>3.79</td>\n",
       "      <td>3.29</td>\n",
       "      <td>82</td>\n",
       "      <td>8.3</td>\n",
       "      <td>E</td>\n",
       "      <td>Nintendo</td>\n",
       "      <td>35.52</td>\n",
       "    </tr>\n",
       "    <tr>\n",
       "      <th>3</th>\n",
       "      <td>sports resort</td>\n",
       "      <td>wii</td>\n",
       "      <td>2009</td>\n",
       "      <td>sports</td>\n",
       "      <td>15.61</td>\n",
       "      <td>10.93</td>\n",
       "      <td>3.28</td>\n",
       "      <td>2.95</td>\n",
       "      <td>80</td>\n",
       "      <td>8.0</td>\n",
       "      <td>E</td>\n",
       "      <td>Nintendo</td>\n",
       "      <td>32.77</td>\n",
       "    </tr>\n",
       "    <tr>\n",
       "      <th>4</th>\n",
       "      <td>pokemon red/pokemon blue</td>\n",
       "      <td>gb</td>\n",
       "      <td>1996</td>\n",
       "      <td>role-playing</td>\n",
       "      <td>11.27</td>\n",
       "      <td>8.89</td>\n",
       "      <td>10.22</td>\n",
       "      <td>1.00</td>\n",
       "      <td>&lt;NA&gt;</td>\n",
       "      <td>NaN</td>\n",
       "      <td>NaN</td>\n",
       "      <td>Nintendo</td>\n",
       "      <td>31.38</td>\n",
       "    </tr>\n",
       "    <tr>\n",
       "      <th>5</th>\n",
       "      <td>tetris</td>\n",
       "      <td>gb</td>\n",
       "      <td>1989</td>\n",
       "      <td>puzzle</td>\n",
       "      <td>23.20</td>\n",
       "      <td>2.26</td>\n",
       "      <td>4.22</td>\n",
       "      <td>0.58</td>\n",
       "      <td>&lt;NA&gt;</td>\n",
       "      <td>NaN</td>\n",
       "      <td>NaN</td>\n",
       "      <td>Nintendo</td>\n",
       "      <td>30.26</td>\n",
       "    </tr>\n",
       "    <tr>\n",
       "      <th>6</th>\n",
       "      <td>new super mario bros.</td>\n",
       "      <td>ds</td>\n",
       "      <td>2006</td>\n",
       "      <td>platform</td>\n",
       "      <td>11.28</td>\n",
       "      <td>9.14</td>\n",
       "      <td>6.50</td>\n",
       "      <td>2.88</td>\n",
       "      <td>89</td>\n",
       "      <td>8.5</td>\n",
       "      <td>E</td>\n",
       "      <td>Nintendo</td>\n",
       "      <td>29.80</td>\n",
       "    </tr>\n",
       "    <tr>\n",
       "      <th>7</th>\n",
       "      <td>play</td>\n",
       "      <td>wii</td>\n",
       "      <td>2006</td>\n",
       "      <td>misc</td>\n",
       "      <td>13.96</td>\n",
       "      <td>9.18</td>\n",
       "      <td>2.93</td>\n",
       "      <td>2.84</td>\n",
       "      <td>58</td>\n",
       "      <td>6.6</td>\n",
       "      <td>E</td>\n",
       "      <td>Nintendo</td>\n",
       "      <td>28.91</td>\n",
       "    </tr>\n",
       "    <tr>\n",
       "      <th>8</th>\n",
       "      <td>new super mario bros.</td>\n",
       "      <td>wii</td>\n",
       "      <td>2009</td>\n",
       "      <td>platform</td>\n",
       "      <td>14.44</td>\n",
       "      <td>6.94</td>\n",
       "      <td>4.70</td>\n",
       "      <td>2.24</td>\n",
       "      <td>87</td>\n",
       "      <td>8.4</td>\n",
       "      <td>E</td>\n",
       "      <td>Nintendo</td>\n",
       "      <td>28.32</td>\n",
       "    </tr>\n",
       "    <tr>\n",
       "      <th>9</th>\n",
       "      <td>duck hunt</td>\n",
       "      <td>nes</td>\n",
       "      <td>1984</td>\n",
       "      <td>shooter</td>\n",
       "      <td>26.93</td>\n",
       "      <td>0.63</td>\n",
       "      <td>0.28</td>\n",
       "      <td>0.47</td>\n",
       "      <td>&lt;NA&gt;</td>\n",
       "      <td>NaN</td>\n",
       "      <td>NaN</td>\n",
       "      <td>Nintendo</td>\n",
       "      <td>28.31</td>\n",
       "    </tr>\n",
       "  </tbody>\n",
       "</table>\n",
       "</div>"
      ],
      "text/plain": [
       "                       name platform  year_of_release         genre  na_sales  \\\n",
       "0                    sports      wii             2006        sports     41.36   \n",
       "1         super mario bros.      nes             1985      platform     29.08   \n",
       "2               mario kart       wii             2008        racing     15.68   \n",
       "3             sports resort      wii             2009        sports     15.61   \n",
       "4  pokemon red/pokemon blue       gb             1996  role-playing     11.27   \n",
       "5                    tetris       gb             1989        puzzle     23.20   \n",
       "6     new super mario bros.       ds             2006      platform     11.28   \n",
       "7                      play      wii             2006          misc     13.96   \n",
       "8    new super mario bros.       wii             2009      platform     14.44   \n",
       "9                 duck hunt      nes             1984       shooter     26.93   \n",
       "\n",
       "   eu_sales  jp_sales  other_sales  critic_score  user_score rating  \\\n",
       "0     28.96      3.77         8.45            76         8.0      E   \n",
       "1      3.58      6.81         0.77          <NA>         NaN    NaN   \n",
       "2     12.76      3.79         3.29            82         8.3      E   \n",
       "3     10.93      3.28         2.95            80         8.0      E   \n",
       "4      8.89     10.22         1.00          <NA>         NaN    NaN   \n",
       "5      2.26      4.22         0.58          <NA>         NaN    NaN   \n",
       "6      9.14      6.50         2.88            89         8.5      E   \n",
       "7      9.18      2.93         2.84            58         6.6      E   \n",
       "8      6.94      4.70         2.24            87         8.4      E   \n",
       "9      0.63      0.28         0.47          <NA>         NaN    NaN   \n",
       "\n",
       "  platform_company  total_sales  \n",
       "0         Nintendo        82.54  \n",
       "1         Nintendo        40.24  \n",
       "2         Nintendo        35.52  \n",
       "3         Nintendo        32.77  \n",
       "4         Nintendo        31.38  \n",
       "5         Nintendo        30.26  \n",
       "6         Nintendo        29.80  \n",
       "7         Nintendo        28.91  \n",
       "8         Nintendo        28.32  \n",
       "9         Nintendo        28.31  "
      ]
     },
     "execution_count": 52,
     "metadata": {},
     "output_type": "execute_result"
    }
   ],
   "source": [
    "games.head(10)"
   ]
  },
  {
   "cell_type": "code",
   "execution_count": 53,
   "id": "eea12cf1",
   "metadata": {},
   "outputs": [
    {
     "data": {
      "text/plain": [
       "Sony          6637\n",
       "Nintendo      6169\n",
       "Microsoft     2282\n",
       "Unknown-PC     957\n",
       "Sega           259\n",
       "Atari          116\n",
       "SNK             12\n",
       "Bandai           6\n",
       "NEC              3\n",
       "3DO              3\n",
       "Name: platform_company, dtype: int64"
      ]
     },
     "execution_count": 53,
     "metadata": {},
     "output_type": "execute_result"
    }
   ],
   "source": [
    "games['platform_company'].value_counts()"
   ]
  },
  {
   "cell_type": "markdown",
   "id": "4998f9ad",
   "metadata": {},
   "source": [
    "# 3. Análisis de Datos Exploratorio"
   ]
  },
  {
   "cell_type": "markdown",
   "id": "d001612b",
   "metadata": {},
   "source": [
    "- Lanzamiento de videojuegos a través de los años"
   ]
  },
  {
   "cell_type": "code",
   "execution_count": 54,
   "id": "2959adf4",
   "metadata": {},
   "outputs": [
    {
     "data": {
      "text/plain": [
       "year_of_release\n",
       "1980       9\n",
       "1981      46\n",
       "1982      36\n",
       "1983      17\n",
       "1984      14\n",
       "1985      14\n",
       "1986      21\n",
       "1987      16\n",
       "1988      15\n",
       "1989      17\n",
       "1990      16\n",
       "1991      41\n",
       "1992      43\n",
       "1993      60\n",
       "1994     121\n",
       "1995     219\n",
       "1996     263\n",
       "1997     289\n",
       "1998     379\n",
       "1999     338\n",
       "2000     350\n",
       "2001     482\n",
       "2002     829\n",
       "2003     775\n",
       "2004     762\n",
       "2005     939\n",
       "2006    1006\n",
       "2007    1197\n",
       "2008    1427\n",
       "2009    1426\n",
       "2010    1255\n",
       "2011    1136\n",
       "2012     653\n",
       "2013     544\n",
       "2014     581\n",
       "2015     606\n",
       "2016     502\n",
       "Name: name, dtype: int64"
      ]
     },
     "execution_count": 54,
     "metadata": {},
     "output_type": "execute_result"
    }
   ],
   "source": [
    "year_count=games.groupby('year_of_release')['name'].count()\n",
    "year_count"
   ]
  },
  {
   "cell_type": "code",
   "execution_count": 55,
   "id": "ef6a5426",
   "metadata": {},
   "outputs": [
    {
     "data": {
      "image/png": "[encoded data removed]",
      "text/plain": [
       "<Figure size 1440x720 with 1 Axes>"
      ]
     },
     "metadata": {
      "needs_background": "light"
     },
     "output_type": "display_data"
    }
   ],
   "source": [
    "year_count.plot.bar(rot=90, figsize=(20, 10))\n",
    "plt.title('Numero de juegos lanzados por año')\n",
    "plt.xlabel('Año de Lanzamiento')\n",
    "plt.ylabel('Número de Lanzamientos')\n",
    "plt.show()"
   ]
  },
  {
   "cell_type": "markdown",
   "id": "b581e40a",
   "metadata": {},
   "source": [
    "- Observo que se lanzaron menos de 200 videojuegos por año hasta 1995, pero a partir de entonces los lanzamientos empezaron a aumentar. Los años 2007 a 2011 fueron los que más lanzamientos tuvieron, con 1476 lanzamientos en 2009. No todos los periodos fueron iguales."
   ]
  },
  {
   "cell_type": "code",
   "execution_count": 56,
   "id": "fa21eb31",
   "metadata": {},
   "outputs": [
    {
     "data": {
      "text/plain": [
       "platform\n",
       "ps2     1233.56\n",
       "x360     961.24\n",
       "ps3      931.34\n",
       "wii      891.18\n",
       "ds       802.78\n",
       "ps       727.58\n",
       "ps4      314.14\n",
       "gba      312.88\n",
       "psp      289.53\n",
       "3ds      257.81\n",
       "pc       255.76\n",
       "gb       254.43\n",
       "xb       251.57\n",
       "nes      251.05\n",
       "n64      218.01\n",
       "snes     200.04\n",
       "gc       196.73\n",
       "xone     159.32\n",
       "2600      86.48\n",
       "wiiu      82.19\n",
       "psv       53.81\n",
       "sat       33.59\n",
       "gen       28.35\n",
       "dc        15.95\n",
       "scd        1.86\n",
       "ng         1.44\n",
       "ws         1.42\n",
       "tg16       0.16\n",
       "3do        0.10\n",
       "gg         0.04\n",
       "pcfx       0.03\n",
       "Name: total_sales, dtype: float64"
      ]
     },
     "execution_count": 56,
     "metadata": {},
     "output_type": "execute_result"
    }
   ],
   "source": [
    "games.groupby('platform')['total_sales'].sum().sort_values(ascending=False)"
   ]
  },
  {
   "cell_type": "code",
   "execution_count": 57,
   "id": "c5ceaf7a",
   "metadata": {},
   "outputs": [
    {
     "data": {
      "image/png": "[encoded data removed]",
      "text/plain": [
       "<Figure size 1440x720 with 1 Axes>"
      ]
     },
     "metadata": {
      "needs_background": "light"
     },
     "output_type": "display_data"
    }
   ],
   "source": [
    "plt.figure(figsize=(20,10))\n",
    "games.groupby('platform')['total_sales'].sum().sort_values(ascending=False).plot(kind='bar')\n",
    "plt.title('Total de Ventas por Plataforma')\n",
    "plt.xlabel('Platforma')\n",
    "plt.ylabel('Total de Ventas')\n",
    "plt.show()"
   ]
  },
  {
   "cell_type": "code",
   "execution_count": 58,
   "id": "bc7b0286",
   "metadata": {},
   "outputs": [
    {
     "data": {
      "text/plain": [
       "['ps2', 'x360', 'ps3', 'wii', 'ds', 'ps', 'ps4', 'gba', 'psp', '3ds']"
      ]
     },
     "execution_count": 58,
     "metadata": {},
     "output_type": "execute_result"
    }
   ],
   "source": [
    "top10_plataformas = games.pivot_table(index='platform', values='total_sales', aggfunc='sum').sort_values(by='total_sales', ascending=False).head(10).reset_index()['platform'].to_list()\n",
    "top10_plataformas"
   ]
  },
  {
   "cell_type": "markdown",
   "id": "fa8ccda9",
   "metadata": {},
   "source": [
    "- El top 10 de plataformas lanzadas por orden son PS2, X360, PS3, Wii, DS, PS, PS4, GBA, PSP, PC."
   ]
  },
  {
   "cell_type": "code",
   "execution_count": 59,
   "id": "bf098253",
   "metadata": {},
   "outputs": [
    {
     "data": {
      "image/png": "[encoded data removed]",
      "text/plain": [
       "<Figure size 432x288 with 1 Axes>"
      ]
     },
     "metadata": {
      "needs_background": "light"
     },
     "output_type": "display_data"
    }
   ],
   "source": [
    "plt.title(top10_plataformas[0] + ' Ventas por Año')\n",
    "games.loc[games['platform']==top10_plataformas[0]].groupby(['year_of_release'])['total_sales'].sum().plot(kind='bar')\n",
    "plt.xlabel(\"Año de Lanzamiento\")\n",
    "plt.ylabel(\"Total de Ventas\")\n",
    "plt.show()"
   ]
  },
  {
   "cell_type": "markdown",
   "id": "d3f38509",
   "metadata": {},
   "source": [
    "- Actividad de 11 años para el PS2"
   ]
  },
  {
   "cell_type": "code",
   "execution_count": 60,
   "id": "d4a49fc4",
   "metadata": {},
   "outputs": [
    {
     "data": {
      "image/png": "[encoded data removed]",
      "text/plain": [
       "<Figure size 432x288 with 1 Axes>"
      ]
     },
     "metadata": {
      "needs_background": "light"
     },
     "output_type": "display_data"
    }
   ],
   "source": [
    "plt.title(top10_plataformas[1] + ' Ventas por Año')\n",
    "games.loc[games['platform']==top10_plataformas[1]].groupby(['year_of_release'])['total_sales'].sum().plot(kind='bar')\n",
    "plt.xlabel(\"Año de Lanzamiento\")\n",
    "plt.ylabel(\"Total de Ventas\")\n",
    "plt.show()"
   ]
  },
  {
   "cell_type": "markdown",
   "id": "24f03c5b",
   "metadata": {},
   "source": [
    "- Actividad de 11 años del Xbox 360 también"
   ]
  },
  {
   "cell_type": "code",
   "execution_count": 61,
   "id": "28dcfd39",
   "metadata": {},
   "outputs": [
    {
     "data": {
      "image/png": "[encoded data removed]",
      "text/plain": [
       "<Figure size 432x288 with 1 Axes>"
      ]
     },
     "metadata": {
      "needs_background": "light"
     },
     "output_type": "display_data"
    }
   ],
   "source": [
    "plt.title(top10_plataformas[2] + ' Ventas por Año')\n",
    "games.loc[games['platform']==top10_plataformas[2]].groupby(['year_of_release'])['total_sales'].sum().plot(kind='bar')\n",
    "plt.xlabel(\"Año de Lanzamiento\")\n",
    "plt.ylabel(\"Total de Ventas\")\n",
    "plt.show()"
   ]
  },
  {
   "cell_type": "markdown",
   "id": "177147eb",
   "metadata": {},
   "source": [
    "- La actividad del PS3 fue un año menos aparentemente"
   ]
  },
  {
   "cell_type": "code",
   "execution_count": 62,
   "id": "61dfb327",
   "metadata": {},
   "outputs": [
    {
     "data": {
      "image/png": "[encoded data removed]",
      "text/plain": [
       "<Figure size 432x288 with 1 Axes>"
      ]
     },
     "metadata": {
      "needs_background": "light"
     },
     "output_type": "display_data"
    }
   ],
   "source": [
    "plt.title(top10_plataformas[3] + ' Ventas por Año')\n",
    "games.loc[games['platform']==top10_plataformas[3]].groupby(['year_of_release'])['total_sales'].sum().plot(kind='bar')\n",
    "plt.xlabel(\"Año de Lanzamiento\")\n",
    "plt.ylabel(\"Total de Ventas\")\n",
    "plt.show()"
   ]
  },
  {
   "cell_type": "markdown",
   "id": "86b2c48f",
   "metadata": {},
   "source": [
    "- 10 años de igual manera con la consola Wii"
   ]
  },
  {
   "cell_type": "code",
   "execution_count": 63,
   "id": "ff5ee3b6",
   "metadata": {},
   "outputs": [
    {
     "data": {
      "image/png": "[encoded data removed]",
      "text/plain": [
       "<Figure size 432x288 with 1 Axes>"
      ]
     },
     "metadata": {
      "needs_background": "light"
     },
     "output_type": "display_data"
    }
   ],
   "source": [
    "plt.title(top10_plataformas[4] + ' Ventas por Año')\n",
    "games.loc[games['platform']==top10_plataformas[4]].groupby(['year_of_release'])['total_sales'].sum().plot(kind='bar')\n",
    "plt.xlabel(\"Año de Lanzamiento\")\n",
    "plt.ylabel(\"Total de Ventas\")\n",
    "plt.show()"
   ]
  },
  {
   "cell_type": "markdown",
   "id": "9374c50b",
   "metadata": {},
   "source": [
    "- El Nintendo DS tuvo actividad por 9 años"
   ]
  },
  {
   "cell_type": "code",
   "execution_count": 64,
   "id": "318a0e54",
   "metadata": {},
   "outputs": [
    {
     "data": {
      "text/html": [
       "<div>\n",
       "<style scoped>\n",
       "    .dataframe tbody tr th:only-of-type {\n",
       "        vertical-align: middle;\n",
       "    }\n",
       "\n",
       "    .dataframe tbody tr th {\n",
       "        vertical-align: top;\n",
       "    }\n",
       "\n",
       "    .dataframe thead th {\n",
       "        text-align: right;\n",
       "    }\n",
       "</style>\n",
       "<table border=\"1\" class=\"dataframe\">\n",
       "  <thead>\n",
       "    <tr style=\"text-align: right;\">\n",
       "      <th></th>\n",
       "      <th>name</th>\n",
       "      <th>platform</th>\n",
       "      <th>year_of_release</th>\n",
       "      <th>genre</th>\n",
       "      <th>na_sales</th>\n",
       "      <th>eu_sales</th>\n",
       "      <th>jp_sales</th>\n",
       "      <th>other_sales</th>\n",
       "      <th>critic_score</th>\n",
       "      <th>user_score</th>\n",
       "      <th>rating</th>\n",
       "      <th>platform_company</th>\n",
       "      <th>total_sales</th>\n",
       "    </tr>\n",
       "  </thead>\n",
       "  <tbody>\n",
       "  </tbody>\n",
       "</table>\n",
       "</div>"
      ],
      "text/plain": [
       "Empty DataFrame\n",
       "Columns: [name, platform, year_of_release, genre, na_sales, eu_sales, jp_sales, other_sales, critic_score, user_score, rating, platform_company, total_sales]\n",
       "Index: []"
      ]
     },
     "execution_count": 64,
     "metadata": {},
     "output_type": "execute_result"
    }
   ],
   "source": [
    "games.loc[((games['platform']=='DS') & (games['year_of_release']==1985))]"
   ]
  },
  {
   "cell_type": "markdown",
   "id": "211db6c2",
   "metadata": {},
   "source": [
    "- El Nintendo DS fué lanzado en 2004, por lo que ese dato que aparecía de venta en 1985 era incorrecto, por lo que será removido"
   ]
  },
  {
   "cell_type": "code",
   "execution_count": 65,
   "id": "e1c4ff01",
   "metadata": {},
   "outputs": [],
   "source": [
    "games = games.drop([15957])"
   ]
  },
  {
   "cell_type": "code",
   "execution_count": 66,
   "id": "4c6ef056",
   "metadata": {},
   "outputs": [
    {
     "data": {
      "image/png": "[encoded data removed]",
      "text/plain": [
       "<Figure size 432x288 with 1 Axes>"
      ]
     },
     "metadata": {
      "needs_background": "light"
     },
     "output_type": "display_data"
    }
   ],
   "source": [
    "plt.title(top10_plataformas[5] + ' Ventas por Año')\n",
    "games.loc[games['platform']==top10_plataformas[5]].groupby(['year_of_release'])['total_sales'].sum().plot(kind='bar')\n",
    "plt.xlabel(\"Año de Lanzamiento\")\n",
    "plt.ylabel(\"Total de Ventas\")\n",
    "plt.show()"
   ]
  },
  {
   "cell_type": "markdown",
   "id": "22f2fccc",
   "metadata": {},
   "source": [
    "- El PS1 estuvo activo por 9 años"
   ]
  },
  {
   "cell_type": "code",
   "execution_count": 67,
   "id": "b3fd5fe2",
   "metadata": {},
   "outputs": [
    {
     "data": {
      "image/png": "[encoded data removed]",
      "text/plain": [
       "<Figure size 432x288 with 1 Axes>"
      ]
     },
     "metadata": {
      "needs_background": "light"
     },
     "output_type": "display_data"
    }
   ],
   "source": [
    "plt.title(top10_plataformas[6] + ' Ventas por Año')\n",
    "games.loc[games['platform']==top10_plataformas[6]].groupby(['year_of_release'])['total_sales'].sum().plot(kind='bar')\n",
    "plt.xlabel(\"Año de Lanzamiento\")\n",
    "plt.ylabel(\"Total de Ventas\")\n",
    "plt.show()"
   ]
  },
  {
   "cell_type": "markdown",
   "id": "c5225941",
   "metadata": {},
   "source": [
    "- El PS4 hasta la fecha sigue activo en el año 2023, pero hasta la fecha de estos datos solo habían pasado 3 años"
   ]
  },
  {
   "cell_type": "code",
   "execution_count": 68,
   "id": "53814823",
   "metadata": {},
   "outputs": [
    {
     "data": {
      "image/png": "[encoded data removed]",
      "text/plain": [
       "<Figure size 432x288 with 1 Axes>"
      ]
     },
     "metadata": {
      "needs_background": "light"
     },
     "output_type": "display_data"
    }
   ],
   "source": [
    "plt.title(top10_plataformas[7] + ' Ventas por Año')\n",
    "games.loc[games['platform']==top10_plataformas[7]].groupby(['year_of_release'])['total_sales'].sum().plot(kind='bar')\n",
    "plt.xlabel(\"Año de Lanzamiento\")\n",
    "plt.ylabel(\"Total de Ventas\")\n",
    "plt.show()"
   ]
  },
  {
   "cell_type": "markdown",
   "id": "69d460de",
   "metadata": {},
   "source": [
    "- El Gameboy Advanced estuvo activo por 7 años"
   ]
  },
  {
   "cell_type": "code",
   "execution_count": 69,
   "id": "de273212",
   "metadata": {},
   "outputs": [
    {
     "data": {
      "image/png": "[encoded data removed]",
      "text/plain": [
       "<Figure size 432x288 with 1 Axes>"
      ]
     },
     "metadata": {
      "needs_background": "light"
     },
     "output_type": "display_data"
    }
   ],
   "source": [
    "plt.title(top10_plataformas[8] + ' Ventas por Año')\n",
    "games.loc[games['platform']==top10_plataformas[8]].groupby(['year_of_release'])['total_sales'].sum().plot(kind='bar')\n",
    "plt.xlabel(\"Año de Lanzamiento\")\n",
    "plt.ylabel(\"Total de Ventas\")\n",
    "plt.show()"
   ]
  },
  {
   "cell_type": "markdown",
   "id": "aee44830",
   "metadata": {},
   "source": [
    "- El Playstation Portátil estuvo activo por 11 años"
   ]
  },
  {
   "cell_type": "code",
   "execution_count": 70,
   "id": "f9a4fee3",
   "metadata": {},
   "outputs": [
    {
     "data": {
      "image/png": "[encoded data removed]",
      "text/plain": [
       "<Figure size 432x288 with 1 Axes>"
      ]
     },
     "metadata": {
      "needs_background": "light"
     },
     "output_type": "display_data"
    }
   ],
   "source": [
    "plt.title(top10_plataformas[9] + ' Ventas por Año')\n",
    "games.loc[games['platform']==top10_plataformas[9]].groupby(['year_of_release'])['total_sales'].sum().plot(kind='bar')\n",
    "plt.xlabel(\"Año de Lanzamiento\")\n",
    "plt.ylabel(\"Total de Ventas\")\n",
    "plt.show()"
   ]
  },
  {
   "cell_type": "markdown",
   "id": "492fa9dc",
   "metadata": {},
   "source": [
    "- El Nintendo 3DS estuvo activo por 5 años"
   ]
  },
  {
   "cell_type": "code",
   "execution_count": 71,
   "id": "d5c3030e",
   "metadata": {},
   "outputs": [
    {
     "data": {
      "text/html": [
       "<div>\n",
       "<style scoped>\n",
       "    .dataframe tbody tr th:only-of-type {\n",
       "        vertical-align: middle;\n",
       "    }\n",
       "\n",
       "    .dataframe tbody tr th {\n",
       "        vertical-align: top;\n",
       "    }\n",
       "\n",
       "    .dataframe thead th {\n",
       "        text-align: right;\n",
       "    }\n",
       "</style>\n",
       "<table border=\"1\" class=\"dataframe\">\n",
       "  <thead>\n",
       "    <tr style=\"text-align: right;\">\n",
       "      <th></th>\n",
       "      <th>platform</th>\n",
       "      <th>max</th>\n",
       "      <th>min</th>\n",
       "      <th>active_years</th>\n",
       "    </tr>\n",
       "  </thead>\n",
       "  <tbody>\n",
       "    <tr>\n",
       "      <th>4</th>\n",
       "      <td>ps2</td>\n",
       "      <td>2011</td>\n",
       "      <td>2000</td>\n",
       "      <td>11</td>\n",
       "    </tr>\n",
       "    <tr>\n",
       "      <th>7</th>\n",
       "      <td>psp</td>\n",
       "      <td>2015</td>\n",
       "      <td>2004</td>\n",
       "      <td>11</td>\n",
       "    </tr>\n",
       "    <tr>\n",
       "      <th>9</th>\n",
       "      <td>x360</td>\n",
       "      <td>2016</td>\n",
       "      <td>2005</td>\n",
       "      <td>11</td>\n",
       "    </tr>\n",
       "    <tr>\n",
       "      <th>5</th>\n",
       "      <td>ps3</td>\n",
       "      <td>2016</td>\n",
       "      <td>2006</td>\n",
       "      <td>10</td>\n",
       "    </tr>\n",
       "    <tr>\n",
       "      <th>8</th>\n",
       "      <td>wii</td>\n",
       "      <td>2016</td>\n",
       "      <td>2006</td>\n",
       "      <td>10</td>\n",
       "    </tr>\n",
       "    <tr>\n",
       "      <th>1</th>\n",
       "      <td>ds</td>\n",
       "      <td>2013</td>\n",
       "      <td>2004</td>\n",
       "      <td>9</td>\n",
       "    </tr>\n",
       "    <tr>\n",
       "      <th>3</th>\n",
       "      <td>ps</td>\n",
       "      <td>2003</td>\n",
       "      <td>1994</td>\n",
       "      <td>9</td>\n",
       "    </tr>\n",
       "    <tr>\n",
       "      <th>2</th>\n",
       "      <td>gba</td>\n",
       "      <td>2007</td>\n",
       "      <td>2000</td>\n",
       "      <td>7</td>\n",
       "    </tr>\n",
       "    <tr>\n",
       "      <th>0</th>\n",
       "      <td>3ds</td>\n",
       "      <td>2016</td>\n",
       "      <td>2011</td>\n",
       "      <td>5</td>\n",
       "    </tr>\n",
       "    <tr>\n",
       "      <th>6</th>\n",
       "      <td>ps4</td>\n",
       "      <td>2016</td>\n",
       "      <td>2013</td>\n",
       "      <td>3</td>\n",
       "    </tr>\n",
       "  </tbody>\n",
       "</table>\n",
       "</div>"
      ],
      "text/plain": [
       "  platform   max   min  active_years\n",
       "4      ps2  2011  2000            11\n",
       "7      psp  2015  2004            11\n",
       "9     x360  2016  2005            11\n",
       "5      ps3  2016  2006            10\n",
       "8      wii  2016  2006            10\n",
       "1       ds  2013  2004             9\n",
       "3       ps  2003  1994             9\n",
       "2      gba  2007  2000             7\n",
       "0      3ds  2016  2011             5\n",
       "6      ps4  2016  2013             3"
      ]
     },
     "execution_count": 71,
     "metadata": {},
     "output_type": "execute_result"
    }
   ],
   "source": [
    "top10 = games.loc[games['platform'].isin(top10_plataformas)].groupby(['platform'])['year_of_release'].agg({min, max}).reset_index()\n",
    "top10['active_years'] = top10['max']-top10['min']\n",
    "top10.sort_values(by='active_years', ascending=False)"
   ]
  },
  {
   "cell_type": "code",
   "execution_count": 72,
   "id": "3db0eec2",
   "metadata": {},
   "outputs": [
    {
     "data": {
      "image/png": "[encoded data removed]",
      "text/plain": [
       "<Figure size 432x288 with 1 Axes>"
      ]
     },
     "metadata": {
      "needs_background": "light"
     },
     "output_type": "display_data"
    }
   ],
   "source": [
    "sns.barplot(x='platform',y='active_years',data=top10.sort_values(by='active_years', ascending=False))\n",
    "plt.title('Años Activo')\n",
    "plt.show()"
   ]
  },
  {
   "cell_type": "code",
   "execution_count": 73,
   "id": "4f06442a",
   "metadata": {},
   "outputs": [
    {
     "data": {
      "text/plain": [
       "9.5"
      ]
     },
     "execution_count": 73,
     "metadata": {},
     "output_type": "execute_result"
    }
   ],
   "source": [
    "top10['active_years'].median()"
   ]
  },
  {
   "cell_type": "code",
   "execution_count": 74,
   "id": "347a4d68",
   "metadata": {},
   "outputs": [
    {
     "data": {
      "text/plain": [
       "8.6"
      ]
     },
     "execution_count": 74,
     "metadata": {},
     "output_type": "execute_result"
    }
   ],
   "source": [
    "top10['active_years'].mean()"
   ]
  },
  {
   "cell_type": "markdown",
   "id": "26c01063",
   "metadata": {},
   "source": [
    "- Las nuevas plataformas tardan unos 9 a 10 años en tener actividad.\n",
    "- La siguiente plataforma de consola de Playstation tarda entre 5 y 6 años en aparecer. En este ejemplo, la PS1 apareció en 1994, la PS2 en 2000 y la ps3 en 2006.\n",
    "- PS2, PSP, y el XBOX 360 son el ciclo de vida más activo (11 años activos antes de desaparecer)"
   ]
  },
  {
   "cell_type": "markdown",
   "id": "c120a1db",
   "metadata": {},
   "source": [
    "# Pasos para seleccionar los datos:\n",
    "\n",
    "- Considerar las respuestas a las preguntas anteriores. ¿Qué queremos predecir? ¿Qué factores influyen en ese pronóstico?\n",
    "- Seleccionar los datos que sean relevantes para esas preguntas. ¿Cuáles son los datos que nos ayudarán a entender la relación entre los factores y el pronóstico?\n",
    "- Limitar los datos al periodo de tiempo que queremos predecir. En este caso, el periodo de tiempo es 2017."
   ]
  },
  {
   "cell_type": "code",
   "execution_count": 75,
   "id": "c144e8df",
   "metadata": {},
   "outputs": [
    {
     "data": {
      "text/plain": [
       "platform\n",
       "ps4     288.15\n",
       "xone    140.36\n",
       "3ds      86.68\n",
       "ps3      68.18\n",
       "x360     48.22\n",
       "wiiu     42.98\n",
       "pc       27.05\n",
       "psv      22.40\n",
       "wii       5.07\n",
       "psp       0.36\n",
       "Name: total_sales, dtype: float64"
      ]
     },
     "execution_count": 75,
     "metadata": {},
     "output_type": "execute_result"
    }
   ],
   "source": [
    "relev_data = games.query('year_of_release >= 2014')\n",
    "relev_platform_rank = relev_data.groupby('platform')['total_sales'].sum().sort_values(ascending=False)\n",
    "relev_platform_rank"
   ]
  },
  {
   "cell_type": "code",
   "execution_count": 76,
   "id": "336b8ae7",
   "metadata": {},
   "outputs": [
    {
     "data": {
      "image/png": "[encoded data removed]",
      "text/plain": [
       "<Figure size 720x360 with 1 Axes>"
      ]
     },
     "metadata": {
      "needs_background": "light"
     },
     "output_type": "display_data"
    },
    {
     "name": "stdout",
     "output_type": "stream",
     "text": [
      "\n"
     ]
    },
    {
     "data": {
      "image/png": "[encoded data removed]",
      "text/plain": [
       "<Figure size 720x360 with 1 Axes>"
      ]
     },
     "metadata": {
      "needs_background": "light"
     },
     "output_type": "display_data"
    },
    {
     "name": "stdout",
     "output_type": "stream",
     "text": [
      "\n"
     ]
    },
    {
     "data": {
      "image/png": "[encoded data removed]",
      "text/plain": [
       "<Figure size 720x360 with 1 Axes>"
      ]
     },
     "metadata": {
      "needs_background": "light"
     },
     "output_type": "display_data"
    },
    {
     "name": "stdout",
     "output_type": "stream",
     "text": [
      "\n"
     ]
    },
    {
     "data": {
      "image/png": "[encoded data removed]",
      "text/plain": [
       "<Figure size 720x360 with 1 Axes>"
      ]
     },
     "metadata": {
      "needs_background": "light"
     },
     "output_type": "display_data"
    },
    {
     "name": "stdout",
     "output_type": "stream",
     "text": [
      "\n"
     ]
    },
    {
     "data": {
      "image/png": "[encoded data removed]",
      "text/plain": [
       "<Figure size 720x360 with 1 Axes>"
      ]
     },
     "metadata": {
      "needs_background": "light"
     },
     "output_type": "display_data"
    },
    {
     "name": "stdout",
     "output_type": "stream",
     "text": [
      "\n"
     ]
    },
    {
     "data": {
      "image/png": "[encoded data removed]",
      "text/plain": [
       "<Figure size 720x360 with 1 Axes>"
      ]
     },
     "metadata": {
      "needs_background": "light"
     },
     "output_type": "display_data"
    },
    {
     "name": "stdout",
     "output_type": "stream",
     "text": [
      "\n"
     ]
    },
    {
     "data": {
      "image/png": "[encoded data removed]",
      "text/plain": [
       "<Figure size 720x360 with 1 Axes>"
      ]
     },
     "metadata": {
      "needs_background": "light"
     },
     "output_type": "display_data"
    },
    {
     "name": "stdout",
     "output_type": "stream",
     "text": [
      "\n"
     ]
    },
    {
     "data": {
      "image/png": "[encoded data removed]",
      "text/plain": [
       "<Figure size 720x360 with 1 Axes>"
      ]
     },
     "metadata": {
      "needs_background": "light"
     },
     "output_type": "display_data"
    },
    {
     "name": "stdout",
     "output_type": "stream",
     "text": [
      "\n"
     ]
    },
    {
     "data": {
      "image/png": "[encoded data removed]",
      "text/plain": [
       "<Figure size 720x360 with 1 Axes>"
      ]
     },
     "metadata": {
      "needs_background": "light"
     },
     "output_type": "display_data"
    },
    {
     "name": "stdout",
     "output_type": "stream",
     "text": [
      "\n"
     ]
    },
    {
     "data": {
      "image/png": "[encoded data removed]",
      "text/plain": [
       "<Figure size 720x360 with 1 Axes>"
      ]
     },
     "metadata": {
      "needs_background": "light"
     },
     "output_type": "display_data"
    },
    {
     "name": "stdout",
     "output_type": "stream",
     "text": [
      "\n"
     ]
    }
   ],
   "source": [
    "for platform in relev_platform_rank.index:\n",
    "    p_slice=relev_data.query('platform == @platform')\n",
    "    p_slice.groupby('year_of_release')['total_sales'].sum().plot.bar(figsize=(10, 5))\n",
    "\n",
    "    plt.title('{} Ventas'.format(platform))\n",
    "    plt.xlabel('Año')\n",
    "    plt.ylabel('Ventas')\n",
    "    plt.show()\n",
    "    print('')"
   ]
  },
  {
   "cell_type": "markdown",
   "id": "ddef581c",
   "metadata": {},
   "source": [
    "- Las consolas antiguas están perdiendo popularidad, mientras que las nuevas están ganando terreno.\n",
    "- Las ventas de las consolas nuevas no fueron tan buenas en 2016, pero todavía estaban en sus primeras etapas, por lo que se esperaba que ganen más dinero en los próximos años.\n",
    "- Las otras consolas ya estaban muertas antes de 2016."
   ]
  },
  {
   "cell_type": "markdown",
   "id": "2e29cb9c",
   "metadata": {},
   "source": [
    "- Las consolas que tienen más probabilidades de ganar dinero en 2017 son las que tuvieron un buen año en 2016, como XBOX ONE, PS4, 3DS, Wii U y PS vita. Así que voy a crear un subconjunto de nuestros datos relevantes que contenga solo filas donde la plataforma sea PS4 o XBOX One. Luego, crearé un boxplot para mostrar las ventas por cada plataforma."
   ]
  },
  {
   "cell_type": "code",
   "execution_count": 77,
   "id": "e098333c",
   "metadata": {},
   "outputs": [
    {
     "data": {
      "image/png": "[encoded data removed]",
      "text/plain": [
       "<Figure size 1440x720 with 1 Axes>"
      ]
     },
     "metadata": {
      "needs_background": "light"
     },
     "output_type": "display_data"
    }
   ],
   "source": [
    "pprof_platforms=relev_data.query('platform == \"ps4\" | platform == \"xone\" | platform == \"3ds\" | platform == \"wiiu\" | platform == \"pc\" | platform == \"psv\"')\n",
    "pprof_platforms.boxplot(column='total_sales', by='platform', figsize=(20, 10))\n",
    "plt.show()"
   ]
  },
  {
   "cell_type": "markdown",
   "id": "a83b7a09",
   "metadata": {},
   "source": [
    "- Géneros más rentables"
   ]
  },
  {
   "cell_type": "code",
   "execution_count": 78,
   "id": "134e1e02",
   "metadata": {},
   "outputs": [
    {
     "data": {
      "text/plain": [
       "action          619\n",
       "role-playing    221\n",
       "adventure       185\n",
       "sports          161\n",
       "shooter         128\n",
       "misc            113\n",
       "racing           69\n",
       "fighting         60\n",
       "simulation       44\n",
       "platform         38\n",
       "strategy         37\n",
       "puzzle           14\n",
       "Name: genre, dtype: int64"
      ]
     },
     "execution_count": 78,
     "metadata": {},
     "output_type": "execute_result"
    }
   ],
   "source": [
    "genre_count=relev_data['genre'].value_counts().sort_values(ascending=False)\n",
    "genre_count"
   ]
  },
  {
   "cell_type": "code",
   "execution_count": 79,
   "id": "c8bc2fac",
   "metadata": {},
   "outputs": [
    {
     "data": {
      "image/png": "[encoded data removed]",
      "text/plain": [
       "<Figure size 720x360 with 1 Axes>"
      ]
     },
     "metadata": {
      "needs_background": "light"
     },
     "output_type": "display_data"
    }
   ],
   "source": [
    "genre_count.plot.bar(rot=90, figsize=(10, 5))\n",
    "plt.title('Lanzamientos por Género')\n",
    "plt.xlabel('Género')\n",
    "plt.ylabel('Lanazmientos')\n",
    "plt.show()"
   ]
  },
  {
   "cell_type": "markdown",
   "id": "891c36a4",
   "metadata": {},
   "source": [
    "- Los juegos de acción fueron los más populares, mientras que los juegos de plataformas fueron los menos populares. Ahora, vamos a ver cuáles son los géneros que más dinero han generado."
   ]
  },
  {
   "cell_type": "code",
   "execution_count": 80,
   "id": "0e95d35b",
   "metadata": {},
   "outputs": [
    {
     "data": {
      "text/plain": [
       "genre\n",
       "action          199.36\n",
       "shooter         170.94\n",
       "sports          109.48\n",
       "role-playing    101.44\n",
       "misc             37.55\n",
       "fighting         28.22\n",
       "racing           27.52\n",
       "platform         18.09\n",
       "adventure        17.55\n",
       "simulation       13.13\n",
       "strategy          3.96\n",
       "puzzle            2.21\n",
       "Name: total_sales, dtype: float64"
      ]
     },
     "execution_count": 80,
     "metadata": {},
     "output_type": "execute_result"
    }
   ],
   "source": [
    "genre_profit=relev_data.groupby('genre')['total_sales'].sum().sort_values(ascending=False)\n",
    "genre_profit"
   ]
  },
  {
   "cell_type": "code",
   "execution_count": 81,
   "id": "b680ff2d",
   "metadata": {},
   "outputs": [
    {
     "data": {
      "image/png": "[encoded data removed]",
      "text/plain": [
       "<Figure size 720x360 with 1 Axes>"
      ]
     },
     "metadata": {
      "needs_background": "light"
     },
     "output_type": "display_data"
    }
   ],
   "source": [
    "genre_profit.plot.bar(rot=90, figsize=(10, 5))\n",
    "plt.title('Ventas por Género')\n",
    "plt.xlabel('Género')\n",
    "plt.ylabel('Ventas')\n",
    "plt.show()"
   ]
  },
  {
   "cell_type": "markdown",
   "id": "60c2e192",
   "metadata": {},
   "source": [
    "- Los juegos de acción, shooters y deportes son los que más dinero hacen, mientras que los juegos de aventuras, rompecabezas y estrategia son los que menos dinero hacen. Al parecer, los géneros que más se venden suelen tener gráficos muy buenos, mientras que los que menos se venden no necesitan mucho trabajo gráfico por parte de los diseñadores."
   ]
  },
  {
   "cell_type": "code",
   "execution_count": 82,
   "id": "331af3cd",
   "metadata": {},
   "outputs": [
    {
     "data": {
      "text/plain": [
       "year_of_release\n",
       "2000     39.17\n",
       "2001    166.43\n",
       "2002    205.38\n",
       "2003    184.31\n",
       "2004    211.81\n",
       "2005    160.66\n",
       "2006    103.42\n",
       "2007     75.99\n",
       "2008     53.90\n",
       "2009     26.40\n",
       "2010      5.64\n",
       "2011      0.45\n",
       "Name: total_sales, dtype: float64"
      ]
     },
     "execution_count": 82,
     "metadata": {},
     "output_type": "execute_result"
    }
   ],
   "source": [
    "games.loc[games['platform']==top10_plataformas[0]].groupby(['year_of_release'])['total_sales'].sum()"
   ]
  },
  {
   "cell_type": "markdown",
   "id": "db25ed3d",
   "metadata": {},
   "source": [
    "- PS2 fue la consola más vendida, pero dejó de venderse en 2011. XBOX 360 fue un éxito, pero sus ventas se desplomaron y en 2016 casi no se vendía. Basado en esto, voy a usar datos de 2014 para la nuevas generaciones de consola."
   ]
  },
  {
   "cell_type": "code",
   "execution_count": 83,
   "id": "f1edb2c4",
   "metadata": {},
   "outputs": [],
   "source": [
    "original_df = games.copy()\n",
    "games['year_of_release'] = pd.to_numeric(games['year_of_release'])\n",
    "games = games.loc[games['year_of_release']>= 2014]"
   ]
  },
  {
   "cell_type": "code",
   "execution_count": 84,
   "id": "4e4a7e67",
   "metadata": {},
   "outputs": [
    {
     "data": {
      "image/png": "[encoded data removed]",
      "text/plain": [
       "<Figure size 720x432 with 1 Axes>"
      ]
     },
     "metadata": {
      "needs_background": "light"
     },
     "output_type": "display_data"
    }
   ],
   "source": [
    "plt.figure(figsize=(10,6))\n",
    "games.groupby('platform')['total_sales'].sum().sort_values(ascending=False).plot(kind='bar')\n",
    "plt.title('Total de Ventas por Plataforma entre 2014-2016')\n",
    "plt.xlabel(\"Consola\")\n",
    "plt.ylabel(\"Total de ventas en USD (mill)\")\n",
    "plt.show()"
   ]
  },
  {
   "cell_type": "code",
   "execution_count": 85,
   "id": "6d1937b1",
   "metadata": {},
   "outputs": [
    {
     "data": {
      "image/png": "[encoded data removed]",
      "text/plain": [
       "<Figure size 720x432 with 1 Axes>"
      ]
     },
     "metadata": {
      "needs_background": "light"
     },
     "output_type": "display_data"
    }
   ],
   "source": [
    "plt.figure(figsize=(10,6))\n",
    "games.groupby('platform_company')['total_sales'].sum().sort_values(ascending=False).plot(kind='bar')\n",
    "plt.title('Total de Ventas por Compañía - 2014-2016')\n",
    "plt.xlabel(\"Compañía\")\n",
    "plt.ylabel(\"Total de Ventas en USD (mill)\")\n",
    "plt.show()"
   ]
  },
  {
   "cell_type": "markdown",
   "id": "617ee219",
   "metadata": {},
   "source": [
    "- La PS4 lidera en ventas, seguida de la Xbox One de Microsoft y la Nintendo 3DS en tercer lugar de ventas"
   ]
  },
  {
   "cell_type": "code",
   "execution_count": 86,
   "id": "a3b97fbc",
   "metadata": {},
   "outputs": [
    {
     "data": {
      "text/plain": [
       "['ps4', 'xone', '3ds', 'ps3', 'x360', 'wiiu', 'pc', 'psv', 'wii', 'psp']"
      ]
     },
     "execution_count": 86,
     "metadata": {},
     "output_type": "execute_result"
    }
   ],
   "source": [
    "top10_platforms = games.pivot_table(index='platform', values='total_sales', aggfunc='sum').sort_values(by='total_sales', ascending=False).head(10).reset_index()['platform'].to_list()\n",
    "top10_platforms"
   ]
  },
  {
   "cell_type": "code",
   "execution_count": 87,
   "id": "15e17662",
   "metadata": {},
   "outputs": [
    {
     "data": {
      "image/png": "[encoded data removed]",
      "text/plain": [
       "<Figure size 1440x432 with 1 Axes>"
      ]
     },
     "metadata": {
      "needs_background": "light"
     },
     "output_type": "display_data"
    }
   ],
   "source": [
    "games['year_of_release'] = games['year_of_release'].astype(str)\n",
    "plt.figure(figsize=(20,6))\n",
    "plt.xlabel('Año de Lanzamiento')\n",
    "plt.ylabel('Total de Ventas (en mill USD)')\n",
    "plt.title('Total de Ventas y Año de Lanzamiento del Top 5 de Plataformas')\n",
    "for i in top10_platforms[0:5]:   \n",
    "    sns.lineplot(data=games.loc[games['platform']==i].groupby(['year_of_release'])['total_sales'].sum(), label=i)\n",
    "    plt.legend()\n",
    "plt.show()"
   ]
  },
  {
   "cell_type": "code",
   "execution_count": 88,
   "id": "7e69142d",
   "metadata": {},
   "outputs": [
    {
     "data": {
      "image/png": "[encoded data removed]",
      "text/plain": [
       "<Figure size 720x432 with 1 Axes>"
      ]
     },
     "metadata": {
      "needs_background": "light"
     },
     "output_type": "display_data"
    }
   ],
   "source": [
    "plt.figure(figsize=(10,6))\n",
    "plt.xlabel('Año de Lanzamiento')\n",
    "plt.ylabel('Total de Ventas en USD (mill)')\n",
    "plt.title('Total Ventas y Año de Lanzamiento por Compañía')\n",
    "for i in games['platform_company'].unique().tolist():\n",
    "    sns.lineplot(data=games.loc[games['platform_company']==i].groupby(['year_of_release'])['total_sales'].sum(), label=i)\n",
    "    plt.legend()\n",
    "plt.show()"
   ]
  },
  {
   "cell_type": "markdown",
   "id": "b679ce7c",
   "metadata": {},
   "source": [
    "- La PS4 de Sony es la consola más popular, pero sus ventas están empezando a bajar.\n",
    "- La Xbox One de Microsoft es la segunda consola más popular, pero también está empezando a estabilizarse.\n",
    "- El Nintendo 3DS de Nintendo es la tercera consola más popular, pero su ciclo de vida es más corto que el de sus competidores"
   ]
  },
  {
   "cell_type": "markdown",
   "id": "4bad956f",
   "metadata": {},
   "source": [
    "-- -- Boxplot para las ventas globales de todos los juegos, desglosadas por plataformas."
   ]
  },
  {
   "cell_type": "code",
   "execution_count": 89,
   "id": "b9ab9db4",
   "metadata": {},
   "outputs": [
    {
     "data": {
      "text/html": [
       "<div>\n",
       "<style scoped>\n",
       "    .dataframe tbody tr th:only-of-type {\n",
       "        vertical-align: middle;\n",
       "    }\n",
       "\n",
       "    .dataframe tbody tr th {\n",
       "        vertical-align: top;\n",
       "    }\n",
       "\n",
       "    .dataframe thead th {\n",
       "        text-align: right;\n",
       "    }\n",
       "</style>\n",
       "<table border=\"1\" class=\"dataframe\">\n",
       "  <thead>\n",
       "    <tr style=\"text-align: right;\">\n",
       "      <th></th>\n",
       "      <th>name</th>\n",
       "      <th>platform</th>\n",
       "      <th>year_of_release</th>\n",
       "      <th>genre</th>\n",
       "      <th>na_sales</th>\n",
       "      <th>eu_sales</th>\n",
       "      <th>jp_sales</th>\n",
       "      <th>other_sales</th>\n",
       "      <th>critic_score</th>\n",
       "      <th>user_score</th>\n",
       "      <th>rating</th>\n",
       "      <th>platform_company</th>\n",
       "      <th>total_sales</th>\n",
       "    </tr>\n",
       "  </thead>\n",
       "  <tbody>\n",
       "    <tr>\n",
       "      <th>31</th>\n",
       "      <td>call of duty: black ops 3</td>\n",
       "      <td>ps4</td>\n",
       "      <td>2015</td>\n",
       "      <td>shooter</td>\n",
       "      <td>6.03</td>\n",
       "      <td>5.86</td>\n",
       "      <td>0.36</td>\n",
       "      <td>2.38</td>\n",
       "      <td>&lt;NA&gt;</td>\n",
       "      <td>NaN</td>\n",
       "      <td>NaN</td>\n",
       "      <td>Sony</td>\n",
       "      <td>14.63</td>\n",
       "    </tr>\n",
       "    <tr>\n",
       "      <th>42</th>\n",
       "      <td>grand theft auto v</td>\n",
       "      <td>ps4</td>\n",
       "      <td>2014</td>\n",
       "      <td>action</td>\n",
       "      <td>3.96</td>\n",
       "      <td>6.31</td>\n",
       "      <td>0.38</td>\n",
       "      <td>1.97</td>\n",
       "      <td>97</td>\n",
       "      <td>8.3</td>\n",
       "      <td>M</td>\n",
       "      <td>Sony</td>\n",
       "      <td>12.62</td>\n",
       "    </tr>\n",
       "    <tr>\n",
       "      <th>47</th>\n",
       "      <td>pokemon omega ruby/pokemon alpha sapphire</td>\n",
       "      <td>3ds</td>\n",
       "      <td>2014</td>\n",
       "      <td>role-playing</td>\n",
       "      <td>4.35</td>\n",
       "      <td>3.49</td>\n",
       "      <td>3.10</td>\n",
       "      <td>0.74</td>\n",
       "      <td>&lt;NA&gt;</td>\n",
       "      <td>NaN</td>\n",
       "      <td>NaN</td>\n",
       "      <td>Nintendo</td>\n",
       "      <td>11.68</td>\n",
       "    </tr>\n",
       "    <tr>\n",
       "      <th>77</th>\n",
       "      <td>fifa 16</td>\n",
       "      <td>ps4</td>\n",
       "      <td>2015</td>\n",
       "      <td>sports</td>\n",
       "      <td>1.12</td>\n",
       "      <td>6.12</td>\n",
       "      <td>0.06</td>\n",
       "      <td>1.28</td>\n",
       "      <td>82</td>\n",
       "      <td>4.3</td>\n",
       "      <td>E</td>\n",
       "      <td>Sony</td>\n",
       "      <td>8.58</td>\n",
       "    </tr>\n",
       "    <tr>\n",
       "      <th>87</th>\n",
       "      <td>star wars battlefront (2015)</td>\n",
       "      <td>ps4</td>\n",
       "      <td>2015</td>\n",
       "      <td>shooter</td>\n",
       "      <td>2.99</td>\n",
       "      <td>3.49</td>\n",
       "      <td>0.22</td>\n",
       "      <td>1.28</td>\n",
       "      <td>&lt;NA&gt;</td>\n",
       "      <td>NaN</td>\n",
       "      <td>NaN</td>\n",
       "      <td>Sony</td>\n",
       "      <td>7.98</td>\n",
       "    </tr>\n",
       "    <tr>\n",
       "      <th>...</th>\n",
       "      <td>...</td>\n",
       "      <td>...</td>\n",
       "      <td>...</td>\n",
       "      <td>...</td>\n",
       "      <td>...</td>\n",
       "      <td>...</td>\n",
       "      <td>...</td>\n",
       "      <td>...</td>\n",
       "      <td>...</td>\n",
       "      <td>...</td>\n",
       "      <td>...</td>\n",
       "      <td>...</td>\n",
       "      <td>...</td>\n",
       "    </tr>\n",
       "    <tr>\n",
       "      <th>16672</th>\n",
       "      <td>metal gear solid v: the definitive experience</td>\n",
       "      <td>xone</td>\n",
       "      <td>2016</td>\n",
       "      <td>action</td>\n",
       "      <td>0.01</td>\n",
       "      <td>0.00</td>\n",
       "      <td>0.00</td>\n",
       "      <td>0.00</td>\n",
       "      <td>&lt;NA&gt;</td>\n",
       "      <td>NaN</td>\n",
       "      <td>M</td>\n",
       "      <td>Microsoft</td>\n",
       "      <td>0.01</td>\n",
       "    </tr>\n",
       "    <tr>\n",
       "      <th>16674</th>\n",
       "      <td>tsukigime ranko's longest day</td>\n",
       "      <td>ps3</td>\n",
       "      <td>2014</td>\n",
       "      <td>action</td>\n",
       "      <td>0.00</td>\n",
       "      <td>0.01</td>\n",
       "      <td>0.00</td>\n",
       "      <td>0.00</td>\n",
       "      <td>&lt;NA&gt;</td>\n",
       "      <td>NaN</td>\n",
       "      <td>NaN</td>\n",
       "      <td>Sony</td>\n",
       "      <td>0.01</td>\n",
       "    </tr>\n",
       "    <tr>\n",
       "      <th>16677</th>\n",
       "      <td>aikatsu stars! my special appeal</td>\n",
       "      <td>3ds</td>\n",
       "      <td>2016</td>\n",
       "      <td>action</td>\n",
       "      <td>0.00</td>\n",
       "      <td>0.00</td>\n",
       "      <td>0.01</td>\n",
       "      <td>0.00</td>\n",
       "      <td>&lt;NA&gt;</td>\n",
       "      <td>NaN</td>\n",
       "      <td>NaN</td>\n",
       "      <td>Nintendo</td>\n",
       "      <td>0.01</td>\n",
       "    </tr>\n",
       "    <tr>\n",
       "      <th>16691</th>\n",
       "      <td>dynasty warriors: eiketsuden</td>\n",
       "      <td>ps3</td>\n",
       "      <td>2016</td>\n",
       "      <td>action</td>\n",
       "      <td>0.00</td>\n",
       "      <td>0.00</td>\n",
       "      <td>0.01</td>\n",
       "      <td>0.00</td>\n",
       "      <td>&lt;NA&gt;</td>\n",
       "      <td>NaN</td>\n",
       "      <td>NaN</td>\n",
       "      <td>Sony</td>\n",
       "      <td>0.01</td>\n",
       "    </tr>\n",
       "    <tr>\n",
       "      <th>16710</th>\n",
       "      <td>samurai warriors: sanada maru</td>\n",
       "      <td>ps3</td>\n",
       "      <td>2016</td>\n",
       "      <td>action</td>\n",
       "      <td>0.00</td>\n",
       "      <td>0.00</td>\n",
       "      <td>0.01</td>\n",
       "      <td>0.00</td>\n",
       "      <td>&lt;NA&gt;</td>\n",
       "      <td>NaN</td>\n",
       "      <td>NaN</td>\n",
       "      <td>Sony</td>\n",
       "      <td>0.01</td>\n",
       "    </tr>\n",
       "  </tbody>\n",
       "</table>\n",
       "<p>1146 rows × 13 columns</p>\n",
       "</div>"
      ],
      "text/plain": [
       "                                                name platform year_of_release  \\\n",
       "31                         call of duty: black ops 3      ps4            2015   \n",
       "42                                grand theft auto v      ps4            2014   \n",
       "47         pokemon omega ruby/pokemon alpha sapphire      3ds            2014   \n",
       "77                                           fifa 16      ps4            2015   \n",
       "87                      star wars battlefront (2015)      ps4            2015   \n",
       "...                                              ...      ...             ...   \n",
       "16672  metal gear solid v: the definitive experience     xone            2016   \n",
       "16674                  tsukigime ranko's longest day      ps3            2014   \n",
       "16677               aikatsu stars! my special appeal      3ds            2016   \n",
       "16691                   dynasty warriors: eiketsuden      ps3            2016   \n",
       "16710                  samurai warriors: sanada maru      ps3            2016   \n",
       "\n",
       "              genre  na_sales  eu_sales  jp_sales  other_sales  critic_score  \\\n",
       "31          shooter      6.03      5.86      0.36         2.38          <NA>   \n",
       "42           action      3.96      6.31      0.38         1.97            97   \n",
       "47     role-playing      4.35      3.49      3.10         0.74          <NA>   \n",
       "77           sports      1.12      6.12      0.06         1.28            82   \n",
       "87          shooter      2.99      3.49      0.22         1.28          <NA>   \n",
       "...             ...       ...       ...       ...          ...           ...   \n",
       "16672        action      0.01      0.00      0.00         0.00          <NA>   \n",
       "16674        action      0.00      0.01      0.00         0.00          <NA>   \n",
       "16677        action      0.00      0.00      0.01         0.00          <NA>   \n",
       "16691        action      0.00      0.00      0.01         0.00          <NA>   \n",
       "16710        action      0.00      0.00      0.01         0.00          <NA>   \n",
       "\n",
       "       user_score rating platform_company  total_sales  \n",
       "31            NaN    NaN             Sony        14.63  \n",
       "42            8.3      M             Sony        12.62  \n",
       "47            NaN    NaN         Nintendo        11.68  \n",
       "77            4.3      E             Sony         8.58  \n",
       "87            NaN    NaN             Sony         7.98  \n",
       "...           ...    ...              ...          ...  \n",
       "16672         NaN      M        Microsoft         0.01  \n",
       "16674         NaN    NaN             Sony         0.01  \n",
       "16677         NaN    NaN         Nintendo         0.01  \n",
       "16691         NaN    NaN             Sony         0.01  \n",
       "16710         NaN    NaN             Sony         0.01  \n",
       "\n",
       "[1146 rows x 13 columns]"
      ]
     },
     "execution_count": 89,
     "metadata": {},
     "output_type": "execute_result"
    }
   ],
   "source": [
    "top5 = top10_platforms[0:5]\n",
    "games_top5 = games[games['platform'].isin(top5)]\n",
    "games_top5"
   ]
  },
  {
   "cell_type": "code",
   "execution_count": 90,
   "id": "8335d0c4",
   "metadata": {},
   "outputs": [
    {
     "data": {
      "image/png": "[encoded data removed]",
      "text/plain": [
       "<Figure size 864x432 with 1 Axes>"
      ]
     },
     "metadata": {
      "needs_background": "light"
     },
     "output_type": "display_data"
    }
   ],
   "source": [
    "plt.figure(figsize=(12,6))\n",
    "sns.boxplot(data=games_top5, x='platform',y='total_sales')\n",
    "plt.title('Boxplot Top 5 Consolas')\n",
    "plt.show()"
   ]
  },
  {
   "cell_type": "code",
   "execution_count": 91,
   "id": "5864f627",
   "metadata": {},
   "outputs": [
    {
     "data": {
      "image/png": "[encoded data removed]",
      "text/plain": [
       "<Figure size 864x432 with 1 Axes>"
      ]
     },
     "metadata": {
      "needs_background": "light"
     },
     "output_type": "display_data"
    }
   ],
   "source": [
    "plt.figure(figsize=(12,6))\n",
    "sns.boxplot(data=games, x='platform_company',y='total_sales')\n",
    "plt.title('Boxplot Compañía')\n",
    "plt.show()"
   ]
  },
  {
   "cell_type": "markdown",
   "id": "6f2b4439",
   "metadata": {},
   "source": [
    "- Es muy dificil de leer, aunque a cierta vista Micorosft parece tener un mayor número de ventas, pero lo comprabaremos remvoiendo los outliers para tener una mejor visión"
   ]
  },
  {
   "cell_type": "code",
   "execution_count": 92,
   "id": "8f74ca4b",
   "metadata": {},
   "outputs": [
    {
     "name": "stdout",
     "output_type": "stream",
     "text": [
      "Q1:  0.03\n",
      "Q3:  0.35000000000000003\n",
      "IQR:  0.32000000000000006\n",
      "min:  0\n",
      "max:  0.8300000000000001\n"
     ]
    }
   ],
   "source": [
    "Q1 = games['total_sales'].quantile(0.25)\n",
    "Q3 = games['total_sales'].quantile(0.75)\n",
    "IQR = Q3 - Q1\n",
    "bottom_cutoff = Q1 - (1.5*IQR)\n",
    "top_cutoff = Q3 + 1.5 * IQR\n",
    "if bottom_cutoff < 0:\n",
    "    bottom_cutoff = 0\n",
    "print('Q1: ', Q1)\n",
    "print('Q3: ', Q3)\n",
    "print('IQR: ', IQR)\n",
    "print('min: ',bottom_cutoff)\n",
    "print('max: ',top_cutoff)"
   ]
  },
  {
   "cell_type": "code",
   "execution_count": 93,
   "id": "9e89c59a",
   "metadata": {},
   "outputs": [],
   "source": [
    "games_no_outliers = games[(games['total_sales'] >= bottom_cutoff) & (games['total_sales'] <= top_cutoff)]"
   ]
  },
  {
   "cell_type": "code",
   "execution_count": 94,
   "id": "dca56625",
   "metadata": {},
   "outputs": [],
   "source": [
    "games_top5_no_outliers = games[(games['platform'].isin(top5)) & (games['total_sales'] >= bottom_cutoff) & (games['total_sales'] <= top_cutoff)]"
   ]
  },
  {
   "cell_type": "code",
   "execution_count": 95,
   "id": "fe472172",
   "metadata": {},
   "outputs": [
    {
     "data": {
      "image/png": "[encoded data removed]",
      "text/plain": [
       "<Figure size 720x432 with 1 Axes>"
      ]
     },
     "metadata": {
      "needs_background": "light"
     },
     "output_type": "display_data"
    }
   ],
   "source": [
    "plt.figure(figsize=(10,6))\n",
    "sns.boxplot(data=games_top5_no_outliers, x='platform',y='total_sales')\n",
    "plt.ylabel(\"Total Ventas en USD (mill)\")\n",
    "plt.title('Boxplot Top 5 Consolas sin Outliers')\n",
    "plt.show()"
   ]
  },
  {
   "cell_type": "markdown",
   "id": "22cdca3b",
   "metadata": {},
   "source": [
    "- Confirmo de que el Xbox One es la consola más vendida, seguido por el PS4 y el Xbox 360."
   ]
  },
  {
   "cell_type": "code",
   "execution_count": 96,
   "id": "b5ca8a48",
   "metadata": {},
   "outputs": [
    {
     "data": {
      "image/png": "[encoded data removed]",
      "text/plain": [
       "<Figure size 720x432 with 1 Axes>"
      ]
     },
     "metadata": {
      "needs_background": "light"
     },
     "output_type": "display_data"
    }
   ],
   "source": [
    "plt.figure(figsize=(10,6))\n",
    "sns.boxplot(data=games_no_outliers, x='platform_company',y='total_sales')\n",
    "plt.ylabel(\"Total Ventas en USD (mill)\")\n",
    "plt.title('Boxplot Compañía sin Outliers')\n",
    "plt.show()"
   ]
  },
  {
   "cell_type": "markdown",
   "id": "015e2f2b",
   "metadata": {},
   "source": [
    "- Nuevamente se confirma que Microsoft lidera las ventas, y en segundo lugar viene Nintendo que a pesar de que su consola más popular no está en el top 3 de ventas, como compañía aparece en segundo lugar, probablemente por ventas de sus otras consolas."
   ]
  },
  {
   "cell_type": "code",
   "execution_count": 97,
   "id": "875355cd",
   "metadata": {},
   "outputs": [
    {
     "name": "stderr",
     "output_type": "stream",
     "text": [
      "/opt/conda/lib/python3.9/site-packages/seaborn/distributions.py:2557: FutureWarning: `distplot` is a deprecated function and will be removed in a future version. Please adapt your code to use either `displot` (a figure-level function with similar flexibility) or `histplot` (an axes-level function for histograms).\n",
      "  warnings.warn(msg, FutureWarning)\n"
     ]
    },
    {
     "data": {
      "image/png": "[encoded data removed]",
      "text/plain": [
       "<Figure size 720x432 with 1 Axes>"
      ]
     },
     "metadata": {
      "needs_background": "light"
     },
     "output_type": "display_data"
    }
   ],
   "source": [
    "plt.figure(figsize=(10,6))\n",
    "sns.distplot(games_top5_no_outliers['total_sales'])\n",
    "plt.show()"
   ]
  },
  {
   "cell_type": "markdown",
   "id": "638bfa34",
   "metadata": {},
   "source": [
    "- La media es mayor que la mediana, por eso la distribución se carga a la derecha de manera positiva"
   ]
  },
  {
   "cell_type": "code",
   "execution_count": 98,
   "id": "84f711d2",
   "metadata": {},
   "outputs": [
    {
     "data": {
      "image/png": "[encoded data removed]",
      "text/plain": [
       "<Figure size 720x432 with 1 Axes>"
      ]
     },
     "metadata": {
      "needs_background": "light"
     },
     "output_type": "display_data"
    }
   ],
   "source": [
    "plt.figure(figsize=(10,6))\n",
    "games_top5_no_outliers.groupby(['platform'])['total_sales'].mean().sort_values(ascending=False).plot(kind='bar')\n",
    "plt.title('Promedio de Ventas Totales (mill) por Consola')\n",
    "plt.xlabel(\"Consola\")\n",
    "plt.ylabel(\"Promedio Total de Ventas en USD (Mill)\")\n",
    "plt.show()"
   ]
  },
  {
   "cell_type": "markdown",
   "id": "adaa161d",
   "metadata": {},
   "source": [
    "- Xbox One lidera la tabla, seguido del Xbox 360 y el PS4"
   ]
  },
  {
   "cell_type": "code",
   "execution_count": 99,
   "id": "7a1d3636",
   "metadata": {},
   "outputs": [
    {
     "data": {
      "image/png": "[encoded data removed]",
      "text/plain": [
       "<Figure size 720x432 with 1 Axes>"
      ]
     },
     "metadata": {
      "needs_background": "light"
     },
     "output_type": "display_data"
    }
   ],
   "source": [
    "plt.figure(figsize=(10,6))\n",
    "games_top5_no_outliers.groupby(['platform'])['total_sales'].median().sort_values(ascending=False).plot(kind='bar')\n",
    "plt.title('Mediana Total de Ventas (mill) por Consola')\n",
    "plt.xlabel(\"Consola\")\n",
    "plt.ylabel(\"Mediana Total de Ventas en USD (Mill)\")\n",
    "plt.show()"
   ]
  },
  {
   "cell_type": "markdown",
   "id": "1b43074b",
   "metadata": {},
   "source": [
    "- Xbox One de igual manera lidera en la mediana de ventas totales, seguido del PS4 y el Xbox 360"
   ]
  },
  {
   "cell_type": "code",
   "execution_count": 100,
   "id": "cf46e991",
   "metadata": {},
   "outputs": [
    {
     "data": {
      "image/png": "[encoded data removed]",
      "text/plain": [
       "<Figure size 720x432 with 1 Axes>"
      ]
     },
     "metadata": {
      "needs_background": "light"
     },
     "output_type": "display_data"
    }
   ],
   "source": [
    "plt.figure(figsize=(10,6))\n",
    "games_top5_no_outliers.groupby(['platform'])['total_sales'].sum().sort_values(ascending=False).plot(kind='bar')\n",
    "plt.title('Total Ventas (mil) por Consola')\n",
    "plt.xlabel(\"Consola\")\n",
    "plt.ylabel(\"Total de Ventas en USD (Mill)\")\n",
    "plt.show()"
   ]
  },
  {
   "cell_type": "markdown",
   "id": "7ce407d6",
   "metadata": {},
   "source": [
    "- PS4 tiene el mayor monto de ventas, seguido del Xbox One, y luego el PS3"
   ]
  },
  {
   "cell_type": "code",
   "execution_count": 101,
   "id": "94897545",
   "metadata": {},
   "outputs": [
    {
     "data": {
      "image/png": "[encoded data removed]",
      "text/plain": [
       "<Figure size 720x432 with 1 Axes>"
      ]
     },
     "metadata": {
      "needs_background": "light"
     },
     "output_type": "display_data"
    }
   ],
   "source": [
    "plt.figure(figsize=(10,6))\n",
    "games_no_outliers.groupby(['platform_company'])['total_sales'].mean().sort_values(ascending=False).plot(kind='bar')\n",
    "plt.title('Promedio Total de Ventas (mil) por Compañía')\n",
    "plt.xlabel(\"Compañía\")\n",
    "plt.ylabel(\"Promedio Total de Ventas en USD (Mill)\")\n",
    "plt.show()"
   ]
  },
  {
   "cell_type": "code",
   "execution_count": 102,
   "id": "e8700f21",
   "metadata": {},
   "outputs": [
    {
     "data": {
      "image/png": "[encoded data removed]",
      "text/plain": [
       "<Figure size 720x432 with 1 Axes>"
      ]
     },
     "metadata": {
      "needs_background": "light"
     },
     "output_type": "display_data"
    }
   ],
   "source": [
    "plt.figure(figsize=(10,6))\n",
    "games_no_outliers.groupby(['platform_company'])['total_sales'].median().sort_values(ascending=False).plot(kind='bar')\n",
    "plt.title('Mediana Total de Ventas (mil) por Compañía')\n",
    "plt.xlabel(\"Compañía\")\n",
    "plt.ylabel(\"Mediana Total de Ventas en USD (Mill)\")\n",
    "plt.show()"
   ]
  },
  {
   "cell_type": "code",
   "execution_count": 103,
   "id": "3365500a",
   "metadata": {},
   "outputs": [
    {
     "data": {
      "image/png": "[encoded data removed]",
      "text/plain": [
       "<Figure size 720x432 with 1 Axes>"
      ]
     },
     "metadata": {
      "needs_background": "light"
     },
     "output_type": "display_data"
    }
   ],
   "source": [
    "plt.figure(figsize=(10,6))\n",
    "games_top5_no_outliers.groupby(['platform_company'])['total_sales'].sum().sort_values(ascending=False).plot(kind='bar')\n",
    "plt.title('Total de Ventas (mil) por Compañía')\n",
    "plt.xlabel(\"Compañía\")\n",
    "plt.ylabel(\"Total de Ventas en USD (Mill)\")\n",
    "plt.show()"
   ]
  },
  {
   "cell_type": "markdown",
   "id": "1b72c715",
   "metadata": {},
   "source": [
    "- La Xbox One es la consola que vende más juegos de media y en mediana.\n",
    "- Microsoft es la empresa que vende más juegos de media y en mediana, seguida de Nintendo.\n",
    "- La PS4 y Sony son las empresas que venden más juegos y ganan más dinero, seguidas de Microsoft con la Xbox One."
   ]
  },
  {
   "cell_type": "markdown",
   "id": "915e40c6",
   "metadata": {},
   "source": [
    "-- Cómo afectan las opiniones de usuarios y profesionales a las ventas de una consola popular? (Que yo seleccione)\n",
    "- Construiré un scatterplot y calcularé la correlación entre reseñas y ventas\n",
    "- Elegiré el PS4 ya que es la que mayor ventas registra entre 2014 y 2016"
   ]
  },
  {
   "cell_type": "code",
   "execution_count": 104,
   "id": "ff47d4e1",
   "metadata": {},
   "outputs": [
    {
     "data": {
      "text/html": [
       "<div>\n",
       "<style scoped>\n",
       "    .dataframe tbody tr th:only-of-type {\n",
       "        vertical-align: middle;\n",
       "    }\n",
       "\n",
       "    .dataframe tbody tr th {\n",
       "        vertical-align: top;\n",
       "    }\n",
       "\n",
       "    .dataframe thead th {\n",
       "        text-align: right;\n",
       "    }\n",
       "</style>\n",
       "<table border=\"1\" class=\"dataframe\">\n",
       "  <thead>\n",
       "    <tr style=\"text-align: right;\">\n",
       "      <th></th>\n",
       "      <th>name</th>\n",
       "      <th>platform</th>\n",
       "      <th>year_of_release</th>\n",
       "      <th>genre</th>\n",
       "      <th>na_sales</th>\n",
       "      <th>eu_sales</th>\n",
       "      <th>jp_sales</th>\n",
       "      <th>other_sales</th>\n",
       "      <th>critic_score</th>\n",
       "      <th>user_score</th>\n",
       "      <th>rating</th>\n",
       "      <th>platform_company</th>\n",
       "      <th>total_sales</th>\n",
       "    </tr>\n",
       "  </thead>\n",
       "  <tbody>\n",
       "    <tr>\n",
       "      <th>31</th>\n",
       "      <td>call of duty: black ops 3</td>\n",
       "      <td>ps4</td>\n",
       "      <td>2015</td>\n",
       "      <td>shooter</td>\n",
       "      <td>6.03</td>\n",
       "      <td>5.86</td>\n",
       "      <td>0.36</td>\n",
       "      <td>2.38</td>\n",
       "      <td>&lt;NA&gt;</td>\n",
       "      <td>NaN</td>\n",
       "      <td>NaN</td>\n",
       "      <td>Sony</td>\n",
       "      <td>14.63</td>\n",
       "    </tr>\n",
       "    <tr>\n",
       "      <th>42</th>\n",
       "      <td>grand theft auto v</td>\n",
       "      <td>ps4</td>\n",
       "      <td>2014</td>\n",
       "      <td>action</td>\n",
       "      <td>3.96</td>\n",
       "      <td>6.31</td>\n",
       "      <td>0.38</td>\n",
       "      <td>1.97</td>\n",
       "      <td>97</td>\n",
       "      <td>8.3</td>\n",
       "      <td>M</td>\n",
       "      <td>Sony</td>\n",
       "      <td>12.62</td>\n",
       "    </tr>\n",
       "    <tr>\n",
       "      <th>77</th>\n",
       "      <td>fifa 16</td>\n",
       "      <td>ps4</td>\n",
       "      <td>2015</td>\n",
       "      <td>sports</td>\n",
       "      <td>1.12</td>\n",
       "      <td>6.12</td>\n",
       "      <td>0.06</td>\n",
       "      <td>1.28</td>\n",
       "      <td>82</td>\n",
       "      <td>4.3</td>\n",
       "      <td>E</td>\n",
       "      <td>Sony</td>\n",
       "      <td>8.58</td>\n",
       "    </tr>\n",
       "    <tr>\n",
       "      <th>87</th>\n",
       "      <td>star wars battlefront (2015)</td>\n",
       "      <td>ps4</td>\n",
       "      <td>2015</td>\n",
       "      <td>shooter</td>\n",
       "      <td>2.99</td>\n",
       "      <td>3.49</td>\n",
       "      <td>0.22</td>\n",
       "      <td>1.28</td>\n",
       "      <td>&lt;NA&gt;</td>\n",
       "      <td>NaN</td>\n",
       "      <td>NaN</td>\n",
       "      <td>Sony</td>\n",
       "      <td>7.98</td>\n",
       "    </tr>\n",
       "    <tr>\n",
       "      <th>92</th>\n",
       "      <td>call of duty: advanced warfare</td>\n",
       "      <td>ps4</td>\n",
       "      <td>2014</td>\n",
       "      <td>shooter</td>\n",
       "      <td>2.81</td>\n",
       "      <td>3.48</td>\n",
       "      <td>0.14</td>\n",
       "      <td>1.23</td>\n",
       "      <td>83</td>\n",
       "      <td>5.7</td>\n",
       "      <td>M</td>\n",
       "      <td>Sony</td>\n",
       "      <td>7.66</td>\n",
       "    </tr>\n",
       "  </tbody>\n",
       "</table>\n",
       "</div>"
      ],
      "text/plain": [
       "                              name platform year_of_release    genre  \\\n",
       "31       call of duty: black ops 3      ps4            2015  shooter   \n",
       "42              grand theft auto v      ps4            2014   action   \n",
       "77                         fifa 16      ps4            2015   sports   \n",
       "87    star wars battlefront (2015)      ps4            2015  shooter   \n",
       "92  call of duty: advanced warfare      ps4            2014  shooter   \n",
       "\n",
       "    na_sales  eu_sales  jp_sales  other_sales  critic_score  user_score  \\\n",
       "31      6.03      5.86      0.36         2.38          <NA>         NaN   \n",
       "42      3.96      6.31      0.38         1.97            97         8.3   \n",
       "77      1.12      6.12      0.06         1.28            82         4.3   \n",
       "87      2.99      3.49      0.22         1.28          <NA>         NaN   \n",
       "92      2.81      3.48      0.14         1.23            83         5.7   \n",
       "\n",
       "   rating platform_company  total_sales  \n",
       "31    NaN             Sony        14.63  \n",
       "42      M             Sony        12.62  \n",
       "77      E             Sony         8.58  \n",
       "87    NaN             Sony         7.98  \n",
       "92      M             Sony         7.66  "
      ]
     },
     "execution_count": 104,
     "metadata": {},
     "output_type": "execute_result"
    }
   ],
   "source": [
    "ps4 = games[games['platform']=='ps4']\n",
    "ps4.head()"
   ]
  },
  {
   "cell_type": "code",
   "execution_count": 105,
   "id": "3b44416b",
   "metadata": {},
   "outputs": [
    {
     "data": {
      "image/png": "[encoded data removed]",
      "text/plain": [
       "<Figure size 720x432 with 1 Axes>"
      ]
     },
     "metadata": {
      "needs_background": "light"
     },
     "output_type": "display_data"
    }
   ],
   "source": [
    "plt.figure(figsize=(10,6))\n",
    "sns.scatterplot(data=ps4, x=\"critic_score\", y=\"total_sales\")\n",
    "plt.title('PS4: Total Ventas VS Puntuación Crítica')\n",
    "plt.xlabel(\"Puntuación Crítica\")\n",
    "plt.ylabel(\"Total Ventas en USD (mill)\")\n",
    "plt.show()"
   ]
  },
  {
   "cell_type": "markdown",
   "id": "05b1ba91",
   "metadata": {},
   "source": [
    "- Se ve una correlación positiva"
   ]
  },
  {
   "cell_type": "code",
   "execution_count": 106,
   "id": "eb1b8815",
   "metadata": {},
   "outputs": [
    {
     "data": {
      "image/png": "[encoded data removed]",
      "text/plain": [
       "<Figure size 720x432 with 1 Axes>"
      ]
     },
     "metadata": {
      "needs_background": "light"
     },
     "output_type": "display_data"
    }
   ],
   "source": [
    "plt.figure(figsize=(10,6))\n",
    "sns.scatterplot(data=ps4, x=\"user_score\", y=\"total_sales\")\n",
    "plt.title('PS4: Total Ventas VS Puntuación de Usuario')\n",
    "plt.xlabel(\"Puntuación de Usuario\")\n",
    "plt.ylabel(\"Total Ventas en USD (mill)\")\n",
    "plt.show()"
   ]
  },
  {
   "cell_type": "markdown",
   "id": "e109ada4",
   "metadata": {},
   "source": [
    "- No se alcanza a ver o confirmar una correlación"
   ]
  },
  {
   "cell_type": "code",
   "execution_count": 107,
   "id": "1595ab03",
   "metadata": {},
   "outputs": [
    {
     "data": {
      "text/plain": [
       "-0.040131589472697356"
      ]
     },
     "execution_count": 107,
     "metadata": {},
     "output_type": "execute_result"
    }
   ],
   "source": [
    "ps4['user_score'].corr(ps4['total_sales'])"
   ]
  },
  {
   "cell_type": "code",
   "execution_count": 108,
   "id": "44b099cd",
   "metadata": {},
   "outputs": [
    {
     "name": "stderr",
     "output_type": "stream",
     "text": [
      "/tmp/ipykernel_44/2794930188.py:1: SettingWithCopyWarning: \n",
      "A value is trying to be set on a copy of a slice from a DataFrame.\n",
      "Try using .loc[row_indexer,col_indexer] = value instead\n",
      "\n",
      "See the caveats in the documentation: https://pandas.pydata.org/pandas-docs/stable/user_guide/indexing.html#returning-a-view-versus-a-copy\n",
      "  ps4['critic_score'] = ps4['critic_score'].astype('float')\n"
     ]
    }
   ],
   "source": [
    "ps4['critic_score'] = ps4['critic_score'].astype('float')"
   ]
  },
  {
   "cell_type": "code",
   "execution_count": 109,
   "id": "3d264910",
   "metadata": {},
   "outputs": [
    {
     "data": {
      "text/plain": [
       "0.40266141068104083"
      ]
     },
     "execution_count": 109,
     "metadata": {},
     "output_type": "execute_result"
    }
   ],
   "source": [
    "ps4['critic_score'].corr(ps4['total_sales'])"
   ]
  },
  {
   "cell_type": "code",
   "execution_count": 110,
   "id": "8e4d3e24",
   "metadata": {},
   "outputs": [
    {
     "data": {
      "text/html": [
       "<div>\n",
       "<style scoped>\n",
       "    .dataframe tbody tr th:only-of-type {\n",
       "        vertical-align: middle;\n",
       "    }\n",
       "\n",
       "    .dataframe tbody tr th {\n",
       "        vertical-align: top;\n",
       "    }\n",
       "\n",
       "    .dataframe thead th {\n",
       "        text-align: right;\n",
       "    }\n",
       "</style>\n",
       "<table border=\"1\" class=\"dataframe\">\n",
       "  <thead>\n",
       "    <tr style=\"text-align: right;\">\n",
       "      <th></th>\n",
       "      <th>na_sales</th>\n",
       "      <th>eu_sales</th>\n",
       "      <th>jp_sales</th>\n",
       "      <th>other_sales</th>\n",
       "      <th>critic_score</th>\n",
       "      <th>user_score</th>\n",
       "      <th>total_sales</th>\n",
       "    </tr>\n",
       "  </thead>\n",
       "  <tbody>\n",
       "    <tr>\n",
       "      <th>na_sales</th>\n",
       "      <td>1.000000</td>\n",
       "      <td>0.784902</td>\n",
       "      <td>0.491452</td>\n",
       "      <td>0.944903</td>\n",
       "      <td>0.411638</td>\n",
       "      <td>-0.016156</td>\n",
       "      <td>0.928090</td>\n",
       "    </tr>\n",
       "    <tr>\n",
       "      <th>eu_sales</th>\n",
       "      <td>0.784902</td>\n",
       "      <td>1.000000</td>\n",
       "      <td>0.472101</td>\n",
       "      <td>0.944380</td>\n",
       "      <td>0.340268</td>\n",
       "      <td>-0.064199</td>\n",
       "      <td>0.958109</td>\n",
       "    </tr>\n",
       "    <tr>\n",
       "      <th>jp_sales</th>\n",
       "      <td>0.491452</td>\n",
       "      <td>0.472101</td>\n",
       "      <td>1.000000</td>\n",
       "      <td>0.510433</td>\n",
       "      <td>0.379041</td>\n",
       "      <td>0.179384</td>\n",
       "      <td>0.538524</td>\n",
       "    </tr>\n",
       "    <tr>\n",
       "      <th>other_sales</th>\n",
       "      <td>0.944903</td>\n",
       "      <td>0.944380</td>\n",
       "      <td>0.510433</td>\n",
       "      <td>1.000000</td>\n",
       "      <td>0.404645</td>\n",
       "      <td>-0.044166</td>\n",
       "      <td>0.998252</td>\n",
       "    </tr>\n",
       "    <tr>\n",
       "      <th>critic_score</th>\n",
       "      <td>0.411638</td>\n",
       "      <td>0.340268</td>\n",
       "      <td>0.379041</td>\n",
       "      <td>0.404645</td>\n",
       "      <td>1.000000</td>\n",
       "      <td>0.546434</td>\n",
       "      <td>0.402661</td>\n",
       "    </tr>\n",
       "    <tr>\n",
       "      <th>user_score</th>\n",
       "      <td>-0.016156</td>\n",
       "      <td>-0.064199</td>\n",
       "      <td>0.179384</td>\n",
       "      <td>-0.044166</td>\n",
       "      <td>0.546434</td>\n",
       "      <td>1.000000</td>\n",
       "      <td>-0.040132</td>\n",
       "    </tr>\n",
       "    <tr>\n",
       "      <th>total_sales</th>\n",
       "      <td>0.928090</td>\n",
       "      <td>0.958109</td>\n",
       "      <td>0.538524</td>\n",
       "      <td>0.998252</td>\n",
       "      <td>0.402661</td>\n",
       "      <td>-0.040132</td>\n",
       "      <td>1.000000</td>\n",
       "    </tr>\n",
       "  </tbody>\n",
       "</table>\n",
       "</div>"
      ],
      "text/plain": [
       "              na_sales  eu_sales  jp_sales  other_sales  critic_score  \\\n",
       "na_sales      1.000000  0.784902  0.491452     0.944903      0.411638   \n",
       "eu_sales      0.784902  1.000000  0.472101     0.944380      0.340268   \n",
       "jp_sales      0.491452  0.472101  1.000000     0.510433      0.379041   \n",
       "other_sales   0.944903  0.944380  0.510433     1.000000      0.404645   \n",
       "critic_score  0.411638  0.340268  0.379041     0.404645      1.000000   \n",
       "user_score   -0.016156 -0.064199  0.179384    -0.044166      0.546434   \n",
       "total_sales   0.928090  0.958109  0.538524     0.998252      0.402661   \n",
       "\n",
       "              user_score  total_sales  \n",
       "na_sales       -0.016156     0.928090  \n",
       "eu_sales       -0.064199     0.958109  \n",
       "jp_sales        0.179384     0.538524  \n",
       "other_sales    -0.044166     0.998252  \n",
       "critic_score    0.546434     0.402661  \n",
       "user_score      1.000000    -0.040132  \n",
       "total_sales    -0.040132     1.000000  "
      ]
     },
     "execution_count": 110,
     "metadata": {},
     "output_type": "execute_result"
    }
   ],
   "source": [
    "ps4.corr()"
   ]
  },
  {
   "cell_type": "markdown",
   "id": "981fc1d3",
   "metadata": {},
   "source": [
    "- Confirmamos que no existe correlación entre la puntuación de usuario y el total de ventas, asi que los juegos con mayor puntuación de la crítica tienen mayores ventas totales."
   ]
  },
  {
   "cell_type": "markdown",
   "id": "edb555e7",
   "metadata": {},
   "source": [
    "-- Comparación de ventas de los mismos juegos en otras plataformas"
   ]
  },
  {
   "cell_type": "code",
   "execution_count": 111,
   "id": "ae880292",
   "metadata": {},
   "outputs": [
    {
     "data": {
      "text/html": [
       "<div>\n",
       "<style scoped>\n",
       "    .dataframe tbody tr th:only-of-type {\n",
       "        vertical-align: middle;\n",
       "    }\n",
       "\n",
       "    .dataframe tbody tr th {\n",
       "        vertical-align: top;\n",
       "    }\n",
       "\n",
       "    .dataframe thead th {\n",
       "        text-align: right;\n",
       "    }\n",
       "</style>\n",
       "<table border=\"1\" class=\"dataframe\">\n",
       "  <thead>\n",
       "    <tr style=\"text-align: right;\">\n",
       "      <th></th>\n",
       "      <th>name</th>\n",
       "      <th>platform</th>\n",
       "    </tr>\n",
       "  </thead>\n",
       "  <tbody>\n",
       "    <tr>\n",
       "      <th>6</th>\n",
       "      <td>2014 fifa world cup brazil</td>\n",
       "      <td>2</td>\n",
       "    </tr>\n",
       "    <tr>\n",
       "      <th>7</th>\n",
       "      <td>3rd super robot wars z jigoku hen</td>\n",
       "      <td>2</td>\n",
       "    </tr>\n",
       "    <tr>\n",
       "      <th>8</th>\n",
       "      <td>3rd super robot wars z: tengoku-hen</td>\n",
       "      <td>2</td>\n",
       "    </tr>\n",
       "    <tr>\n",
       "      <th>10</th>\n",
       "      <td>7 days to die</td>\n",
       "      <td>2</td>\n",
       "    </tr>\n",
       "    <tr>\n",
       "      <th>19</th>\n",
       "      <td>adventure time: finn &amp; jake investigations</td>\n",
       "      <td>6</td>\n",
       "    </tr>\n",
       "    <tr>\n",
       "      <th>...</th>\n",
       "      <td>...</td>\n",
       "      <td>...</td>\n",
       "    </tr>\n",
       "    <tr>\n",
       "      <th>938</th>\n",
       "      <td>yakuza: ishin</td>\n",
       "      <td>2</td>\n",
       "    </tr>\n",
       "    <tr>\n",
       "      <th>946</th>\n",
       "      <td>yoru no nai kuni</td>\n",
       "      <td>3</td>\n",
       "    </tr>\n",
       "    <tr>\n",
       "      <th>953</th>\n",
       "      <td>zero escape: zero time dilemma</td>\n",
       "      <td>2</td>\n",
       "    </tr>\n",
       "    <tr>\n",
       "      <th>955</th>\n",
       "      <td>zombie army trilogy</td>\n",
       "      <td>2</td>\n",
       "    </tr>\n",
       "    <tr>\n",
       "      <th>956</th>\n",
       "      <td>zombiu</td>\n",
       "      <td>2</td>\n",
       "    </tr>\n",
       "  </tbody>\n",
       "</table>\n",
       "<p>367 rows × 2 columns</p>\n",
       "</div>"
      ],
      "text/plain": [
       "                                           name  platform\n",
       "6                    2014 fifa world cup brazil         2\n",
       "7             3rd super robot wars z jigoku hen         2\n",
       "8           3rd super robot wars z: tengoku-hen         2\n",
       "10                                7 days to die         2\n",
       "19   adventure time: finn & jake investigations         6\n",
       "..                                          ...       ...\n",
       "938                               yakuza: ishin         2\n",
       "946                            yoru no nai kuni         3\n",
       "953              zero escape: zero time dilemma         2\n",
       "955                         zombie army trilogy         2\n",
       "956                                      zombiu         2\n",
       "\n",
       "[367 rows x 2 columns]"
      ]
     },
     "execution_count": 111,
     "metadata": {},
     "output_type": "execute_result"
    }
   ],
   "source": [
    "multigames = games.groupby(['name'])['platform'].nunique().to_frame().reset_index()\n",
    "multigames = multigames.loc[multigames['platform']>1]\n",
    "multigames"
   ]
  },
  {
   "cell_type": "code",
   "execution_count": 112,
   "id": "6f0ba24d",
   "metadata": {},
   "outputs": [
    {
     "data": {
      "text/plain": [
       "38.349007314524556"
      ]
     },
     "execution_count": 112,
     "metadata": {},
     "output_type": "execute_result"
    }
   ],
   "source": [
    "len(multigames)/ len(games['name'].unique()) * 100"
   ]
  },
  {
   "cell_type": "markdown",
   "id": "70364fb8",
   "metadata": {},
   "source": [
    "- 38.3% de los juegos se desarrollan para múltiples consolas desde el 2014"
   ]
  },
  {
   "cell_type": "code",
   "execution_count": 113,
   "id": "d4e87d85",
   "metadata": {},
   "outputs": [
    {
     "data": {
      "text/plain": [
       "ps4     296\n",
       "xone    210\n",
       "ps3     186\n",
       "x360    109\n",
       "pc      104\n",
       "psv     101\n",
       "wiiu     43\n",
       "3ds      35\n",
       "wii      11\n",
       "psp       4\n",
       "Name: platform, dtype: int64"
      ]
     },
     "execution_count": 113,
     "metadata": {},
     "output_type": "execute_result"
    }
   ],
   "source": [
    "games.loc[games['name'].isin(multigames['name'])]['platform'].value_counts()"
   ]
  },
  {
   "cell_type": "markdown",
   "id": "be6601e0",
   "metadata": {},
   "source": [
    "- Los juegos de PS4 son los más populares en multiples consolas."
   ]
  },
  {
   "cell_type": "markdown",
   "id": "033c54f6",
   "metadata": {},
   "source": [
    "- Los 10 mejores juegos desarrollados en múltiples plataformas ordenados por número de plataforma"
   ]
  },
  {
   "cell_type": "code",
   "execution_count": 114,
   "id": "5376d040",
   "metadata": {},
   "outputs": [
    {
     "data": {
      "text/plain": [
       "name\n",
       "the lego movie videogame             8\n",
       "lego the hobbit                      8\n",
       "lego batman 3: beyond gotham         8\n",
       "fifa 15                              8\n",
       "lego jurassic world                  8\n",
       "lego star wars: the force awakens    7\n",
       "the amazing spider-man 2 (2014)      7\n",
       "skylanders: trap team                7\n",
       "lego marvel's avengers               7\n",
       "skylanders: superchargers            7\n",
       "Name: platform, dtype: int64"
      ]
     },
     "execution_count": 114,
     "metadata": {},
     "output_type": "execute_result"
    }
   ],
   "source": [
    "games.groupby(['name'])['platform'].nunique().sort_values(ascending=False).head(10)"
   ]
  },
  {
   "cell_type": "markdown",
   "id": "5f8b7fdc",
   "metadata": {},
   "source": [
    "- Los 10 mejores juegos desarrollados en varias plataformas para distintas compañías"
   ]
  },
  {
   "cell_type": "code",
   "execution_count": 115,
   "id": "29f65fce",
   "metadata": {},
   "outputs": [
    {
     "data": {
      "text/plain": [
       "name\n",
       "watch dogs                         4\n",
       "the lego movie videogame           4\n",
       "lego batman 3: beyond gotham       4\n",
       "lego jurassic world                4\n",
       "lego the hobbit                    4\n",
       "the amazing spider-man 2 (2014)    4\n",
       "fifa 15                            4\n",
       "transformers: devastation          3\n",
       "castlevania: lords of shadow 2     3\n",
       "homefront: the revolution          3\n",
       "Name: platform_company, dtype: int64"
      ]
     },
     "execution_count": 115,
     "metadata": {},
     "output_type": "execute_result"
    }
   ],
   "source": [
    "games.groupby(['name'])['platform_company'].nunique().sort_values(ascending=False).head(10)"
   ]
  },
  {
   "cell_type": "markdown",
   "id": "d14fa2c6",
   "metadata": {},
   "source": [
    "- Total de ventas de juegos con múltiples plataformas"
   ]
  },
  {
   "cell_type": "code",
   "execution_count": 116,
   "id": "71859d3a",
   "metadata": {},
   "outputs": [
    {
     "data": {
      "text/html": [
       "<div>\n",
       "<style scoped>\n",
       "    .dataframe tbody tr th:only-of-type {\n",
       "        vertical-align: middle;\n",
       "    }\n",
       "\n",
       "    .dataframe tbody tr th {\n",
       "        vertical-align: top;\n",
       "    }\n",
       "\n",
       "    .dataframe thead th {\n",
       "        text-align: right;\n",
       "    }\n",
       "</style>\n",
       "<table border=\"1\" class=\"dataframe\">\n",
       "  <thead>\n",
       "    <tr style=\"text-align: right;\">\n",
       "      <th></th>\n",
       "      <th></th>\n",
       "      <th>total_sales</th>\n",
       "    </tr>\n",
       "    <tr>\n",
       "      <th>name</th>\n",
       "      <th>platform</th>\n",
       "      <th></th>\n",
       "    </tr>\n",
       "  </thead>\n",
       "  <tbody>\n",
       "    <tr>\n",
       "      <th rowspan=\"2\" valign=\"top\">2014 fifa world cup brazil</th>\n",
       "      <th>ps3</th>\n",
       "      <td>0.61</td>\n",
       "    </tr>\n",
       "    <tr>\n",
       "      <th>x360</th>\n",
       "      <td>0.43</td>\n",
       "    </tr>\n",
       "    <tr>\n",
       "      <th rowspan=\"2\" valign=\"top\">3rd super robot wars z jigoku hen</th>\n",
       "      <th>ps3</th>\n",
       "      <td>0.23</td>\n",
       "    </tr>\n",
       "    <tr>\n",
       "      <th>psv</th>\n",
       "      <td>0.19</td>\n",
       "    </tr>\n",
       "    <tr>\n",
       "      <th>3rd super robot wars z: tengoku-hen</th>\n",
       "      <th>ps3</th>\n",
       "      <td>0.15</td>\n",
       "    </tr>\n",
       "    <tr>\n",
       "      <th>...</th>\n",
       "      <th>...</th>\n",
       "      <td>...</td>\n",
       "    </tr>\n",
       "    <tr>\n",
       "      <th>zero escape: zero time dilemma</th>\n",
       "      <th>psv</th>\n",
       "      <td>0.06</td>\n",
       "    </tr>\n",
       "    <tr>\n",
       "      <th rowspan=\"2\" valign=\"top\">zombie army trilogy</th>\n",
       "      <th>ps4</th>\n",
       "      <td>0.20</td>\n",
       "    </tr>\n",
       "    <tr>\n",
       "      <th>xone</th>\n",
       "      <td>0.11</td>\n",
       "    </tr>\n",
       "    <tr>\n",
       "      <th rowspan=\"2\" valign=\"top\">zombiu</th>\n",
       "      <th>ps4</th>\n",
       "      <td>0.06</td>\n",
       "    </tr>\n",
       "    <tr>\n",
       "      <th>xone</th>\n",
       "      <td>0.01</td>\n",
       "    </tr>\n",
       "  </tbody>\n",
       "</table>\n",
       "<p>1099 rows × 1 columns</p>\n",
       "</div>"
      ],
      "text/plain": [
       "                                              total_sales\n",
       "name                                platform             \n",
       "2014 fifa world cup brazil          ps3              0.61\n",
       "                                    x360             0.43\n",
       "3rd super robot wars z jigoku hen   ps3              0.23\n",
       "                                    psv              0.19\n",
       "3rd super robot wars z: tengoku-hen ps3              0.15\n",
       "...                                                   ...\n",
       "zero escape: zero time dilemma      psv              0.06\n",
       "zombie army trilogy                 ps4              0.20\n",
       "                                    xone             0.11\n",
       "zombiu                              ps4              0.06\n",
       "                                    xone             0.01\n",
       "\n",
       "[1099 rows x 1 columns]"
      ]
     },
     "execution_count": 116,
     "metadata": {},
     "output_type": "execute_result"
    }
   ],
   "source": [
    "games_multi_sales = games.loc[games['name'].isin(multigames['name'])].groupby(['name','platform']).agg({'total_sales':'sum'})\n",
    "games_multi_sales"
   ]
  },
  {
   "cell_type": "markdown",
   "id": "17a272e2",
   "metadata": {},
   "source": [
    "- Ventas totales de juegos con múltiples consolas con ventas totales superiores a 5 millones"
   ]
  },
  {
   "cell_type": "code",
   "execution_count": 117,
   "id": "07ff4cd8",
   "metadata": {},
   "outputs": [
    {
     "data": {
      "text/html": [
       "<div>\n",
       "<style scoped>\n",
       "    .dataframe tbody tr th:only-of-type {\n",
       "        vertical-align: middle;\n",
       "    }\n",
       "\n",
       "    .dataframe tbody tr th {\n",
       "        vertical-align: top;\n",
       "    }\n",
       "\n",
       "    .dataframe thead th {\n",
       "        text-align: right;\n",
       "    }\n",
       "</style>\n",
       "<table border=\"1\" class=\"dataframe\">\n",
       "  <thead>\n",
       "    <tr style=\"text-align: right;\">\n",
       "      <th></th>\n",
       "      <th></th>\n",
       "      <th>total_sales</th>\n",
       "    </tr>\n",
       "    <tr>\n",
       "      <th>name</th>\n",
       "      <th>platform</th>\n",
       "      <th></th>\n",
       "    </tr>\n",
       "  </thead>\n",
       "  <tbody>\n",
       "    <tr>\n",
       "      <th rowspan=\"2\" valign=\"top\">call of duty: advanced warfare</th>\n",
       "      <th>ps4</th>\n",
       "      <td>7.66</td>\n",
       "    </tr>\n",
       "    <tr>\n",
       "      <th>xone</th>\n",
       "      <td>5.26</td>\n",
       "    </tr>\n",
       "    <tr>\n",
       "      <th rowspan=\"2\" valign=\"top\">call of duty: black ops 3</th>\n",
       "      <th>ps4</th>\n",
       "      <td>14.63</td>\n",
       "    </tr>\n",
       "    <tr>\n",
       "      <th>xone</th>\n",
       "      <td>7.39</td>\n",
       "    </tr>\n",
       "    <tr>\n",
       "      <th>destiny</th>\n",
       "      <th>ps4</th>\n",
       "      <td>5.64</td>\n",
       "    </tr>\n",
       "    <tr>\n",
       "      <th>fallout 4</th>\n",
       "      <th>ps4</th>\n",
       "      <td>7.17</td>\n",
       "    </tr>\n",
       "    <tr>\n",
       "      <th>fifa 15</th>\n",
       "      <th>ps4</th>\n",
       "      <td>6.08</td>\n",
       "    </tr>\n",
       "    <tr>\n",
       "      <th>fifa 16</th>\n",
       "      <th>ps4</th>\n",
       "      <td>8.58</td>\n",
       "    </tr>\n",
       "    <tr>\n",
       "      <th>fifa 17</th>\n",
       "      <th>ps4</th>\n",
       "      <td>7.60</td>\n",
       "    </tr>\n",
       "    <tr>\n",
       "      <th rowspan=\"2\" valign=\"top\">grand theft auto v</th>\n",
       "      <th>ps4</th>\n",
       "      <td>12.62</td>\n",
       "    </tr>\n",
       "    <tr>\n",
       "      <th>xone</th>\n",
       "      <td>5.47</td>\n",
       "    </tr>\n",
       "    <tr>\n",
       "      <th>minecraft</th>\n",
       "      <th>ps3</th>\n",
       "      <td>5.27</td>\n",
       "    </tr>\n",
       "    <tr>\n",
       "      <th>star wars battlefront (2015)</th>\n",
       "      <th>ps4</th>\n",
       "      <td>7.98</td>\n",
       "    </tr>\n",
       "  </tbody>\n",
       "</table>\n",
       "</div>"
      ],
      "text/plain": [
       "                                         total_sales\n",
       "name                           platform             \n",
       "call of duty: advanced warfare ps4              7.66\n",
       "                               xone             5.26\n",
       "call of duty: black ops 3      ps4             14.63\n",
       "                               xone             7.39\n",
       "destiny                        ps4              5.64\n",
       "fallout 4                      ps4              7.17\n",
       "fifa 15                        ps4              6.08\n",
       "fifa 16                        ps4              8.58\n",
       "fifa 17                        ps4              7.60\n",
       "grand theft auto v             ps4             12.62\n",
       "                               xone             5.47\n",
       "minecraft                      ps3              5.27\n",
       "star wars battlefront (2015)   ps4              7.98"
      ]
     },
     "execution_count": 117,
     "metadata": {},
     "output_type": "execute_result"
    }
   ],
   "source": [
    "games_multi_sales[games_multi_sales['total_sales']>5]"
   ]
  },
  {
   "cell_type": "code",
   "execution_count": 118,
   "id": "bac9b83c",
   "metadata": {},
   "outputs": [
    {
     "data": {
      "text/html": [
       "<div>\n",
       "<style scoped>\n",
       "    .dataframe tbody tr th:only-of-type {\n",
       "        vertical-align: middle;\n",
       "    }\n",
       "\n",
       "    .dataframe tbody tr th {\n",
       "        vertical-align: top;\n",
       "    }\n",
       "\n",
       "    .dataframe thead th {\n",
       "        text-align: right;\n",
       "    }\n",
       "</style>\n",
       "<table border=\"1\" class=\"dataframe\">\n",
       "  <thead>\n",
       "    <tr style=\"text-align: right;\">\n",
       "      <th></th>\n",
       "      <th></th>\n",
       "      <th>total_sales</th>\n",
       "    </tr>\n",
       "    <tr>\n",
       "      <th>name</th>\n",
       "      <th>platform</th>\n",
       "      <th></th>\n",
       "    </tr>\n",
       "  </thead>\n",
       "  <tbody>\n",
       "    <tr>\n",
       "      <th>call of duty: black ops 3</th>\n",
       "      <th>ps4</th>\n",
       "      <td>14.63</td>\n",
       "    </tr>\n",
       "  </tbody>\n",
       "</table>\n",
       "</div>"
      ],
      "text/plain": [
       "                                    total_sales\n",
       "name                      platform             \n",
       "call of duty: black ops 3 ps4             14.63"
      ]
     },
     "execution_count": 118,
     "metadata": {},
     "output_type": "execute_result"
    }
   ],
   "source": [
    "games_multi_sales[games_multi_sales['total_sales'] == games_multi_sales['total_sales'].max()]"
   ]
  },
  {
   "cell_type": "markdown",
   "id": "14dd2432",
   "metadata": {},
   "source": [
    "- Sony ha liderado las ventas totales en múltiples consolas, seguido de Microsoft"
   ]
  },
  {
   "cell_type": "markdown",
   "id": "7c7d0c60",
   "metadata": {},
   "source": [
    "---- ¿Qué puedo decir de los géneros más rentables? ¿Puedo generalizar sobre géneros con ventas altas y bajas?"
   ]
  },
  {
   "cell_type": "code",
   "execution_count": 119,
   "id": "10f36478",
   "metadata": {},
   "outputs": [
    {
     "data": {
      "text/html": [
       "<div>\n",
       "<style scoped>\n",
       "    .dataframe tbody tr th:only-of-type {\n",
       "        vertical-align: middle;\n",
       "    }\n",
       "\n",
       "    .dataframe tbody tr th {\n",
       "        vertical-align: top;\n",
       "    }\n",
       "\n",
       "    .dataframe thead th {\n",
       "        text-align: right;\n",
       "    }\n",
       "</style>\n",
       "<table border=\"1\" class=\"dataframe\">\n",
       "  <thead>\n",
       "    <tr style=\"text-align: right;\">\n",
       "      <th></th>\n",
       "      <th>genre</th>\n",
       "      <th>total_sales</th>\n",
       "    </tr>\n",
       "  </thead>\n",
       "  <tbody>\n",
       "    <tr>\n",
       "      <th>0</th>\n",
       "      <td>action</td>\n",
       "      <td>199.36</td>\n",
       "    </tr>\n",
       "    <tr>\n",
       "      <th>1</th>\n",
       "      <td>shooter</td>\n",
       "      <td>170.94</td>\n",
       "    </tr>\n",
       "    <tr>\n",
       "      <th>2</th>\n",
       "      <td>sports</td>\n",
       "      <td>109.48</td>\n",
       "    </tr>\n",
       "    <tr>\n",
       "      <th>3</th>\n",
       "      <td>role-playing</td>\n",
       "      <td>101.44</td>\n",
       "    </tr>\n",
       "    <tr>\n",
       "      <th>4</th>\n",
       "      <td>misc</td>\n",
       "      <td>37.55</td>\n",
       "    </tr>\n",
       "    <tr>\n",
       "      <th>5</th>\n",
       "      <td>fighting</td>\n",
       "      <td>28.22</td>\n",
       "    </tr>\n",
       "    <tr>\n",
       "      <th>6</th>\n",
       "      <td>racing</td>\n",
       "      <td>27.52</td>\n",
       "    </tr>\n",
       "    <tr>\n",
       "      <th>7</th>\n",
       "      <td>platform</td>\n",
       "      <td>18.09</td>\n",
       "    </tr>\n",
       "    <tr>\n",
       "      <th>8</th>\n",
       "      <td>adventure</td>\n",
       "      <td>17.55</td>\n",
       "    </tr>\n",
       "    <tr>\n",
       "      <th>9</th>\n",
       "      <td>simulation</td>\n",
       "      <td>13.13</td>\n",
       "    </tr>\n",
       "    <tr>\n",
       "      <th>10</th>\n",
       "      <td>strategy</td>\n",
       "      <td>3.96</td>\n",
       "    </tr>\n",
       "    <tr>\n",
       "      <th>11</th>\n",
       "      <td>puzzle</td>\n",
       "      <td>2.21</td>\n",
       "    </tr>\n",
       "  </tbody>\n",
       "</table>\n",
       "</div>"
      ],
      "text/plain": [
       "           genre  total_sales\n",
       "0         action       199.36\n",
       "1        shooter       170.94\n",
       "2         sports       109.48\n",
       "3   role-playing       101.44\n",
       "4           misc        37.55\n",
       "5       fighting        28.22\n",
       "6         racing        27.52\n",
       "7       platform        18.09\n",
       "8      adventure        17.55\n",
       "9     simulation        13.13\n",
       "10      strategy         3.96\n",
       "11        puzzle         2.21"
      ]
     },
     "execution_count": 119,
     "metadata": {},
     "output_type": "execute_result"
    }
   ],
   "source": [
    "games_genre = games.groupby('genre')['total_sales'].sum().to_frame().sort_values(by='total_sales', ascending=False).reset_index()\n",
    "games_genre"
   ]
  },
  {
   "cell_type": "code",
   "execution_count": 120,
   "id": "f3d75a45",
   "metadata": {},
   "outputs": [
    {
     "data": {
      "text/plain": [
       "Text(0, 0.5, 'Total Ventas')"
      ]
     },
     "execution_count": 120,
     "metadata": {},
     "output_type": "execute_result"
    },
    {
     "data": {
      "image/png": "[encoded data removed]",
      "text/plain": [
       "<Figure size 1080x432 with 1 Axes>"
      ]
     },
     "metadata": {
      "needs_background": "light"
     },
     "output_type": "display_data"
    }
   ],
   "source": [
    "plt.figure(figsize=(15,6))\n",
    "sns.barplot( data=games_genre, x=\"genre\", y=\"total_sales\")\n",
    "plt.title('Total Ventas por Género')\n",
    "plt.xlabel('Género')\n",
    "plt.ylabel('Total Ventas')"
   ]
  },
  {
   "cell_type": "code",
   "execution_count": 121,
   "id": "6532c000",
   "metadata": {},
   "outputs": [
    {
     "data": {
      "text/html": [
       "<div>\n",
       "<style scoped>\n",
       "    .dataframe tbody tr th:only-of-type {\n",
       "        vertical-align: middle;\n",
       "    }\n",
       "\n",
       "    .dataframe tbody tr th {\n",
       "        vertical-align: top;\n",
       "    }\n",
       "\n",
       "    .dataframe thead th {\n",
       "        text-align: right;\n",
       "    }\n",
       "</style>\n",
       "<table border=\"1\" class=\"dataframe\">\n",
       "  <thead>\n",
       "    <tr style=\"text-align: right;\">\n",
       "      <th></th>\n",
       "      <th>sum</th>\n",
       "      <th>count</th>\n",
       "    </tr>\n",
       "    <tr>\n",
       "      <th>platform_company</th>\n",
       "      <th></th>\n",
       "      <th></th>\n",
       "    </tr>\n",
       "  </thead>\n",
       "  <tbody>\n",
       "    <tr>\n",
       "      <th>Microsoft</th>\n",
       "      <td>43.39</td>\n",
       "      <td>116</td>\n",
       "    </tr>\n",
       "    <tr>\n",
       "      <th>Nintendo</th>\n",
       "      <td>33.24</td>\n",
       "      <td>128</td>\n",
       "    </tr>\n",
       "    <tr>\n",
       "      <th>Sony</th>\n",
       "      <td>117.39</td>\n",
       "      <td>336</td>\n",
       "    </tr>\n",
       "    <tr>\n",
       "      <th>Unknown-PC</th>\n",
       "      <td>5.34</td>\n",
       "      <td>39</td>\n",
       "    </tr>\n",
       "  </tbody>\n",
       "</table>\n",
       "</div>"
      ],
      "text/plain": [
       "                     sum  count\n",
       "platform_company               \n",
       "Microsoft          43.39    116\n",
       "Nintendo           33.24    128\n",
       "Sony              117.39    336\n",
       "Unknown-PC          5.34     39"
      ]
     },
     "execution_count": 121,
     "metadata": {},
     "output_type": "execute_result"
    }
   ],
   "source": [
    "games.loc[original_df['genre']=='action'].groupby(['platform_company'])['total_sales'].agg(['sum','count'])"
   ]
  },
  {
   "cell_type": "code",
   "execution_count": 122,
   "id": "1cee39b8",
   "metadata": {},
   "outputs": [
    {
     "data": {
      "text/html": [
       "<div>\n",
       "<style scoped>\n",
       "    .dataframe tbody tr th:only-of-type {\n",
       "        vertical-align: middle;\n",
       "    }\n",
       "\n",
       "    .dataframe tbody tr th {\n",
       "        vertical-align: top;\n",
       "    }\n",
       "\n",
       "    .dataframe thead th {\n",
       "        text-align: right;\n",
       "    }\n",
       "</style>\n",
       "<table border=\"1\" class=\"dataframe\">\n",
       "  <thead>\n",
       "    <tr style=\"text-align: right;\">\n",
       "      <th></th>\n",
       "      <th>sum</th>\n",
       "      <th>count</th>\n",
       "    </tr>\n",
       "    <tr>\n",
       "      <th>platform</th>\n",
       "      <th></th>\n",
       "      <th></th>\n",
       "    </tr>\n",
       "  </thead>\n",
       "  <tbody>\n",
       "    <tr>\n",
       "      <th>3ds</th>\n",
       "      <td>22.06</td>\n",
       "      <td>87</td>\n",
       "    </tr>\n",
       "    <tr>\n",
       "      <th>pc</th>\n",
       "      <td>5.34</td>\n",
       "      <td>39</td>\n",
       "    </tr>\n",
       "    <tr>\n",
       "      <th>ps3</th>\n",
       "      <td>18.10</td>\n",
       "      <td>77</td>\n",
       "    </tr>\n",
       "    <tr>\n",
       "      <th>ps4</th>\n",
       "      <td>91.62</td>\n",
       "      <td>142</td>\n",
       "    </tr>\n",
       "    <tr>\n",
       "      <th>psp</th>\n",
       "      <td>0.20</td>\n",
       "      <td>6</td>\n",
       "    </tr>\n",
       "    <tr>\n",
       "      <th>psv</th>\n",
       "      <td>7.47</td>\n",
       "      <td>111</td>\n",
       "    </tr>\n",
       "    <tr>\n",
       "      <th>wii</th>\n",
       "      <td>1.19</td>\n",
       "      <td>6</td>\n",
       "    </tr>\n",
       "    <tr>\n",
       "      <th>wiiu</th>\n",
       "      <td>9.99</td>\n",
       "      <td>35</td>\n",
       "    </tr>\n",
       "    <tr>\n",
       "      <th>x360</th>\n",
       "      <td>12.33</td>\n",
       "      <td>35</td>\n",
       "    </tr>\n",
       "    <tr>\n",
       "      <th>xone</th>\n",
       "      <td>31.06</td>\n",
       "      <td>81</td>\n",
       "    </tr>\n",
       "  </tbody>\n",
       "</table>\n",
       "</div>"
      ],
      "text/plain": [
       "            sum  count\n",
       "platform              \n",
       "3ds       22.06     87\n",
       "pc         5.34     39\n",
       "ps3       18.10     77\n",
       "ps4       91.62    142\n",
       "psp        0.20      6\n",
       "psv        7.47    111\n",
       "wii        1.19      6\n",
       "wiiu       9.99     35\n",
       "x360      12.33     35\n",
       "xone      31.06     81"
      ]
     },
     "execution_count": 122,
     "metadata": {},
     "output_type": "execute_result"
    }
   ],
   "source": [
    "games.loc[original_df['genre']=='action'].groupby(['platform'])['total_sales'].agg(['sum','count'])"
   ]
  },
  {
   "cell_type": "markdown",
   "id": "e1806bb2",
   "metadata": {},
   "source": [
    "- Sony es la empresa que más dinero gana con el género de acción.\n",
    "- Hay muchos juegos de acción para las consolas Sony y Nintendo.\n",
    "- Hay muchos juegos de acción para las consolas PS4 y PS Vita en específico.\n",
    "- Los juegos de acción, shooters y deportes son los que más dinero generan, mientras que los juegos de simulación, estrategia y rompecabezas son los que menos dinero generan.\n",
    "- PS4, Xbox One y el Nintendo 3DS son las consolas más rentables para el género de acción."
   ]
  },
  {
   "cell_type": "markdown",
   "id": "a2009797",
   "metadata": {},
   "source": [
    "# Conclusiones medias"
   ]
  },
  {
   "cell_type": "markdown",
   "id": "4f3e441a",
   "metadata": {},
   "source": [
    "- PS2 fue la consola más popular de todos los tiempos, pero dejó de producirse en 2011.\n",
    "- PS4 es la plataforma más rentable y vende más juegos desde 2014.\n",
    "- Las consolas más longevas son PS2, PSP y X360, que duraron 11 años antes de desaparecer.\n",
    "- Sony es la empresa más rentable y vende más juegos.\n",
    "- Microsoft es la segunda empresa con más ventas totales, con Xbox One como su producto estrella.\n",
    "- Los juegos de acción son los que más dinero generan, seguidos de los shooters.\n",
    "- Sony es la empresa que vende más juegos de diferentes plataformas.\n",
    "- Los juegos que tienen mejores críticas suelen vender más."
   ]
  },
  {
   "cell_type": "markdown",
   "id": "6ceb318d",
   "metadata": {},
   "source": [
    "# 4. Análisis por Regiones"
   ]
  },
  {
   "cell_type": "markdown",
   "id": "aedd9b1e",
   "metadata": {},
   "source": [
    "- NA, Europa y Japón"
   ]
  },
  {
   "cell_type": "markdown",
   "id": "d68d6c48",
   "metadata": {},
   "source": [
    "- Comenzaré juntando las ventas de las 3 regiones en 'regions'"
   ]
  },
  {
   "cell_type": "code",
   "execution_count": 123,
   "id": "8874e228",
   "metadata": {},
   "outputs": [
    {
     "data": {
      "text/html": [
       "<div>\n",
       "<style scoped>\n",
       "    .dataframe tbody tr th:only-of-type {\n",
       "        vertical-align: middle;\n",
       "    }\n",
       "\n",
       "    .dataframe tbody tr th {\n",
       "        vertical-align: top;\n",
       "    }\n",
       "\n",
       "    .dataframe thead th {\n",
       "        text-align: right;\n",
       "    }\n",
       "</style>\n",
       "<table border=\"1\" class=\"dataframe\">\n",
       "  <thead>\n",
       "    <tr style=\"text-align: right;\">\n",
       "      <th></th>\n",
       "      <th>na_sales</th>\n",
       "    </tr>\n",
       "    <tr>\n",
       "      <th>platform</th>\n",
       "      <th></th>\n",
       "    </tr>\n",
       "  </thead>\n",
       "  <tbody>\n",
       "    <tr>\n",
       "      <th>ps4</th>\n",
       "      <td>98.61</td>\n",
       "    </tr>\n",
       "    <tr>\n",
       "      <th>xone</th>\n",
       "      <td>81.27</td>\n",
       "    </tr>\n",
       "    <tr>\n",
       "      <th>x360</th>\n",
       "      <td>28.30</td>\n",
       "    </tr>\n",
       "    <tr>\n",
       "      <th>3ds</th>\n",
       "      <td>22.64</td>\n",
       "    </tr>\n",
       "    <tr>\n",
       "      <th>ps3</th>\n",
       "      <td>22.05</td>\n",
       "    </tr>\n",
       "  </tbody>\n",
       "</table>\n",
       "</div>"
      ],
      "text/plain": [
       "          na_sales\n",
       "platform          \n",
       "ps4          98.61\n",
       "xone         81.27\n",
       "x360         28.30\n",
       "3ds          22.64\n",
       "ps3          22.05"
      ]
     },
     "metadata": {},
     "output_type": "display_data"
    },
    {
     "data": {
      "text/html": [
       "<div>\n",
       "<style scoped>\n",
       "    .dataframe tbody tr th:only-of-type {\n",
       "        vertical-align: middle;\n",
       "    }\n",
       "\n",
       "    .dataframe tbody tr th {\n",
       "        vertical-align: top;\n",
       "    }\n",
       "\n",
       "    .dataframe thead th {\n",
       "        text-align: right;\n",
       "    }\n",
       "</style>\n",
       "<table border=\"1\" class=\"dataframe\">\n",
       "  <thead>\n",
       "    <tr style=\"text-align: right;\">\n",
       "      <th></th>\n",
       "      <th>eu_sales</th>\n",
       "    </tr>\n",
       "    <tr>\n",
       "      <th>platform</th>\n",
       "      <th></th>\n",
       "    </tr>\n",
       "  </thead>\n",
       "  <tbody>\n",
       "    <tr>\n",
       "      <th>ps4</th>\n",
       "      <td>130.04</td>\n",
       "    </tr>\n",
       "    <tr>\n",
       "      <th>xone</th>\n",
       "      <td>46.25</td>\n",
       "    </tr>\n",
       "    <tr>\n",
       "      <th>ps3</th>\n",
       "      <td>25.54</td>\n",
       "    </tr>\n",
       "    <tr>\n",
       "      <th>pc</th>\n",
       "      <td>17.97</td>\n",
       "    </tr>\n",
       "    <tr>\n",
       "      <th>3ds</th>\n",
       "      <td>16.12</td>\n",
       "    </tr>\n",
       "  </tbody>\n",
       "</table>\n",
       "</div>"
      ],
      "text/plain": [
       "          eu_sales\n",
       "platform          \n",
       "ps4         130.04\n",
       "xone         46.25\n",
       "ps3          25.54\n",
       "pc           17.97\n",
       "3ds          16.12"
      ]
     },
     "metadata": {},
     "output_type": "display_data"
    },
    {
     "data": {
      "text/html": [
       "<div>\n",
       "<style scoped>\n",
       "    .dataframe tbody tr th:only-of-type {\n",
       "        vertical-align: middle;\n",
       "    }\n",
       "\n",
       "    .dataframe tbody tr th {\n",
       "        vertical-align: top;\n",
       "    }\n",
       "\n",
       "    .dataframe thead th {\n",
       "        text-align: right;\n",
       "    }\n",
       "</style>\n",
       "<table border=\"1\" class=\"dataframe\">\n",
       "  <thead>\n",
       "    <tr style=\"text-align: right;\">\n",
       "      <th></th>\n",
       "      <th>jp_sales</th>\n",
       "    </tr>\n",
       "    <tr>\n",
       "      <th>platform</th>\n",
       "      <th></th>\n",
       "    </tr>\n",
       "  </thead>\n",
       "  <tbody>\n",
       "    <tr>\n",
       "      <th>3ds</th>\n",
       "      <td>44.24</td>\n",
       "    </tr>\n",
       "    <tr>\n",
       "      <th>ps4</th>\n",
       "      <td>15.02</td>\n",
       "    </tr>\n",
       "    <tr>\n",
       "      <th>psv</th>\n",
       "      <td>14.54</td>\n",
       "    </tr>\n",
       "    <tr>\n",
       "      <th>ps3</th>\n",
       "      <td>11.22</td>\n",
       "    </tr>\n",
       "    <tr>\n",
       "      <th>wiiu</th>\n",
       "      <td>7.31</td>\n",
       "    </tr>\n",
       "  </tbody>\n",
       "</table>\n",
       "</div>"
      ],
      "text/plain": [
       "          jp_sales\n",
       "platform          \n",
       "3ds          44.24\n",
       "ps4          15.02\n",
       "psv          14.54\n",
       "ps3          11.22\n",
       "wiiu          7.31"
      ]
     },
     "metadata": {},
     "output_type": "display_data"
    }
   ],
   "source": [
    "regions = ['na_sales','eu_sales','jp_sales']\n",
    "for region in regions:\n",
    "    display(games.pivot_table(index='platform',values=region,aggfunc='sum').sort_values(by=region,ascending=False).head())"
   ]
  },
  {
   "cell_type": "markdown",
   "id": "3d947a71",
   "metadata": {},
   "source": [
    "- La consola más popular en Norteamérica es la PS4.\n",
    "- La consola más popular en Europa es la PS4.\n",
    "- La consola más popular en Japón es el Nintendo 3DS."
   ]
  },
  {
   "cell_type": "code",
   "execution_count": 124,
   "id": "2c5a8f5c",
   "metadata": {},
   "outputs": [
    {
     "data": {
      "text/html": [
       "<div>\n",
       "<style scoped>\n",
       "    .dataframe tbody tr th:only-of-type {\n",
       "        vertical-align: middle;\n",
       "    }\n",
       "\n",
       "    .dataframe tbody tr th {\n",
       "        vertical-align: top;\n",
       "    }\n",
       "\n",
       "    .dataframe thead th {\n",
       "        text-align: right;\n",
       "    }\n",
       "</style>\n",
       "<table border=\"1\" class=\"dataframe\">\n",
       "  <thead>\n",
       "    <tr style=\"text-align: right;\">\n",
       "      <th></th>\n",
       "      <th>na_sales</th>\n",
       "    </tr>\n",
       "    <tr>\n",
       "      <th>platform_company</th>\n",
       "      <th></th>\n",
       "    </tr>\n",
       "  </thead>\n",
       "  <tbody>\n",
       "    <tr>\n",
       "      <th>Sony</th>\n",
       "      <td>123.18</td>\n",
       "    </tr>\n",
       "    <tr>\n",
       "      <th>Microsoft</th>\n",
       "      <td>109.57</td>\n",
       "    </tr>\n",
       "    <tr>\n",
       "      <th>Nintendo</th>\n",
       "      <td>44.08</td>\n",
       "    </tr>\n",
       "    <tr>\n",
       "      <th>Unknown-PC</th>\n",
       "      <td>7.23</td>\n",
       "    </tr>\n",
       "  </tbody>\n",
       "</table>\n",
       "</div>"
      ],
      "text/plain": [
       "                  na_sales\n",
       "platform_company          \n",
       "Sony                123.18\n",
       "Microsoft           109.57\n",
       "Nintendo             44.08\n",
       "Unknown-PC            7.23"
      ]
     },
     "metadata": {},
     "output_type": "display_data"
    },
    {
     "data": {
      "text/html": [
       "<div>\n",
       "<style scoped>\n",
       "    .dataframe tbody tr th:only-of-type {\n",
       "        vertical-align: middle;\n",
       "    }\n",
       "\n",
       "    .dataframe tbody tr th {\n",
       "        vertical-align: top;\n",
       "    }\n",
       "\n",
       "    .dataframe thead th {\n",
       "        text-align: right;\n",
       "    }\n",
       "</style>\n",
       "<table border=\"1\" class=\"dataframe\">\n",
       "  <thead>\n",
       "    <tr style=\"text-align: right;\">\n",
       "      <th></th>\n",
       "      <th>eu_sales</th>\n",
       "    </tr>\n",
       "    <tr>\n",
       "      <th>platform_company</th>\n",
       "      <th></th>\n",
       "    </tr>\n",
       "  </thead>\n",
       "  <tbody>\n",
       "    <tr>\n",
       "      <th>Sony</th>\n",
       "      <td>159.11</td>\n",
       "    </tr>\n",
       "    <tr>\n",
       "      <th>Microsoft</th>\n",
       "      <td>61.74</td>\n",
       "    </tr>\n",
       "    <tr>\n",
       "      <th>Nintendo</th>\n",
       "      <td>31.86</td>\n",
       "    </tr>\n",
       "    <tr>\n",
       "      <th>Unknown-PC</th>\n",
       "      <td>17.97</td>\n",
       "    </tr>\n",
       "  </tbody>\n",
       "</table>\n",
       "</div>"
      ],
      "text/plain": [
       "                  eu_sales\n",
       "platform_company          \n",
       "Sony                159.11\n",
       "Microsoft            61.74\n",
       "Nintendo             31.86\n",
       "Unknown-PC           17.97"
      ]
     },
     "metadata": {},
     "output_type": "display_data"
    },
    {
     "data": {
      "text/html": [
       "<div>\n",
       "<style scoped>\n",
       "    .dataframe tbody tr th:only-of-type {\n",
       "        vertical-align: middle;\n",
       "    }\n",
       "\n",
       "    .dataframe tbody tr th {\n",
       "        vertical-align: top;\n",
       "    }\n",
       "\n",
       "    .dataframe thead th {\n",
       "        text-align: right;\n",
       "    }\n",
       "</style>\n",
       "<table border=\"1\" class=\"dataframe\">\n",
       "  <thead>\n",
       "    <tr style=\"text-align: right;\">\n",
       "      <th></th>\n",
       "      <th>jp_sales</th>\n",
       "    </tr>\n",
       "    <tr>\n",
       "      <th>platform_company</th>\n",
       "      <th></th>\n",
       "    </tr>\n",
       "  </thead>\n",
       "  <tbody>\n",
       "    <tr>\n",
       "      <th>Nintendo</th>\n",
       "      <td>51.55</td>\n",
       "    </tr>\n",
       "    <tr>\n",
       "      <th>Sony</th>\n",
       "      <td>41.14</td>\n",
       "    </tr>\n",
       "    <tr>\n",
       "      <th>Microsoft</th>\n",
       "      <td>0.40</td>\n",
       "    </tr>\n",
       "    <tr>\n",
       "      <th>Unknown-PC</th>\n",
       "      <td>0.00</td>\n",
       "    </tr>\n",
       "  </tbody>\n",
       "</table>\n",
       "</div>"
      ],
      "text/plain": [
       "                  jp_sales\n",
       "platform_company          \n",
       "Nintendo             51.55\n",
       "Sony                 41.14\n",
       "Microsoft             0.40\n",
       "Unknown-PC            0.00"
      ]
     },
     "metadata": {},
     "output_type": "display_data"
    }
   ],
   "source": [
    "for region in regions:\n",
    "    display(games.pivot_table(index='platform_company',values=region,aggfunc='sum').sort_values(by=region,ascending=False).head())"
   ]
  },
  {
   "cell_type": "markdown",
   "id": "7a79ac4e",
   "metadata": {},
   "source": [
    "- La compañía más popular en Norteamérica es Sony.\n",
    "- La compañía más popular en Europa es Sony.\n",
    "- La compañía más popular en Japón es Nintendo."
   ]
  },
  {
   "cell_type": "code",
   "execution_count": 125,
   "id": "a3911847",
   "metadata": {},
   "outputs": [
    {
     "data": {
      "text/html": [
       "<div>\n",
       "<style scoped>\n",
       "    .dataframe tbody tr th:only-of-type {\n",
       "        vertical-align: middle;\n",
       "    }\n",
       "\n",
       "    .dataframe tbody tr th {\n",
       "        vertical-align: top;\n",
       "    }\n",
       "\n",
       "    .dataframe thead th {\n",
       "        text-align: right;\n",
       "    }\n",
       "</style>\n",
       "<table border=\"1\" class=\"dataframe\">\n",
       "  <thead>\n",
       "    <tr style=\"text-align: right;\">\n",
       "      <th></th>\n",
       "      <th>na_sales</th>\n",
       "    </tr>\n",
       "    <tr>\n",
       "      <th>genre</th>\n",
       "      <th></th>\n",
       "    </tr>\n",
       "  </thead>\n",
       "  <tbody>\n",
       "    <tr>\n",
       "      <th>shooter</th>\n",
       "      <td>79.02</td>\n",
       "    </tr>\n",
       "    <tr>\n",
       "      <th>action</th>\n",
       "      <td>72.53</td>\n",
       "    </tr>\n",
       "    <tr>\n",
       "      <th>sports</th>\n",
       "      <td>46.13</td>\n",
       "    </tr>\n",
       "    <tr>\n",
       "      <th>role-playing</th>\n",
       "      <td>33.47</td>\n",
       "    </tr>\n",
       "    <tr>\n",
       "      <th>misc</th>\n",
       "      <td>15.05</td>\n",
       "    </tr>\n",
       "  </tbody>\n",
       "</table>\n",
       "</div>"
      ],
      "text/plain": [
       "              na_sales\n",
       "genre                 \n",
       "shooter          79.02\n",
       "action           72.53\n",
       "sports           46.13\n",
       "role-playing     33.47\n",
       "misc             15.05"
      ]
     },
     "metadata": {},
     "output_type": "display_data"
    },
    {
     "data": {
      "text/html": [
       "<div>\n",
       "<style scoped>\n",
       "    .dataframe tbody tr th:only-of-type {\n",
       "        vertical-align: middle;\n",
       "    }\n",
       "\n",
       "    .dataframe tbody tr th {\n",
       "        vertical-align: top;\n",
       "    }\n",
       "\n",
       "    .dataframe thead th {\n",
       "        text-align: right;\n",
       "    }\n",
       "</style>\n",
       "<table border=\"1\" class=\"dataframe\">\n",
       "  <thead>\n",
       "    <tr style=\"text-align: right;\">\n",
       "      <th></th>\n",
       "      <th>eu_sales</th>\n",
       "    </tr>\n",
       "    <tr>\n",
       "      <th>genre</th>\n",
       "      <th></th>\n",
       "    </tr>\n",
       "  </thead>\n",
       "  <tbody>\n",
       "    <tr>\n",
       "      <th>action</th>\n",
       "      <td>74.68</td>\n",
       "    </tr>\n",
       "    <tr>\n",
       "      <th>shooter</th>\n",
       "      <td>65.52</td>\n",
       "    </tr>\n",
       "    <tr>\n",
       "      <th>sports</th>\n",
       "      <td>45.73</td>\n",
       "    </tr>\n",
       "    <tr>\n",
       "      <th>role-playing</th>\n",
       "      <td>28.17</td>\n",
       "    </tr>\n",
       "    <tr>\n",
       "      <th>racing</th>\n",
       "      <td>14.13</td>\n",
       "    </tr>\n",
       "  </tbody>\n",
       "</table>\n",
       "</div>"
      ],
      "text/plain": [
       "              eu_sales\n",
       "genre                 \n",
       "action           74.68\n",
       "shooter          65.52\n",
       "sports           45.73\n",
       "role-playing     28.17\n",
       "racing           14.13"
      ]
     },
     "metadata": {},
     "output_type": "display_data"
    },
    {
     "data": {
      "text/html": [
       "<div>\n",
       "<style scoped>\n",
       "    .dataframe tbody tr th:only-of-type {\n",
       "        vertical-align: middle;\n",
       "    }\n",
       "\n",
       "    .dataframe tbody tr th {\n",
       "        vertical-align: top;\n",
       "    }\n",
       "\n",
       "    .dataframe thead th {\n",
       "        text-align: right;\n",
       "    }\n",
       "</style>\n",
       "<table border=\"1\" class=\"dataframe\">\n",
       "  <thead>\n",
       "    <tr style=\"text-align: right;\">\n",
       "      <th></th>\n",
       "      <th>jp_sales</th>\n",
       "    </tr>\n",
       "    <tr>\n",
       "      <th>genre</th>\n",
       "      <th></th>\n",
       "    </tr>\n",
       "  </thead>\n",
       "  <tbody>\n",
       "    <tr>\n",
       "      <th>role-playing</th>\n",
       "      <td>31.16</td>\n",
       "    </tr>\n",
       "    <tr>\n",
       "      <th>action</th>\n",
       "      <td>29.58</td>\n",
       "    </tr>\n",
       "    <tr>\n",
       "      <th>fighting</th>\n",
       "      <td>6.37</td>\n",
       "    </tr>\n",
       "    <tr>\n",
       "      <th>misc</th>\n",
       "      <td>5.61</td>\n",
       "    </tr>\n",
       "    <tr>\n",
       "      <th>shooter</th>\n",
       "      <td>4.87</td>\n",
       "    </tr>\n",
       "  </tbody>\n",
       "</table>\n",
       "</div>"
      ],
      "text/plain": [
       "              jp_sales\n",
       "genre                 \n",
       "role-playing     31.16\n",
       "action           29.58\n",
       "fighting          6.37\n",
       "misc              5.61\n",
       "shooter           4.87"
      ]
     },
     "metadata": {},
     "output_type": "display_data"
    }
   ],
   "source": [
    "for region in regions:\n",
    "    display(games.pivot_table(index='genre',values=region,aggfunc='sum').sort_values(by=region,ascending=False).head())"
   ]
  },
  {
   "cell_type": "markdown",
   "id": "72ff8847",
   "metadata": {},
   "source": [
    "- Los géneros más populares en Norteamérica son shooter y acción.\n",
    "- El género más popular en Europa es la acción, seguido de shooter.\n",
    "- El género más popular en Japón es el role-playing y luego el de acción."
   ]
  },
  {
   "cell_type": "code",
   "execution_count": 126,
   "id": "d42f69fb",
   "metadata": {},
   "outputs": [
    {
     "data": {
      "text/html": [
       "<div>\n",
       "<style scoped>\n",
       "    .dataframe tbody tr th:only-of-type {\n",
       "        vertical-align: middle;\n",
       "    }\n",
       "\n",
       "    .dataframe tbody tr th {\n",
       "        vertical-align: top;\n",
       "    }\n",
       "\n",
       "    .dataframe thead th {\n",
       "        text-align: right;\n",
       "    }\n",
       "</style>\n",
       "<table border=\"1\" class=\"dataframe\">\n",
       "  <thead>\n",
       "    <tr style=\"text-align: right;\">\n",
       "      <th></th>\n",
       "      <th>na_sales</th>\n",
       "    </tr>\n",
       "    <tr>\n",
       "      <th>rating</th>\n",
       "      <th></th>\n",
       "    </tr>\n",
       "  </thead>\n",
       "  <tbody>\n",
       "    <tr>\n",
       "      <th>M</th>\n",
       "      <td>96.42</td>\n",
       "    </tr>\n",
       "    <tr>\n",
       "      <th>E</th>\n",
       "      <td>50.74</td>\n",
       "    </tr>\n",
       "    <tr>\n",
       "      <th>T</th>\n",
       "      <td>38.95</td>\n",
       "    </tr>\n",
       "    <tr>\n",
       "      <th>E10+</th>\n",
       "      <td>33.23</td>\n",
       "    </tr>\n",
       "  </tbody>\n",
       "</table>\n",
       "</div>"
      ],
      "text/plain": [
       "        na_sales\n",
       "rating          \n",
       "M          96.42\n",
       "E          50.74\n",
       "T          38.95\n",
       "E10+       33.23"
      ]
     },
     "metadata": {},
     "output_type": "display_data"
    },
    {
     "data": {
      "text/html": [
       "<div>\n",
       "<style scoped>\n",
       "    .dataframe tbody tr th:only-of-type {\n",
       "        vertical-align: middle;\n",
       "    }\n",
       "\n",
       "    .dataframe tbody tr th {\n",
       "        vertical-align: top;\n",
       "    }\n",
       "\n",
       "    .dataframe thead th {\n",
       "        text-align: right;\n",
       "    }\n",
       "</style>\n",
       "<table border=\"1\" class=\"dataframe\">\n",
       "  <thead>\n",
       "    <tr style=\"text-align: right;\">\n",
       "      <th></th>\n",
       "      <th>eu_sales</th>\n",
       "    </tr>\n",
       "    <tr>\n",
       "      <th>rating</th>\n",
       "      <th></th>\n",
       "    </tr>\n",
       "  </thead>\n",
       "  <tbody>\n",
       "    <tr>\n",
       "      <th>M</th>\n",
       "      <td>93.44</td>\n",
       "    </tr>\n",
       "    <tr>\n",
       "      <th>E</th>\n",
       "      <td>58.06</td>\n",
       "    </tr>\n",
       "    <tr>\n",
       "      <th>T</th>\n",
       "      <td>34.07</td>\n",
       "    </tr>\n",
       "    <tr>\n",
       "      <th>E10+</th>\n",
       "      <td>26.16</td>\n",
       "    </tr>\n",
       "  </tbody>\n",
       "</table>\n",
       "</div>"
      ],
      "text/plain": [
       "        eu_sales\n",
       "rating          \n",
       "M          93.44\n",
       "E          58.06\n",
       "T          34.07\n",
       "E10+       26.16"
      ]
     },
     "metadata": {},
     "output_type": "display_data"
    },
    {
     "data": {
      "text/html": [
       "<div>\n",
       "<style scoped>\n",
       "    .dataframe tbody tr th:only-of-type {\n",
       "        vertical-align: middle;\n",
       "    }\n",
       "\n",
       "    .dataframe tbody tr th {\n",
       "        vertical-align: top;\n",
       "    }\n",
       "\n",
       "    .dataframe thead th {\n",
       "        text-align: right;\n",
       "    }\n",
       "</style>\n",
       "<table border=\"1\" class=\"dataframe\">\n",
       "  <thead>\n",
       "    <tr style=\"text-align: right;\">\n",
       "      <th></th>\n",
       "      <th>jp_sales</th>\n",
       "    </tr>\n",
       "    <tr>\n",
       "      <th>rating</th>\n",
       "      <th></th>\n",
       "    </tr>\n",
       "  </thead>\n",
       "  <tbody>\n",
       "    <tr>\n",
       "      <th>T</th>\n",
       "      <td>14.78</td>\n",
       "    </tr>\n",
       "    <tr>\n",
       "      <th>E</th>\n",
       "      <td>8.94</td>\n",
       "    </tr>\n",
       "    <tr>\n",
       "      <th>M</th>\n",
       "      <td>8.01</td>\n",
       "    </tr>\n",
       "    <tr>\n",
       "      <th>E10+</th>\n",
       "      <td>4.46</td>\n",
       "    </tr>\n",
       "  </tbody>\n",
       "</table>\n",
       "</div>"
      ],
      "text/plain": [
       "        jp_sales\n",
       "rating          \n",
       "T          14.78\n",
       "E           8.94\n",
       "M           8.01\n",
       "E10+        4.46"
      ]
     },
     "metadata": {},
     "output_type": "display_data"
    }
   ],
   "source": [
    "for region in regions:\n",
    "    display(games.pivot_table(index='rating',values=region,aggfunc='sum').sort_values(by=region,ascending=False).head())"
   ]
  },
  {
   "cell_type": "markdown",
   "id": "56f6fdd5",
   "metadata": {},
   "source": [
    "- El rating más popular en Norteamérica es M\n",
    "- El rating más popular en Europa es M\n",
    "- El rating más popular en Japón es T"
   ]
  },
  {
   "cell_type": "code",
   "execution_count": 127,
   "id": "65d9257f",
   "metadata": {},
   "outputs": [
    {
     "data": {
      "image/png": "[encoded data removed]",
      "text/plain": [
       "<Figure size 1728x432 with 4 Axes>"
      ]
     },
     "metadata": {
      "needs_background": "light"
     },
     "output_type": "display_data"
    },
    {
     "data": {
      "image/png": "[encoded data removed]",
      "text/plain": [
       "<Figure size 1728x432 with 4 Axes>"
      ]
     },
     "metadata": {
      "needs_background": "light"
     },
     "output_type": "display_data"
    },
    {
     "data": {
      "image/png": "[encoded data removed]",
      "text/plain": [
       "<Figure size 1728x432 with 4 Axes>"
      ]
     },
     "metadata": {
      "needs_background": "light"
     },
     "output_type": "display_data"
    }
   ],
   "source": [
    "for region in regions:\n",
    "    fig, axes = plt.subplots(1, 4, figsize=(24, 6))\n",
    "    for pivot, ax in zip(list(['platform','genre','rating', 'platform_company']),axes.flatten()[:4]):\n",
    "        df_region = games.pivot_table(index=pivot, values=region, aggfunc='sum').sort_values(by=region, ascending=False).reset_index().head()\n",
    "        sns.barplot(data=df_region, x=pivot, y=region, ax=ax)\n",
    "        fig.suptitle(region, fontsize=20)\n",
    "    plt.show()"
   ]
  },
  {
   "cell_type": "markdown",
   "id": "ade07904",
   "metadata": {},
   "source": [
    "CONCLUSIONES\n",
    "- La PS4 es la plataforma más popular en EE. UU. y Europa, mientras que la 3DS es la plataforma más popular en Japón.\n",
    "- Japón tiene sus propios gustos únicos en cuanto a videojuegos, con el género de rol siendo el más popular.\n",
    "- Nintendo es la empresa más popular en Japón, mientras que Sony es la empresa más popular en EE. UU. y Europa.\n",
    "- EE. UU. y Europa tienen gustos más similares, con los juegos de acción y las clasificaciones M siendo los más populares.\n",
    "\n",
    "\n",
    "\n",
    "\n",
    "\n",
    "- Es importante tener en cuenta las diferentes culturas y gustos de los jugadores a la hora de crear campañas publicitarias para videojuegos. También es importante tener en cuenta las clasificaciones ESRB, ya que pueden afectar a las ventas en las distintas regiones."
   ]
  },
  {
   "cell_type": "markdown",
   "id": "1f460bed",
   "metadata": {},
   "source": [
    "# 5. Prueba de Hipótesis"
   ]
  },
  {
   "cell_type": "markdown",
   "id": "6456774b",
   "metadata": {},
   "source": [
    "- Voy a probar la primera hipótesis de que las puntuaciones medias de los usuarios de las plataformas Xbox One y PC son las mismas."
   ]
  },
  {
   "cell_type": "markdown",
   "id": "244a864d",
   "metadata": {},
   "source": [
    "- Necesito asegurarme de que las puntuaciones de ambas plataformas tengan una variabilidad similar. Para ello, voy a utilizar la prueba de Levene. Si la prueba nos da un valor p mayor que 0,05, entonces podré seguir adelante y ver si las puntuaciones son las mismas. Si el valor p es menor que 0,05, entonces no podré seguir adelante ni ver si las puntuaciones son las mismas."
   ]
  },
  {
   "cell_type": "code",
   "execution_count": 153,
   "metadata": {},
   "outputs": [],
   "source": [
    "alpha = .05\n",
    "\n",
    "prueba_xone = games.loc[games['platform']=='xone']['user_score'].dropna()\n",
    "prueba_pc = games.loc[games['platform']=='pc']['user_score'].dropna()"
   ]
  },
  {
   "cell_type": "code",
   "execution_count": 154,
   "metadata": {},
   "outputs": [
    {
     "data": {
      "text/plain": [
       "LeveneResult(statistic=8.247858938786841, pvalue=0.004386298510089398)"
      ]
     },
     "execution_count": 154,
     "metadata": {},
     "output_type": "execute_result"
    }
   ],
   "source": [
    "st.levene(prueba_xone, prueba_pc, center='mean')"
   ]
  },
  {
   "cell_type": "markdown",
   "id": "f9764cdf",
   "metadata": {},
   "source": [
    "- La prueba no encontró ninguna gran diferencia en la dispersión de los datos entre los dos grupos. Por lo tanto, puedo suponer que los dos grupos tienen la misma varianza."
   ]
  },
  {
   "cell_type": "code",
   "execution_count": 157,
   "metadata": {},
   "outputs": [
    {
     "name": "stdout",
     "output_type": "stream",
     "text": [
      "Prueba Xbox one media:  6.594545454545456\n",
      "Prueba Pc media:  6.298360655737705\n",
      "p-value:  0.10450507919348415\n",
      "No se puede rechazar la hipótesis nula\n"
     ]
    }
   ],
   "source": [
    "results = st.ttest_ind(prueba_xone,prueba_pc, equal_var=True)\n",
    "\n",
    "print('Prueba Xbox one media: ', prueba_xone.mean())\n",
    "print('Prueba Pc media: ', prueba_pc.mean())\n",
    "print('p-value: ', results.pvalue)\n",
    "\n",
    "if (results.pvalue < alpha):\n",
    "        print(\"Rechazamos la hipótesis nula\")\n",
    "else:\n",
    "        print(\"No se puede rechazar la hipótesis nula\")"
   ]
  },
  {
   "cell_type": "markdown",
   "id": "354edf3a",
   "metadata": {},
   "source": [
    "- En función de los resultados de una prueba estadística, podemos decir con un 95% de confianza que la calificación media de los usuarios de Xbox One es igual a la calificación media de los usuarios de PC."
   ]
  },
  {
   "cell_type": "markdown",
   "metadata": {},
   "source": [
    "- El p-value de la prueba es mayor que 0.05, lo que significa que no hay suficiente evidencia para rechazar la hipótesis nula, que es que las calificaciones medias son iguales. En otras palabras, las calificaciones medias de los usuarios de Xbox One y PC son estadísticamente indistinguibles."
   ]
  },
  {
   "cell_type": "markdown",
   "id": "946d5176",
   "metadata": {},
   "source": [
    "# Hipótesis 2"
   ]
  },
  {
   "cell_type": "markdown",
   "id": "da26018f",
   "metadata": {},
   "source": [
    "- Quiero ver si las puntuaciones que los usuarios dan a los juegos de acción y deportes son diferentes. Para ello, voy a crear dos conjuntos de datos: uno con los datos de los juegos de acción y otro con los datos de los juegos de deportes."
   ]
  },
  {
   "cell_type": "code",
   "execution_count": 158,
   "id": "37c9613a",
   "metadata": {},
   "outputs": [],
   "source": [
    "alpha = 0.05\n",
    "\n",
    "prueba_action = games.loc[games['genre']=='action']['user_score'].dropna()\n",
    "prueba_sports = games.loc[games['genre']=='sports']['user_score'].dropna()"
   ]
  },
  {
   "cell_type": "code",
   "execution_count": 159,
   "metadata": {},
   "outputs": [
    {
     "data": {
      "text/plain": [
       "LeveneResult(statistic=25.153910151528862, pvalue=7.810758187558722e-07)"
      ]
     },
     "execution_count": 159,
     "metadata": {},
     "output_type": "execute_result"
    }
   ],
   "source": [
    "st.levene(prueba_action, prueba_sports, center='mean')"
   ]
  },
  {
   "cell_type": "markdown",
   "id": "b73dec46",
   "metadata": {},
   "source": [
    "- La prueba mostró que los dos grupos tienen varianzas diferentes. Básicamente, la dispersión de los datos es diferente en los dos grupos."
   ]
  },
  {
   "cell_type": "code",
   "execution_count": 161,
   "id": "34d3b204",
   "metadata": {},
   "outputs": [
    {
     "name": "stdout",
     "output_type": "stream",
     "text": [
      "Prueba Action Media:  6.760606060606061\n",
      "Prueba Sports Media:  5.2251968503937\n",
      "p-value:  1.1825550382644557e-14\n",
      "Rechazamos la hipótesis nula\n"
     ]
    }
   ],
   "source": [
    "results = st.ttest_ind(prueba_action,prueba_sports, equal_var=False)\n",
    "\n",
    "print('Prueba Action Media: ', prueba_action.mean())\n",
    "print('Prueba Sports Media: ', prueba_sports.mean())\n",
    "print('p-value: ', results.pvalue)\n",
    "\n",
    "if (results.pvalue < alpha):\n",
    "        print(\"Rechazamos la hipótesis nula\")\n",
    "else:\n",
    "        print(\"No se puede rechazar la hipótesis nula\")"
   ]
  },
  {
   "cell_type": "markdown",
   "id": "4b50ff50",
   "metadata": {},
   "source": [
    "- La prueba de Levene mostró que los dos grupos tienen la misma varianza, lo que significa que la dispersión de los datos es similar en los dos grupos.\n",
    "- Con un 95% de confianza, puedo rechazar la hipótesis nula\n",
    "- La calificación media de los usuarios de los juegos de acción no es la misma que la calificación media de los usuarios de los juegos deportivos. En otras palabras, los juegos de acción tienen una calificación media de los usuarios más alta que los juegos deportivos."
   ]
  },
  {
   "cell_type": "markdown",
   "metadata": {},
   "source": [
    "<div class=\"alert alert-info\" role=\"alert\">\n",
    "    \n",
    "<b>Comentario del estudiante</b> <a class=\"tocSkip\"></a>\n",
    "    \n",
    " - Gracias por las observaciones, ya he hecho las correciones requeridas.\n",
    "</div>"
   ]
  },
  {
   "cell_type": "markdown",
   "id": "59312765",
   "metadata": {},
   "source": [
    "# Conclusiones Finales"
   ]
  },
  {
   "cell_type": "markdown",
   "id": "f13d1011",
   "metadata": {},
   "source": [
    "- El objetivo de este proyecto era identificar patrones que determinen si un juego tiene éxito o no. Esto me permitiría identificar posibles grandes ganadores y planificar campañas publicitarias.\n",
    "\n",
    "- Comencé el proyecto analizando los datos disponibles. Me di cuenta de que había algunos datos faltantes, como el género de algunos juegos. Para completar estos datos, utilicé un algoritmo de aprendizaje automático. Después de completar los datos, pude realizar un análisis más completo.\n",
    "\n",
    "- Identifiqué los géneros más exitosos en términos de ventas. Los géneros más exitosos fueron de acción, deportes y de aventura. También identifiqué las plataformas más exitosas, no solo en NA, sino en Europa y Japón.\n",
    "\n",
    "- Luego, miré la relación entre las puntuaciones de la crítica y de los usuarios y las ventas totales. No encontré una relación muy fuerte entre estas variables. Esto significa que las puntuaciones de la crítica y de los usuarios no son un buen predictor de las ventas totales.\n",
    "\n",
    "- Finalmente, creé perfiles de usuarios para los mercados norteamericano, europeo y japonés. Estos perfiles me permitieron ver cómo los usuarios de diferentes regiones valoran los videojuegos.\n",
    "\n",
    "- Los patrones que determinan si un juego tiene éxito o no son la combinación de plataforma, género y clasificación en el mercado regional.\n",
    "\n",
    "- En Japón, los juegos de rol populares para adolescentes con clasificación T son exitosos.\n",
    "En América del Norte, los juegos de disparos y acción populares para adultos con clasificación M son exitosos.\n",
    "En Europa, los juegos de acción populares para adultos con clasificación M son exitosos.\n",
    "- Para la campaña publicitaria, es mejor enfocarse en desarrollar juegos que se encuentren en la mitad de su ciclo de vida (4 a 5 años), del popular género de acción, clasificación M y última consola/plataforma.\n",
    "\n",
    "- Las pruebas de hipótesis que hice confirmaron mis suposiciones iniciales. No pude refutar la hipótesis de que las puntuaciones medias de los usuarios de Xbox One y PC son las mismas. Sin embargo, la hipótesis de que las puntuaciones medias de los usuarios de los géneros acción y deportes son diferentes se mantuvo.\n",
    "\n",
    "- Utilicé únicamente los datos filtrados posteriores al 2014 para hacer el perfilamiento y las pruebas de hipótesis."
   ]
  }
 ],
 "metadata": {
  "kernelspec": {
   "display_name": "Python 3 (ipykernel)",
   "language": "python",
   "name": "python3"
  },
  "language_info": {
   "codemirror_mode": {
    "name": "ipython",
    "version": 3
   },
   "file_extension": ".py",
   "mimetype": "text/x-python",
   "name": "python",
   "nbconvert_exporter": "python",
   "pygments_lexer": "ipython3",
   "version": "3.9.19"
  },
  "toc": {
   "base_numbering": 1,
   "nav_menu": {},
   "number_sections": true,
   "sideBar": true,
   "skip_h1_title": true,
   "title_cell": "Table of Contents",
   "title_sidebar": "Contents",
   "toc_cell": false,
   "toc_position": {},
   "toc_section_display": true,
   "toc_window_display": false
  }
 },
 "nbformat": 4,
 "nbformat_minor": 2
}
